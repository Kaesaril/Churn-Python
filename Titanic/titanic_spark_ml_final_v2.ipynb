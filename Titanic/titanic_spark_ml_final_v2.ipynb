{
  "cells": [
    {
      "cell_type": "markdown",
      "metadata": {
        "papermill": {
          "duration": 0.031992,
          "end_time": "2020-08-25T11:35:27.726592",
          "exception": false,
          "start_time": "2020-08-25T11:35:27.694600",
          "status": "completed"
        },
        "tags": [],
        "id": "nQ438QpAJGkg"
      },
      "source": [
        "# **Introduction**\n",
        "In this notebook we will walkthrough detailed statistical analysis of Titanic data set along with Machine learning model implementation.\n",
        "\n",
        "Emplearemos algoritmos de clasificación para intentar estimar si una persona sobrevive o no al Titanic.\n",
        "\n",
        "The Titanic dataset, often referred to as \"titanic.csv,\" is a popular dataset used for teaching and practicing machine learning techniques. It contains data on passengers aboard the RMS Titanic, which famously sank after hitting an iceberg on its maiden voyage in 1912. The dataset typically includes various features (columns) that describe each passenger, along with a target variable indicating whether the passenger survived or not.\n",
        "\n",
        "Here are the common features found in the Titanic dataset:\n",
        "\n",
        "1. **PassengerId**: A unique identifier for each passenger.\n",
        "\n",
        "2. **Survived**: This is the target variable. It indicates whether a passenger survived (1) or not (0).\n",
        "\n",
        "3. **Pclass**: The ticket class of the passenger, which represents the socio-economic status. It's a categorical variable with three levels: 1st class, 2nd class, and 3rd class.\n",
        "\n",
        "4. **Name**: The name of the passenger. It includes the title as well (e.g., Mr., Mrs., Miss).\n",
        "\n",
        "5. **Sex**: The gender of the passenger, typically categorized as male or female.\n",
        "\n",
        "6. **Age**: The age of the passenger. It is represented as a numeric value. Note that this feature may contain missing values.\n",
        "\n",
        "7. **SibSp**: The number of siblings/spouses aboard the Titanic.\n",
        "\n",
        "8. **Parch**: The number of parents/children aboard the Titanic.\n",
        "\n",
        "9. **Ticket**: The ticket number of the passenger.\n",
        "\n",
        "10. **Fare**: The fare (ticket price) paid by the passenger.\n",
        "\n",
        "11. **Cabin**: The cabin number of the passenger. This feature may contain missing values.\n",
        "\n",
        "12. **Embarked**: The port of embarkation for the passenger. It's a categorical variable with three levels: C = Cherbourg, Q = Queenstown, S = Southampton.\n",
        "\n",
        "These features can be used to predict the likelihood of survival for passengers based on various characteristics such as their socio-economic status, age, gender, etc. Machine learning models can be trained on this dataset to predict whether a given passenger would have survived the Titanic disaster based on these features.\n"
      ]
    },
    {
      "cell_type": "code",
      "source": [
        "#to upload de dataset files\n",
        "from google.colab import files\n",
        "\n",
        "# Seleccionar archivos localmente\n",
        "uploaded = files.upload()"
      ],
      "metadata": {
        "colab": {
          "base_uri": "https://localhost:8080/",
          "height": 142
        },
        "id": "0_3HLFh2JLaJ",
        "outputId": "e64f8af1-5546-423b-d100-b0f6060e90e1"
      },
      "execution_count": 219,
      "outputs": [
        {
          "output_type": "display_data",
          "data": {
            "text/plain": [
              "<IPython.core.display.HTML object>"
            ],
            "text/html": [
              "\n",
              "     <input type=\"file\" id=\"files-b0a86651-1246-4c8b-b974-ff6679a20b1e\" name=\"files[]\" multiple disabled\n",
              "        style=\"border:none\" />\n",
              "     <output id=\"result-b0a86651-1246-4c8b-b974-ff6679a20b1e\">\n",
              "      Upload widget is only available when the cell has been executed in the\n",
              "      current browser session. Please rerun this cell to enable.\n",
              "      </output>\n",
              "      <script>// Copyright 2017 Google LLC\n",
              "//\n",
              "// Licensed under the Apache License, Version 2.0 (the \"License\");\n",
              "// you may not use this file except in compliance with the License.\n",
              "// You may obtain a copy of the License at\n",
              "//\n",
              "//      http://www.apache.org/licenses/LICENSE-2.0\n",
              "//\n",
              "// Unless required by applicable law or agreed to in writing, software\n",
              "// distributed under the License is distributed on an \"AS IS\" BASIS,\n",
              "// WITHOUT WARRANTIES OR CONDITIONS OF ANY KIND, either express or implied.\n",
              "// See the License for the specific language governing permissions and\n",
              "// limitations under the License.\n",
              "\n",
              "/**\n",
              " * @fileoverview Helpers for google.colab Python module.\n",
              " */\n",
              "(function(scope) {\n",
              "function span(text, styleAttributes = {}) {\n",
              "  const element = document.createElement('span');\n",
              "  element.textContent = text;\n",
              "  for (const key of Object.keys(styleAttributes)) {\n",
              "    element.style[key] = styleAttributes[key];\n",
              "  }\n",
              "  return element;\n",
              "}\n",
              "\n",
              "// Max number of bytes which will be uploaded at a time.\n",
              "const MAX_PAYLOAD_SIZE = 100 * 1024;\n",
              "\n",
              "function _uploadFiles(inputId, outputId) {\n",
              "  const steps = uploadFilesStep(inputId, outputId);\n",
              "  const outputElement = document.getElementById(outputId);\n",
              "  // Cache steps on the outputElement to make it available for the next call\n",
              "  // to uploadFilesContinue from Python.\n",
              "  outputElement.steps = steps;\n",
              "\n",
              "  return _uploadFilesContinue(outputId);\n",
              "}\n",
              "\n",
              "// This is roughly an async generator (not supported in the browser yet),\n",
              "// where there are multiple asynchronous steps and the Python side is going\n",
              "// to poll for completion of each step.\n",
              "// This uses a Promise to block the python side on completion of each step,\n",
              "// then passes the result of the previous step as the input to the next step.\n",
              "function _uploadFilesContinue(outputId) {\n",
              "  const outputElement = document.getElementById(outputId);\n",
              "  const steps = outputElement.steps;\n",
              "\n",
              "  const next = steps.next(outputElement.lastPromiseValue);\n",
              "  return Promise.resolve(next.value.promise).then((value) => {\n",
              "    // Cache the last promise value to make it available to the next\n",
              "    // step of the generator.\n",
              "    outputElement.lastPromiseValue = value;\n",
              "    return next.value.response;\n",
              "  });\n",
              "}\n",
              "\n",
              "/**\n",
              " * Generator function which is called between each async step of the upload\n",
              " * process.\n",
              " * @param {string} inputId Element ID of the input file picker element.\n",
              " * @param {string} outputId Element ID of the output display.\n",
              " * @return {!Iterable<!Object>} Iterable of next steps.\n",
              " */\n",
              "function* uploadFilesStep(inputId, outputId) {\n",
              "  const inputElement = document.getElementById(inputId);\n",
              "  inputElement.disabled = false;\n",
              "\n",
              "  const outputElement = document.getElementById(outputId);\n",
              "  outputElement.innerHTML = '';\n",
              "\n",
              "  const pickedPromise = new Promise((resolve) => {\n",
              "    inputElement.addEventListener('change', (e) => {\n",
              "      resolve(e.target.files);\n",
              "    });\n",
              "  });\n",
              "\n",
              "  const cancel = document.createElement('button');\n",
              "  inputElement.parentElement.appendChild(cancel);\n",
              "  cancel.textContent = 'Cancel upload';\n",
              "  const cancelPromise = new Promise((resolve) => {\n",
              "    cancel.onclick = () => {\n",
              "      resolve(null);\n",
              "    };\n",
              "  });\n",
              "\n",
              "  // Wait for the user to pick the files.\n",
              "  const files = yield {\n",
              "    promise: Promise.race([pickedPromise, cancelPromise]),\n",
              "    response: {\n",
              "      action: 'starting',\n",
              "    }\n",
              "  };\n",
              "\n",
              "  cancel.remove();\n",
              "\n",
              "  // Disable the input element since further picks are not allowed.\n",
              "  inputElement.disabled = true;\n",
              "\n",
              "  if (!files) {\n",
              "    return {\n",
              "      response: {\n",
              "        action: 'complete',\n",
              "      }\n",
              "    };\n",
              "  }\n",
              "\n",
              "  for (const file of files) {\n",
              "    const li = document.createElement('li');\n",
              "    li.append(span(file.name, {fontWeight: 'bold'}));\n",
              "    li.append(span(\n",
              "        `(${file.type || 'n/a'}) - ${file.size} bytes, ` +\n",
              "        `last modified: ${\n",
              "            file.lastModifiedDate ? file.lastModifiedDate.toLocaleDateString() :\n",
              "                                    'n/a'} - `));\n",
              "    const percent = span('0% done');\n",
              "    li.appendChild(percent);\n",
              "\n",
              "    outputElement.appendChild(li);\n",
              "\n",
              "    const fileDataPromise = new Promise((resolve) => {\n",
              "      const reader = new FileReader();\n",
              "      reader.onload = (e) => {\n",
              "        resolve(e.target.result);\n",
              "      };\n",
              "      reader.readAsArrayBuffer(file);\n",
              "    });\n",
              "    // Wait for the data to be ready.\n",
              "    let fileData = yield {\n",
              "      promise: fileDataPromise,\n",
              "      response: {\n",
              "        action: 'continue',\n",
              "      }\n",
              "    };\n",
              "\n",
              "    // Use a chunked sending to avoid message size limits. See b/62115660.\n",
              "    let position = 0;\n",
              "    do {\n",
              "      const length = Math.min(fileData.byteLength - position, MAX_PAYLOAD_SIZE);\n",
              "      const chunk = new Uint8Array(fileData, position, length);\n",
              "      position += length;\n",
              "\n",
              "      const base64 = btoa(String.fromCharCode.apply(null, chunk));\n",
              "      yield {\n",
              "        response: {\n",
              "          action: 'append',\n",
              "          file: file.name,\n",
              "          data: base64,\n",
              "        },\n",
              "      };\n",
              "\n",
              "      let percentDone = fileData.byteLength === 0 ?\n",
              "          100 :\n",
              "          Math.round((position / fileData.byteLength) * 100);\n",
              "      percent.textContent = `${percentDone}% done`;\n",
              "\n",
              "    } while (position < fileData.byteLength);\n",
              "  }\n",
              "\n",
              "  // All done.\n",
              "  yield {\n",
              "    response: {\n",
              "      action: 'complete',\n",
              "    }\n",
              "  };\n",
              "}\n",
              "\n",
              "scope.google = scope.google || {};\n",
              "scope.google.colab = scope.google.colab || {};\n",
              "scope.google.colab._files = {\n",
              "  _uploadFiles,\n",
              "  _uploadFilesContinue,\n",
              "};\n",
              "})(self);\n",
              "</script> "
            ]
          },
          "metadata": {}
        },
        {
          "output_type": "stream",
          "name": "stdout",
          "text": [
            "Saving gender_submission.csv to gender_submission (1).csv\n",
            "Saving test.csv to test (1).csv\n",
            "Saving train.csv to train (1).csv\n"
          ]
        }
      ]
    },
    {
      "cell_type": "markdown",
      "metadata": {
        "papermill": {
          "duration": 0.021031,
          "end_time": "2020-08-25T11:35:27.768214",
          "exception": false,
          "start_time": "2020-08-25T11:35:27.747183",
          "status": "completed"
        },
        "tags": [],
        "id": "PPhsGm8zJGki"
      },
      "source": [
        "# **Table of Contents**\n",
        "* [Setting up the environment](#1)\n",
        "* [Importing Libraries](#2)\n",
        "* [Reading the data](#3)\n",
        "* [Exploratory Data Analysis](#4)\n",
        "* [Feature Engineering](#5)\n",
        "* [Spark ML Models](#6)\n",
        "* [AutoML Models](#7)\n"
      ]
    },
    {
      "cell_type": "markdown",
      "metadata": {
        "papermill": {
          "duration": 0.02335,
          "end_time": "2020-08-25T11:35:27.811257",
          "exception": false,
          "start_time": "2020-08-25T11:35:27.787907",
          "status": "completed"
        },
        "tags": [],
        "id": "fzjRyjPpJGki"
      },
      "source": [
        "<a id='1'></a>\n",
        "# **Setting up the environment**\n",
        "Before starting we first have to change the java version of the notebook because if we will use version 11 which is already installed then we will get some errors and we will not be able to use pyspark properly. So we will delete java version 11 and install java version 8."
      ]
    },
    {
      "cell_type": "markdown",
      "metadata": {
        "_kg_hide-output": true,
        "execution": {
          "iopub.execute_input": "2020-08-25T11:35:27.856886Z",
          "iopub.status.busy": "2020-08-25T11:35:27.856061Z",
          "iopub.status.idle": "2020-08-25T11:35:34.078457Z",
          "shell.execute_reply": "2020-08-25T11:35:34.077475Z"
        },
        "papermill": {
          "duration": 6.247577,
          "end_time": "2020-08-25T11:35:34.078619",
          "exception": false,
          "start_time": "2020-08-25T11:35:27.831042",
          "status": "completed"
        },
        "tags": [],
        "id": "ZZYqqjTzJGki"
      },
      "source": [
        "! apt remove -y openjdk-11-jre-headless"
      ]
    },
    {
      "cell_type": "markdown",
      "metadata": {
        "_kg_hide-output": true,
        "execution": {
          "iopub.execute_input": "2020-08-25T11:35:34.134031Z",
          "iopub.status.busy": "2020-08-25T11:35:34.131062Z",
          "iopub.status.idle": "2020-08-25T11:35:39.897935Z",
          "shell.execute_reply": "2020-08-25T11:35:39.897194Z"
        },
        "papermill": {
          "duration": 5.797057,
          "end_time": "2020-08-25T11:35:39.898084",
          "exception": false,
          "start_time": "2020-08-25T11:35:34.101027",
          "status": "completed"
        },
        "tags": [],
        "id": "n9tD4PoIJGki"
      },
      "source": [
        "!apt-get update"
      ]
    },
    {
      "cell_type": "markdown",
      "metadata": {
        "_kg_hide-output": true,
        "execution": {
          "iopub.execute_input": "2020-08-25T11:35:39.964556Z",
          "iopub.status.busy": "2020-08-25T11:35:39.960823Z",
          "iopub.status.idle": "2020-08-25T11:36:05.781287Z",
          "shell.execute_reply": "2020-08-25T11:36:05.780409Z"
        },
        "papermill": {
          "duration": 25.853076,
          "end_time": "2020-08-25T11:36:05.781434",
          "exception": false,
          "start_time": "2020-08-25T11:35:39.928358",
          "status": "completed"
        },
        "tags": [],
        "id": "SMK17SdNJGki"
      },
      "source": [
        "!apt install -y openjdk-8-jdk openjdk-8-jre"
      ]
    },
    {
      "cell_type": "markdown",
      "metadata": {
        "papermill": {
          "duration": 0.034616,
          "end_time": "2020-08-25T11:36:05.851066",
          "exception": false,
          "start_time": "2020-08-25T11:36:05.816450",
          "status": "completed"
        },
        "tags": [],
        "id": "lTBjIGfxJGki"
      },
      "source": [
        "**If you get this error \"E: Failed to fetch http://archive.ubuntu.com/ubuntu/pool/main/p/pulseaudio/libpulse0_11.1-1ubuntu7.5_amd64.deb  404  Not Found [IP: 91.189.88.142 80]\" while installing java version 8 then run \"!apt-get update\" this command first like I did and then install jdk8.**"
      ]
    },
    {
      "cell_type": "code",
      "execution_count": 220,
      "metadata": {
        "execution": {
          "iopub.execute_input": "2020-08-25T11:36:05.927732Z",
          "iopub.status.busy": "2020-08-25T11:36:05.926557Z",
          "iopub.status.idle": "2020-08-25T11:36:06.729746Z",
          "shell.execute_reply": "2020-08-25T11:36:06.729114Z"
        },
        "papermill": {
          "duration": 0.843585,
          "end_time": "2020-08-25T11:36:06.729938",
          "exception": false,
          "start_time": "2020-08-25T11:36:05.886353",
          "status": "completed"
        },
        "tags": [],
        "colab": {
          "base_uri": "https://localhost:8080/"
        },
        "id": "GeTbyJ-8JGki",
        "outputId": "44a7e15b-9620-4536-805c-13037433af09"
      },
      "outputs": [
        {
          "output_type": "stream",
          "name": "stdout",
          "text": [
            "openjdk version \"11.0.22\" 2024-01-16\n",
            "OpenJDK Runtime Environment (build 11.0.22+7-post-Ubuntu-0ubuntu222.04.1)\n",
            "OpenJDK 64-Bit Server VM (build 11.0.22+7-post-Ubuntu-0ubuntu222.04.1, mixed mode, sharing)\n"
          ]
        }
      ],
      "source": [
        "!java -version"
      ]
    },
    {
      "cell_type": "markdown",
      "metadata": {
        "papermill": {
          "duration": 0.034272,
          "end_time": "2020-08-25T11:36:06.798948",
          "exception": false,
          "start_time": "2020-08-25T11:36:06.764676",
          "status": "completed"
        },
        "tags": [],
        "id": "W7IGVYU4JGkj"
      },
      "source": [
        "**After installing jdk8, we will now install pyspark.**"
      ]
    },
    {
      "cell_type": "code",
      "execution_count": 221,
      "metadata": {
        "execution": {
          "iopub.execute_input": "2020-08-25T11:36:06.874821Z",
          "iopub.status.busy": "2020-08-25T11:36:06.873944Z",
          "iopub.status.idle": "2020-08-25T11:36:59.736439Z",
          "shell.execute_reply": "2020-08-25T11:36:59.735688Z"
        },
        "papermill": {
          "duration": 52.903057,
          "end_time": "2020-08-25T11:36:59.736575",
          "exception": false,
          "start_time": "2020-08-25T11:36:06.833518",
          "status": "completed"
        },
        "tags": [],
        "colab": {
          "base_uri": "https://localhost:8080/"
        },
        "id": "eYu2W0bzJGkj",
        "outputId": "86c4a48e-883a-420b-de57-0b2b19f32846"
      },
      "outputs": [
        {
          "output_type": "stream",
          "name": "stdout",
          "text": [
            "Requirement already satisfied: pyspark in /usr/local/lib/python3.10/dist-packages (3.5.1)\n",
            "Requirement already satisfied: py4j==0.10.9.7 in /usr/local/lib/python3.10/dist-packages (from pyspark) (0.10.9.7)\n"
          ]
        }
      ],
      "source": [
        "!pip install pyspark"
      ]
    },
    {
      "cell_type": "markdown",
      "metadata": {
        "papermill": {
          "duration": 0.101205,
          "end_time": "2020-08-25T11:36:59.939859",
          "exception": false,
          "start_time": "2020-08-25T11:36:59.838654",
          "status": "completed"
        },
        "tags": [],
        "id": "Pk8nGiLWJGkj"
      },
      "source": [
        "<a id='2'></a>\n",
        "# **Importing Libraries**"
      ]
    },
    {
      "cell_type": "code",
      "execution_count": 222,
      "metadata": {
        "execution": {
          "iopub.execute_input": "2020-08-25T11:37:00.166129Z",
          "iopub.status.busy": "2020-08-25T11:37:00.165222Z",
          "iopub.status.idle": "2020-08-25T11:37:06.027323Z",
          "shell.execute_reply": "2020-08-25T11:37:06.026545Z"
        },
        "papermill": {
          "duration": 5.987537,
          "end_time": "2020-08-25T11:37:06.027476",
          "exception": false,
          "start_time": "2020-08-25T11:37:00.039939",
          "status": "completed"
        },
        "tags": [],
        "colab": {
          "base_uri": "https://localhost:8080/"
        },
        "id": "vXsBErceJGkj",
        "outputId": "9d27e7a9-c7dc-44d6-ec4b-f53512b8e854"
      },
      "outputs": [
        {
          "output_type": "stream",
          "name": "stderr",
          "text": [
            "/usr/local/lib/python3.10/dist-packages/pyspark/sql/context.py:113: FutureWarning: Deprecated in 3.0.0. Use SparkSession.builder.getOrCreate() instead.\n",
            "  warnings.warn(\n"
          ]
        }
      ],
      "source": [
        "import os\n",
        "import pandas as pd\n",
        "import numpy as np\n",
        "import re\n",
        "from pylab import *\n",
        "from pyspark.sql.functions import udf, concat, col, lit\n",
        "from pyspark import SparkConf, SparkContext\n",
        "from pyspark.sql import SparkSession, SQLContext\n",
        "from pyspark.sql.types import *\n",
        "import pyspark.sql.functions as F\n",
        "\n",
        "#Creating spark session\n",
        "sc = SparkContext.getOrCreate(SparkConf().setMaster(\"local[*]\"))\n",
        "from pyspark.sql import SparkSession\n",
        "spark = SparkSession \\\n",
        "    .builder \\\n",
        "    .getOrCreate()\n",
        "sqlContext = SQLContext(sc)\n",
        "\n",
        "from pyspark.ml.feature import StringIndexer\n",
        "from pyspark.ml.feature import VectorAssembler\n",
        "from pyspark.ml.feature import Normalizer\n",
        "from pyspark.ml import Pipeline\n",
        "from pyspark.ml.evaluation import MulticlassClassificationEvaluator\n",
        "from pyspark.ml.classification import LogisticRegression\n",
        "from pyspark.ml.classification import GBTClassifier\n",
        "from pyspark.ml.classification import DecisionTreeClassifier\n",
        "from pyspark.ml.classification import LinearSVC\n",
        "from pyspark.ml.classification import RandomForestClassifier\n",
        "from pyspark.ml.classification import MultilayerPerceptronClassifier\n",
        "from pyspark.ml.classification import MultilayerPerceptronClassifier\n",
        "\n",
        "import matplotlib.pyplot as plt\n",
        "import seaborn as sns\n",
        "%matplotlib inline"
      ]
    },
    {
      "cell_type": "markdown",
      "metadata": {
        "papermill": {
          "duration": 0.098699,
          "end_time": "2020-08-25T11:37:06.227110",
          "exception": false,
          "start_time": "2020-08-25T11:37:06.128411",
          "status": "completed"
        },
        "tags": [],
        "id": "qcA9Nra8JGkj"
      },
      "source": [
        "<a id='3'></a>\n",
        "# **Reading the data**"
      ]
    },
    {
      "cell_type": "code",
      "execution_count": 223,
      "metadata": {
        "execution": {
          "iopub.execute_input": "2020-08-25T11:37:06.434389Z",
          "iopub.status.busy": "2020-08-25T11:37:06.433073Z",
          "iopub.status.idle": "2020-08-25T11:37:06.462347Z",
          "shell.execute_reply": "2020-08-25T11:37:06.461462Z"
        },
        "papermill": {
          "duration": 0.137091,
          "end_time": "2020-08-25T11:37:06.462492",
          "exception": false,
          "start_time": "2020-08-25T11:37:06.325401",
          "status": "completed"
        },
        "tags": [],
        "id": "MpyavJRCJGkj"
      },
      "outputs": [],
      "source": [
        "\n",
        "df1 = pd.read_csv('train.csv')\n",
        "df2 = pd.read_csv('test.csv')\n",
        "sub_df = pd.read_csv('gender_submission.csv')"
      ]
    },
    {
      "cell_type": "code",
      "execution_count": 224,
      "metadata": {
        "execution": {
          "iopub.execute_input": "2020-08-25T11:37:06.733107Z",
          "iopub.status.busy": "2020-08-25T11:37:06.731902Z",
          "iopub.status.idle": "2020-08-25T11:37:06.746472Z",
          "shell.execute_reply": "2020-08-25T11:37:06.747079Z"
        },
        "papermill": {
          "duration": 0.185039,
          "end_time": "2020-08-25T11:37:06.747251",
          "exception": false,
          "start_time": "2020-08-25T11:37:06.562212",
          "status": "completed"
        },
        "tags": [],
        "colab": {
          "base_uri": "https://localhost:8080/",
          "height": 206
        },
        "id": "f455DH9qJGkj",
        "outputId": "61213aa4-9d03-4fca-daa5-1bf12ee5545b"
      },
      "outputs": [
        {
          "output_type": "execute_result",
          "data": {
            "text/plain": [
              "   PassengerId  Survived  Pclass  \\\n",
              "0            1         0       3   \n",
              "1            2         1       1   \n",
              "2            3         1       3   \n",
              "3            4         1       1   \n",
              "4            5         0       3   \n",
              "\n",
              "                                                Name     Sex   Age  SibSp  \\\n",
              "0                            Braund, Mr. Owen Harris    male  22.0      1   \n",
              "1  Cumings, Mrs. John Bradley (Florence Briggs Th...  female  38.0      1   \n",
              "2                             Heikkinen, Miss. Laina  female  26.0      0   \n",
              "3       Futrelle, Mrs. Jacques Heath (Lily May Peel)  female  35.0      1   \n",
              "4                           Allen, Mr. William Henry    male  35.0      0   \n",
              "\n",
              "   Parch            Ticket     Fare Cabin Embarked  \n",
              "0      0         A/5 21171   7.2500   NaN        S  \n",
              "1      0          PC 17599  71.2833   C85        C  \n",
              "2      0  STON/O2. 3101282   7.9250   NaN        S  \n",
              "3      0            113803  53.1000  C123        S  \n",
              "4      0            373450   8.0500   NaN        S  "
            ],
            "text/html": [
              "\n",
              "  <div id=\"df-1a2dc71b-9419-4a3d-87f1-baa6f3c86764\" class=\"colab-df-container\">\n",
              "    <div>\n",
              "<style scoped>\n",
              "    .dataframe tbody tr th:only-of-type {\n",
              "        vertical-align: middle;\n",
              "    }\n",
              "\n",
              "    .dataframe tbody tr th {\n",
              "        vertical-align: top;\n",
              "    }\n",
              "\n",
              "    .dataframe thead th {\n",
              "        text-align: right;\n",
              "    }\n",
              "</style>\n",
              "<table border=\"1\" class=\"dataframe\">\n",
              "  <thead>\n",
              "    <tr style=\"text-align: right;\">\n",
              "      <th></th>\n",
              "      <th>PassengerId</th>\n",
              "      <th>Survived</th>\n",
              "      <th>Pclass</th>\n",
              "      <th>Name</th>\n",
              "      <th>Sex</th>\n",
              "      <th>Age</th>\n",
              "      <th>SibSp</th>\n",
              "      <th>Parch</th>\n",
              "      <th>Ticket</th>\n",
              "      <th>Fare</th>\n",
              "      <th>Cabin</th>\n",
              "      <th>Embarked</th>\n",
              "    </tr>\n",
              "  </thead>\n",
              "  <tbody>\n",
              "    <tr>\n",
              "      <th>0</th>\n",
              "      <td>1</td>\n",
              "      <td>0</td>\n",
              "      <td>3</td>\n",
              "      <td>Braund, Mr. Owen Harris</td>\n",
              "      <td>male</td>\n",
              "      <td>22.0</td>\n",
              "      <td>1</td>\n",
              "      <td>0</td>\n",
              "      <td>A/5 21171</td>\n",
              "      <td>7.2500</td>\n",
              "      <td>NaN</td>\n",
              "      <td>S</td>\n",
              "    </tr>\n",
              "    <tr>\n",
              "      <th>1</th>\n",
              "      <td>2</td>\n",
              "      <td>1</td>\n",
              "      <td>1</td>\n",
              "      <td>Cumings, Mrs. John Bradley (Florence Briggs Th...</td>\n",
              "      <td>female</td>\n",
              "      <td>38.0</td>\n",
              "      <td>1</td>\n",
              "      <td>0</td>\n",
              "      <td>PC 17599</td>\n",
              "      <td>71.2833</td>\n",
              "      <td>C85</td>\n",
              "      <td>C</td>\n",
              "    </tr>\n",
              "    <tr>\n",
              "      <th>2</th>\n",
              "      <td>3</td>\n",
              "      <td>1</td>\n",
              "      <td>3</td>\n",
              "      <td>Heikkinen, Miss. Laina</td>\n",
              "      <td>female</td>\n",
              "      <td>26.0</td>\n",
              "      <td>0</td>\n",
              "      <td>0</td>\n",
              "      <td>STON/O2. 3101282</td>\n",
              "      <td>7.9250</td>\n",
              "      <td>NaN</td>\n",
              "      <td>S</td>\n",
              "    </tr>\n",
              "    <tr>\n",
              "      <th>3</th>\n",
              "      <td>4</td>\n",
              "      <td>1</td>\n",
              "      <td>1</td>\n",
              "      <td>Futrelle, Mrs. Jacques Heath (Lily May Peel)</td>\n",
              "      <td>female</td>\n",
              "      <td>35.0</td>\n",
              "      <td>1</td>\n",
              "      <td>0</td>\n",
              "      <td>113803</td>\n",
              "      <td>53.1000</td>\n",
              "      <td>C123</td>\n",
              "      <td>S</td>\n",
              "    </tr>\n",
              "    <tr>\n",
              "      <th>4</th>\n",
              "      <td>5</td>\n",
              "      <td>0</td>\n",
              "      <td>3</td>\n",
              "      <td>Allen, Mr. William Henry</td>\n",
              "      <td>male</td>\n",
              "      <td>35.0</td>\n",
              "      <td>0</td>\n",
              "      <td>0</td>\n",
              "      <td>373450</td>\n",
              "      <td>8.0500</td>\n",
              "      <td>NaN</td>\n",
              "      <td>S</td>\n",
              "    </tr>\n",
              "  </tbody>\n",
              "</table>\n",
              "</div>\n",
              "    <div class=\"colab-df-buttons\">\n",
              "\n",
              "  <div class=\"colab-df-container\">\n",
              "    <button class=\"colab-df-convert\" onclick=\"convertToInteractive('df-1a2dc71b-9419-4a3d-87f1-baa6f3c86764')\"\n",
              "            title=\"Convert this dataframe to an interactive table.\"\n",
              "            style=\"display:none;\">\n",
              "\n",
              "  <svg xmlns=\"http://www.w3.org/2000/svg\" height=\"24px\" viewBox=\"0 -960 960 960\">\n",
              "    <path d=\"M120-120v-720h720v720H120Zm60-500h600v-160H180v160Zm220 220h160v-160H400v160Zm0 220h160v-160H400v160ZM180-400h160v-160H180v160Zm440 0h160v-160H620v160ZM180-180h160v-160H180v160Zm440 0h160v-160H620v160Z\"/>\n",
              "  </svg>\n",
              "    </button>\n",
              "\n",
              "  <style>\n",
              "    .colab-df-container {\n",
              "      display:flex;\n",
              "      gap: 12px;\n",
              "    }\n",
              "\n",
              "    .colab-df-convert {\n",
              "      background-color: #E8F0FE;\n",
              "      border: none;\n",
              "      border-radius: 50%;\n",
              "      cursor: pointer;\n",
              "      display: none;\n",
              "      fill: #1967D2;\n",
              "      height: 32px;\n",
              "      padding: 0 0 0 0;\n",
              "      width: 32px;\n",
              "    }\n",
              "\n",
              "    .colab-df-convert:hover {\n",
              "      background-color: #E2EBFA;\n",
              "      box-shadow: 0px 1px 2px rgba(60, 64, 67, 0.3), 0px 1px 3px 1px rgba(60, 64, 67, 0.15);\n",
              "      fill: #174EA6;\n",
              "    }\n",
              "\n",
              "    .colab-df-buttons div {\n",
              "      margin-bottom: 4px;\n",
              "    }\n",
              "\n",
              "    [theme=dark] .colab-df-convert {\n",
              "      background-color: #3B4455;\n",
              "      fill: #D2E3FC;\n",
              "    }\n",
              "\n",
              "    [theme=dark] .colab-df-convert:hover {\n",
              "      background-color: #434B5C;\n",
              "      box-shadow: 0px 1px 3px 1px rgba(0, 0, 0, 0.15);\n",
              "      filter: drop-shadow(0px 1px 2px rgba(0, 0, 0, 0.3));\n",
              "      fill: #FFFFFF;\n",
              "    }\n",
              "  </style>\n",
              "\n",
              "    <script>\n",
              "      const buttonEl =\n",
              "        document.querySelector('#df-1a2dc71b-9419-4a3d-87f1-baa6f3c86764 button.colab-df-convert');\n",
              "      buttonEl.style.display =\n",
              "        google.colab.kernel.accessAllowed ? 'block' : 'none';\n",
              "\n",
              "      async function convertToInteractive(key) {\n",
              "        const element = document.querySelector('#df-1a2dc71b-9419-4a3d-87f1-baa6f3c86764');\n",
              "        const dataTable =\n",
              "          await google.colab.kernel.invokeFunction('convertToInteractive',\n",
              "                                                    [key], {});\n",
              "        if (!dataTable) return;\n",
              "\n",
              "        const docLinkHtml = 'Like what you see? Visit the ' +\n",
              "          '<a target=\"_blank\" href=https://colab.research.google.com/notebooks/data_table.ipynb>data table notebook</a>'\n",
              "          + ' to learn more about interactive tables.';\n",
              "        element.innerHTML = '';\n",
              "        dataTable['output_type'] = 'display_data';\n",
              "        await google.colab.output.renderOutput(dataTable, element);\n",
              "        const docLink = document.createElement('div');\n",
              "        docLink.innerHTML = docLinkHtml;\n",
              "        element.appendChild(docLink);\n",
              "      }\n",
              "    </script>\n",
              "  </div>\n",
              "\n",
              "\n",
              "<div id=\"df-e53aeb86-ec2e-44b1-a420-db6f1b16c6dc\">\n",
              "  <button class=\"colab-df-quickchart\" onclick=\"quickchart('df-e53aeb86-ec2e-44b1-a420-db6f1b16c6dc')\"\n",
              "            title=\"Suggest charts\"\n",
              "            style=\"display:none;\">\n",
              "\n",
              "<svg xmlns=\"http://www.w3.org/2000/svg\" height=\"24px\"viewBox=\"0 0 24 24\"\n",
              "     width=\"24px\">\n",
              "    <g>\n",
              "        <path d=\"M19 3H5c-1.1 0-2 .9-2 2v14c0 1.1.9 2 2 2h14c1.1 0 2-.9 2-2V5c0-1.1-.9-2-2-2zM9 17H7v-7h2v7zm4 0h-2V7h2v10zm4 0h-2v-4h2v4z\"/>\n",
              "    </g>\n",
              "</svg>\n",
              "  </button>\n",
              "\n",
              "<style>\n",
              "  .colab-df-quickchart {\n",
              "      --bg-color: #E8F0FE;\n",
              "      --fill-color: #1967D2;\n",
              "      --hover-bg-color: #E2EBFA;\n",
              "      --hover-fill-color: #174EA6;\n",
              "      --disabled-fill-color: #AAA;\n",
              "      --disabled-bg-color: #DDD;\n",
              "  }\n",
              "\n",
              "  [theme=dark] .colab-df-quickchart {\n",
              "      --bg-color: #3B4455;\n",
              "      --fill-color: #D2E3FC;\n",
              "      --hover-bg-color: #434B5C;\n",
              "      --hover-fill-color: #FFFFFF;\n",
              "      --disabled-bg-color: #3B4455;\n",
              "      --disabled-fill-color: #666;\n",
              "  }\n",
              "\n",
              "  .colab-df-quickchart {\n",
              "    background-color: var(--bg-color);\n",
              "    border: none;\n",
              "    border-radius: 50%;\n",
              "    cursor: pointer;\n",
              "    display: none;\n",
              "    fill: var(--fill-color);\n",
              "    height: 32px;\n",
              "    padding: 0;\n",
              "    width: 32px;\n",
              "  }\n",
              "\n",
              "  .colab-df-quickchart:hover {\n",
              "    background-color: var(--hover-bg-color);\n",
              "    box-shadow: 0 1px 2px rgba(60, 64, 67, 0.3), 0 1px 3px 1px rgba(60, 64, 67, 0.15);\n",
              "    fill: var(--button-hover-fill-color);\n",
              "  }\n",
              "\n",
              "  .colab-df-quickchart-complete:disabled,\n",
              "  .colab-df-quickchart-complete:disabled:hover {\n",
              "    background-color: var(--disabled-bg-color);\n",
              "    fill: var(--disabled-fill-color);\n",
              "    box-shadow: none;\n",
              "  }\n",
              "\n",
              "  .colab-df-spinner {\n",
              "    border: 2px solid var(--fill-color);\n",
              "    border-color: transparent;\n",
              "    border-bottom-color: var(--fill-color);\n",
              "    animation:\n",
              "      spin 1s steps(1) infinite;\n",
              "  }\n",
              "\n",
              "  @keyframes spin {\n",
              "    0% {\n",
              "      border-color: transparent;\n",
              "      border-bottom-color: var(--fill-color);\n",
              "      border-left-color: var(--fill-color);\n",
              "    }\n",
              "    20% {\n",
              "      border-color: transparent;\n",
              "      border-left-color: var(--fill-color);\n",
              "      border-top-color: var(--fill-color);\n",
              "    }\n",
              "    30% {\n",
              "      border-color: transparent;\n",
              "      border-left-color: var(--fill-color);\n",
              "      border-top-color: var(--fill-color);\n",
              "      border-right-color: var(--fill-color);\n",
              "    }\n",
              "    40% {\n",
              "      border-color: transparent;\n",
              "      border-right-color: var(--fill-color);\n",
              "      border-top-color: var(--fill-color);\n",
              "    }\n",
              "    60% {\n",
              "      border-color: transparent;\n",
              "      border-right-color: var(--fill-color);\n",
              "    }\n",
              "    80% {\n",
              "      border-color: transparent;\n",
              "      border-right-color: var(--fill-color);\n",
              "      border-bottom-color: var(--fill-color);\n",
              "    }\n",
              "    90% {\n",
              "      border-color: transparent;\n",
              "      border-bottom-color: var(--fill-color);\n",
              "    }\n",
              "  }\n",
              "</style>\n",
              "\n",
              "  <script>\n",
              "    async function quickchart(key) {\n",
              "      const quickchartButtonEl =\n",
              "        document.querySelector('#' + key + ' button');\n",
              "      quickchartButtonEl.disabled = true;  // To prevent multiple clicks.\n",
              "      quickchartButtonEl.classList.add('colab-df-spinner');\n",
              "      try {\n",
              "        const charts = await google.colab.kernel.invokeFunction(\n",
              "            'suggestCharts', [key], {});\n",
              "      } catch (error) {\n",
              "        console.error('Error during call to suggestCharts:', error);\n",
              "      }\n",
              "      quickchartButtonEl.classList.remove('colab-df-spinner');\n",
              "      quickchartButtonEl.classList.add('colab-df-quickchart-complete');\n",
              "    }\n",
              "    (() => {\n",
              "      let quickchartButtonEl =\n",
              "        document.querySelector('#df-e53aeb86-ec2e-44b1-a420-db6f1b16c6dc button');\n",
              "      quickchartButtonEl.style.display =\n",
              "        google.colab.kernel.accessAllowed ? 'block' : 'none';\n",
              "    })();\n",
              "  </script>\n",
              "</div>\n",
              "    </div>\n",
              "  </div>\n"
            ],
            "application/vnd.google.colaboratory.intrinsic+json": {
              "type": "dataframe",
              "variable_name": "df1",
              "summary": "{\n  \"name\": \"df1\",\n  \"rows\": 891,\n  \"fields\": [\n    {\n      \"column\": \"PassengerId\",\n      \"properties\": {\n        \"dtype\": \"number\",\n        \"std\": 257,\n        \"min\": 1,\n        \"max\": 891,\n        \"num_unique_values\": 891,\n        \"samples\": [\n          710,\n          440,\n          841\n        ],\n        \"semantic_type\": \"\",\n        \"description\": \"\"\n      }\n    },\n    {\n      \"column\": \"Survived\",\n      \"properties\": {\n        \"dtype\": \"number\",\n        \"std\": 0,\n        \"min\": 0,\n        \"max\": 1,\n        \"num_unique_values\": 2,\n        \"samples\": [\n          1,\n          0\n        ],\n        \"semantic_type\": \"\",\n        \"description\": \"\"\n      }\n    },\n    {\n      \"column\": \"Pclass\",\n      \"properties\": {\n        \"dtype\": \"number\",\n        \"std\": 0,\n        \"min\": 1,\n        \"max\": 3,\n        \"num_unique_values\": 3,\n        \"samples\": [\n          3,\n          1\n        ],\n        \"semantic_type\": \"\",\n        \"description\": \"\"\n      }\n    },\n    {\n      \"column\": \"Name\",\n      \"properties\": {\n        \"dtype\": \"string\",\n        \"num_unique_values\": 891,\n        \"samples\": [\n          \"Moubarek, Master. Halim Gonios (\\\"William George\\\")\",\n          \"Kvillner, Mr. Johan Henrik Johannesson\"\n        ],\n        \"semantic_type\": \"\",\n        \"description\": \"\"\n      }\n    },\n    {\n      \"column\": \"Sex\",\n      \"properties\": {\n        \"dtype\": \"category\",\n        \"num_unique_values\": 2,\n        \"samples\": [\n          \"female\",\n          \"male\"\n        ],\n        \"semantic_type\": \"\",\n        \"description\": \"\"\n      }\n    },\n    {\n      \"column\": \"Age\",\n      \"properties\": {\n        \"dtype\": \"number\",\n        \"std\": 14.526497332334042,\n        \"min\": 0.42,\n        \"max\": 80.0,\n        \"num_unique_values\": 88,\n        \"samples\": [\n          0.75,\n          22.0\n        ],\n        \"semantic_type\": \"\",\n        \"description\": \"\"\n      }\n    },\n    {\n      \"column\": \"SibSp\",\n      \"properties\": {\n        \"dtype\": \"number\",\n        \"std\": 1,\n        \"min\": 0,\n        \"max\": 8,\n        \"num_unique_values\": 7,\n        \"samples\": [\n          1,\n          0\n        ],\n        \"semantic_type\": \"\",\n        \"description\": \"\"\n      }\n    },\n    {\n      \"column\": \"Parch\",\n      \"properties\": {\n        \"dtype\": \"number\",\n        \"std\": 0,\n        \"min\": 0,\n        \"max\": 6,\n        \"num_unique_values\": 7,\n        \"samples\": [\n          0,\n          1\n        ],\n        \"semantic_type\": \"\",\n        \"description\": \"\"\n      }\n    },\n    {\n      \"column\": \"Ticket\",\n      \"properties\": {\n        \"dtype\": \"string\",\n        \"num_unique_values\": 681,\n        \"samples\": [\n          \"11774\",\n          \"248740\"\n        ],\n        \"semantic_type\": \"\",\n        \"description\": \"\"\n      }\n    },\n    {\n      \"column\": \"Fare\",\n      \"properties\": {\n        \"dtype\": \"number\",\n        \"std\": 49.6934285971809,\n        \"min\": 0.0,\n        \"max\": 512.3292,\n        \"num_unique_values\": 248,\n        \"samples\": [\n          11.2417,\n          51.8625\n        ],\n        \"semantic_type\": \"\",\n        \"description\": \"\"\n      }\n    },\n    {\n      \"column\": \"Cabin\",\n      \"properties\": {\n        \"dtype\": \"category\",\n        \"num_unique_values\": 147,\n        \"samples\": [\n          \"D45\",\n          \"B49\"\n        ],\n        \"semantic_type\": \"\",\n        \"description\": \"\"\n      }\n    },\n    {\n      \"column\": \"Embarked\",\n      \"properties\": {\n        \"dtype\": \"category\",\n        \"num_unique_values\": 3,\n        \"samples\": [\n          \"S\",\n          \"C\"\n        ],\n        \"semantic_type\": \"\",\n        \"description\": \"\"\n      }\n    }\n  ]\n}"
            }
          },
          "metadata": {},
          "execution_count": 224
        }
      ],
      "source": [
        "df1.head()"
      ]
    },
    {
      "cell_type": "markdown",
      "metadata": {
        "papermill": {
          "duration": 0.098348,
          "end_time": "2020-08-25T11:37:06.944505",
          "exception": false,
          "start_time": "2020-08-25T11:37:06.846157",
          "status": "completed"
        },
        "tags": [],
        "id": "b7NgGboKJGkk"
      },
      "source": [
        "<a id='4'></a>\n",
        "# **Exploratory Data Analysis**"
      ]
    },
    {
      "cell_type": "markdown",
      "metadata": {
        "papermill": {
          "duration": 0.098874,
          "end_time": "2020-08-25T11:37:07.142155",
          "exception": false,
          "start_time": "2020-08-25T11:37:07.043281",
          "status": "completed"
        },
        "tags": [],
        "id": "iUV5SxAoJGkk"
      },
      "source": [
        "**Let us first see how many people survived or not.**"
      ]
    },
    {
      "cell_type": "code",
      "execution_count": 225,
      "metadata": {
        "execution": {
          "iopub.execute_input": "2020-08-25T11:37:07.376950Z",
          "iopub.status.busy": "2020-08-25T11:37:07.376046Z",
          "iopub.status.idle": "2020-08-25T11:37:07.557297Z",
          "shell.execute_reply": "2020-08-25T11:37:07.557888Z"
        },
        "papermill": {
          "duration": 0.316638,
          "end_time": "2020-08-25T11:37:07.558066",
          "exception": false,
          "start_time": "2020-08-25T11:37:07.241428",
          "status": "completed"
        },
        "tags": [],
        "colab": {
          "base_uri": "https://localhost:8080/",
          "height": 484
        },
        "id": "tmxCRswxJGkk",
        "outputId": "6508e335-65a2-4aec-ca6c-51255bacc488"
      },
      "outputs": [
        {
          "output_type": "stream",
          "name": "stdout",
          "text": [
            "Number of passengers didn't Survived = 549\n",
            "Number of passengers survived = 342\n"
          ]
        },
        {
          "output_type": "display_data",
          "data": {
            "text/plain": [
              "<Figure size 640x480 with 1 Axes>"
            ],
            "image/png": "[encoded data removed]"
          },
          "metadata": {}
        }
      ],
      "source": [
        "survival = df1.groupby('Survived').count()['Name'].reset_index()\n",
        "sns.countplot(x='Survived', data=df1)\n",
        "print(\"Number of passengers didn't Survived = {}\".format(survival['Name'][0]))\n",
        "print(\"Number of passengers survived = {}\".format(survival['Name'][1]))"
      ]
    },
    {
      "cell_type": "markdown",
      "metadata": {
        "papermill": {
          "duration": 0.097399,
          "end_time": "2020-08-25T11:37:07.754434",
          "exception": false,
          "start_time": "2020-08-25T11:37:07.657035",
          "status": "completed"
        },
        "tags": [],
        "id": "qqKgxVSiJGkk"
      },
      "source": [
        "**Now we will observe how each factor has its impact on whether the person survived or not.**"
      ]
    },
    {
      "cell_type": "code",
      "execution_count": 226,
      "metadata": {
        "execution": {
          "iopub.execute_input": "2020-08-25T11:37:07.968515Z",
          "iopub.status.busy": "2020-08-25T11:37:07.967583Z",
          "iopub.status.idle": "2020-08-25T11:37:09.077547Z",
          "shell.execute_reply": "2020-08-25T11:37:09.076851Z"
        },
        "papermill": {
          "duration": 1.225383,
          "end_time": "2020-08-25T11:37:09.077679",
          "exception": false,
          "start_time": "2020-08-25T11:37:07.852296",
          "status": "completed"
        },
        "tags": [],
        "colab": {
          "base_uri": "https://localhost:8080/",
          "height": 709
        },
        "id": "XFeGmM44JGkk",
        "outputId": "14fa9344-53a2-4346-9622-73447fab99b9"
      },
      "outputs": [
        {
          "output_type": "display_data",
          "data": {
            "text/plain": [
              "<Figure size 1500x1500 with 5 Axes>"
            ],
            "image/png": "[encoded data removed]"
          },
          "metadata": {}
        }
      ],
      "source": [
        "val = ['Pclass', 'Sex', 'Embarked', 'SibSp', 'Parch','Cabin']\n",
        "plt.figure(figsize=(15,15))\n",
        "plt.subplots_adjust(right=1.5)\n",
        "for i in range(5):\n",
        "    plt.subplot(2,3,i+1), sns.countplot(x=val[i], hue='Survived', data = df1)\n",
        "    plt.legend(['Not Survived', 'Survived'], loc='upper center', prop={'size': 10})\n",
        "    plt.title('Count of Survival in {} Feature'.format(val[i]), size=10, y=1.05)"
      ]
    },
    {
      "cell_type": "code",
      "execution_count": 227,
      "metadata": {
        "execution": {
          "iopub.execute_input": "2020-08-25T11:37:09.308143Z",
          "iopub.status.busy": "2020-08-25T11:37:09.306830Z",
          "iopub.status.idle": "2020-08-25T11:37:09.594602Z",
          "shell.execute_reply": "2020-08-25T11:37:09.595278Z"
        },
        "papermill": {
          "duration": 0.414227,
          "end_time": "2020-08-25T11:37:09.595446",
          "exception": false,
          "start_time": "2020-08-25T11:37:09.181219",
          "status": "completed"
        },
        "tags": [],
        "colab": {
          "base_uri": "https://localhost:8080/",
          "height": 1000
        },
        "id": "QmHtfWaPJGkk",
        "outputId": "22d8c45a-9cb2-4159-ecb0-7cd720d4960c"
      },
      "outputs": [
        {
          "output_type": "display_data",
          "data": {
            "text/plain": [
              "<Figure size 500x500 with 1 Axes>"
            ],
            "image/png": "[encoded data removed]"
          },
          "metadata": {}
        },
        {
          "output_type": "display_data",
          "data": {
            "text/plain": [
              "<Figure size 500x500 with 1 Axes>"
            ],
            "image/png": "[encoded data removed]"
          },
          "metadata": {}
        }
      ],
      "source": [
        "surv = df1['Survived'] == 1\n",
        "\n",
        "\n",
        "sns.displot(df1[~surv]['Age'], label='Not Survived',  color='#e74c3c')\n",
        "sns.displot(df1[surv]['Age'], label='Survived',  color='#2ecc71')\n",
        "\n",
        "plt.legend()\n",
        "plt.title('Distribution of Survival in Age')\n",
        "\n",
        "\n",
        "plt.show()"
      ]
    },
    {
      "cell_type": "code",
      "execution_count": 228,
      "metadata": {
        "execution": {
          "iopub.execute_input": "2020-08-25T11:37:09.809585Z",
          "iopub.status.busy": "2020-08-25T11:37:09.808101Z",
          "iopub.status.idle": "2020-08-25T11:37:10.042953Z",
          "shell.execute_reply": "2020-08-25T11:37:10.041641Z"
        },
        "papermill": {
          "duration": 0.347721,
          "end_time": "2020-08-25T11:37:10.043167",
          "exception": false,
          "start_time": "2020-08-25T11:37:09.695446",
          "status": "completed"
        },
        "tags": [],
        "colab": {
          "base_uri": "https://localhost:8080/",
          "height": 569
        },
        "id": "kZswZtE3JGkk",
        "outputId": "dfb291f5-00e8-4d08-d619-350b3e02226c"
      },
      "outputs": [
        {
          "output_type": "display_data",
          "data": {
            "text/plain": [
              "<Figure size 1400x600 with 1 Axes>"
            ],
            "image/png": "[encoded data removed]"
          },
          "metadata": {}
        }
      ],
      "source": [
        "plt.figure(figsize=(14,6))\n",
        "plt.plot(range(0,len(df1[~surv]['Fare'])), df1[~surv]['Fare'], color='blue', animated=True, linewidth=1)\n",
        "plt.plot(range(0,len(df1[surv]['Fare'])), df1[surv]['Fare'], color='red', animated=True, linewidth=1)\n",
        "plt.xlabel('PassengerID', fontsize=14)\n",
        "plt.ylabel('Fare', fontsize=14)\n",
        "plt.legend(['Not Survived', 'Survived'])\n",
        "plt.title('Distribution of Fare')\n",
        "plt.show()"
      ]
    },
    {
      "cell_type": "markdown",
      "metadata": {
        "papermill": {
          "duration": 0.142272,
          "end_time": "2020-08-25T11:37:10.296924",
          "exception": false,
          "start_time": "2020-08-25T11:37:10.154652",
          "status": "completed"
        },
        "tags": [],
        "id": "ecDJCwuTJGkk"
      },
      "source": [
        "<a id='5'></a>\n",
        "# **Feature Engineering**\n",
        "Basically, all machine learning algorithms use some input data to create outputs. This input data comprise features, which are usually in the form of structured columns. Algorithms require features with some specific characteristic to work properly. Here, the need for feature engineering arises. There maybe be many redundant features which should be eliminated. Also we can get or add new features by observing or extracting information from other features.\n",
        "\n",
        "We will apply feature engineering steps to both our training and test data. Here we are going to concat them so that we don't have to apply each steps separately. Then later on after applying feature engineering process we will separate them.\n"
      ]
    },
    {
      "cell_type": "code",
      "execution_count": 229,
      "metadata": {
        "execution": {
          "iopub.execute_input": "2020-08-25T11:37:10.533717Z",
          "iopub.status.busy": "2020-08-25T11:37:10.532597Z",
          "iopub.status.idle": "2020-08-25T11:37:10.536526Z",
          "shell.execute_reply": "2020-08-25T11:37:10.535740Z"
        },
        "papermill": {
          "duration": 0.130189,
          "end_time": "2020-08-25T11:37:10.536653",
          "exception": false,
          "start_time": "2020-08-25T11:37:10.406464",
          "status": "completed"
        },
        "tags": [],
        "id": "T8yZ5xFuJGkk"
      },
      "outputs": [],
      "source": [
        "df = pd.concat([df1,df2],ignore_index=True)"
      ]
    },
    {
      "cell_type": "code",
      "execution_count": 230,
      "metadata": {
        "execution": {
          "iopub.execute_input": "2020-08-25T11:37:10.749193Z",
          "iopub.status.busy": "2020-08-25T11:37:10.748032Z",
          "iopub.status.idle": "2020-08-25T11:37:10.754603Z",
          "shell.execute_reply": "2020-08-25T11:37:10.753960Z"
        },
        "papermill": {
          "duration": 0.116467,
          "end_time": "2020-08-25T11:37:10.754751",
          "exception": false,
          "start_time": "2020-08-25T11:37:10.638284",
          "status": "completed"
        },
        "tags": [],
        "colab": {
          "base_uri": "https://localhost:8080/"
        },
        "id": "tV21HdeXJGkk",
        "outputId": "9eb5158c-d771-4a4a-e389-39384b902c4c"
      },
      "outputs": [
        {
          "output_type": "execute_result",
          "data": {
            "text/plain": [
              "PassengerId      int64\n",
              "Survived       float64\n",
              "Pclass           int64\n",
              "Name            object\n",
              "Sex             object\n",
              "Age            float64\n",
              "SibSp            int64\n",
              "Parch            int64\n",
              "Ticket          object\n",
              "Fare           float64\n",
              "Cabin           object\n",
              "Embarked        object\n",
              "dtype: object"
            ]
          },
          "metadata": {},
          "execution_count": 230
        }
      ],
      "source": [
        "df.dtypes"
      ]
    },
    {
      "cell_type": "markdown",
      "metadata": {
        "papermill": {
          "duration": 0.102868,
          "end_time": "2020-08-25T11:37:10.959352",
          "exception": false,
          "start_time": "2020-08-25T11:37:10.856484",
          "status": "completed"
        },
        "tags": [],
        "id": "XNyF0sreJGkk"
      },
      "source": [
        "**Now we will make a new column which will store the values of number of person in a family and another column which will tell whether the person is alone or not. Then, we will visualize it so that we can check if survival rate have anything to do with family size of the passengers.**"
      ]
    },
    {
      "cell_type": "code",
      "execution_count": 231,
      "metadata": {
        "execution": {
          "iopub.execute_input": "2020-08-25T11:37:11.173034Z",
          "iopub.status.busy": "2020-08-25T11:37:11.172163Z",
          "iopub.status.idle": "2020-08-25T11:37:11.201638Z",
          "shell.execute_reply": "2020-08-25T11:37:11.200945Z"
        },
        "papermill": {
          "duration": 0.139002,
          "end_time": "2020-08-25T11:37:11.201767",
          "exception": false,
          "start_time": "2020-08-25T11:37:11.062765",
          "status": "completed"
        },
        "tags": [],
        "id": "BnvQrvlGJGkk"
      },
      "outputs": [],
      "source": [
        "df['Family'] = df['SibSp'] + df['Parch'] + 1\n",
        "df['Alone'] = df['Family'].apply(lambda x : 0 if x>1 else 1 )"
      ]
    },
    {
      "cell_type": "code",
      "execution_count": 232,
      "metadata": {
        "colab": {
          "base_uri": "https://localhost:8080/",
          "height": 1000
        },
        "id": "FqjrbvIXJGkk",
        "outputId": "26b97017-0371-4480-b316-648b2436e453"
      },
      "outputs": [
        {
          "output_type": "display_data",
          "data": {
            "text/plain": [
              "<Figure size 1400x1200 with 4 Axes>"
            ],
            "image/png": "[encoded data removed]"
          },
          "metadata": {}
        }
      ],
      "source": [
        "fig, ax = plt.subplots(2, 2, figsize=(14, 12))\n",
        "sns.barplot(x='Family', y='Survived', data=df, ax=ax[0][0])\n",
        "ax[0][0].set_title('Family vs Survived')\n",
        "sns.pointplot(x='Family', y='Survived', data=df, ax=ax[0][1])\n",
        "ax[0][1].set_title('Family vs Survived')\n",
        "sns.countplot(x='Alone', hue='Survived', data=df, ax=ax[1][0])\n",
        "ax[1][0].set_title('Alone vs Survived')\n",
        "sns.pointplot(x='Alone', y='Survived', data=df, ax=ax[1][1])\n",
        "ax[1][1].set_title('Alone vs Survived')\n",
        "plt.show()\n"
      ]
    },
    {
      "cell_type": "markdown",
      "metadata": {
        "papermill": {
          "duration": 0.125996,
          "end_time": "2020-08-25T11:37:13.475345",
          "exception": false,
          "start_time": "2020-08-25T11:37:13.349349",
          "status": "completed"
        },
        "tags": [],
        "id": "2SbvlW9aJGkk"
      },
      "source": [
        "**After calculating family size, now we will go to Name column which we haven't seen yet. Although the whole name doesn't make any sense that it will affect the survival rate but the title like Mr., Mrs. etc can affect it. So we will make a new column which will store title of every name.**"
      ]
    },
    {
      "cell_type": "code",
      "execution_count": 233,
      "metadata": {
        "execution": {
          "iopub.execute_input": "2020-08-25T11:37:13.693066Z",
          "iopub.status.busy": "2020-08-25T11:37:13.692159Z",
          "iopub.status.idle": "2020-08-25T11:37:13.696344Z",
          "shell.execute_reply": "2020-08-25T11:37:13.695624Z"
        },
        "papermill": {
          "duration": 0.117153,
          "end_time": "2020-08-25T11:37:13.696490",
          "exception": false,
          "start_time": "2020-08-25T11:37:13.579337",
          "status": "completed"
        },
        "tags": [],
        "id": "Y3uJcW2JJGkk"
      },
      "outputs": [],
      "source": [
        "df['Title'] = df['Name'].apply(lambda x: re.search(' ([A-Z][a-z]+)\\.', x).group(1))"
      ]
    },
    {
      "cell_type": "code",
      "execution_count": 234,
      "metadata": {
        "execution": {
          "iopub.execute_input": "2020-08-25T11:37:13.909555Z",
          "iopub.status.busy": "2020-08-25T11:37:13.908650Z",
          "iopub.status.idle": "2020-08-25T11:37:13.912992Z",
          "shell.execute_reply": "2020-08-25T11:37:13.913578Z"
        },
        "papermill": {
          "duration": 0.1139,
          "end_time": "2020-08-25T11:37:13.913803",
          "exception": false,
          "start_time": "2020-08-25T11:37:13.799903",
          "status": "completed"
        },
        "tags": [],
        "colab": {
          "base_uri": "https://localhost:8080/"
        },
        "id": "ved_cUmHJGkl",
        "outputId": "7aa5befd-a3eb-4af3-86eb-68049c722afa"
      },
      "outputs": [
        {
          "output_type": "execute_result",
          "data": {
            "text/plain": [
              "array(['Mr', 'Mrs', 'Miss', 'Master', 'Don', 'Rev', 'Dr', 'Mme', 'Ms',\n",
              "       'Major', 'Lady', 'Sir', 'Mlle', 'Col', 'Capt', 'Countess',\n",
              "       'Jonkheer', 'Dona'], dtype=object)"
            ]
          },
          "metadata": {},
          "execution_count": 234
        }
      ],
      "source": [
        "df['Title'].unique()"
      ]
    },
    {
      "cell_type": "markdown",
      "metadata": {
        "papermill": {
          "duration": 0.101836,
          "end_time": "2020-08-25T11:37:14.118357",
          "exception": false,
          "start_time": "2020-08-25T11:37:14.016521",
          "status": "completed"
        },
        "tags": [],
        "id": "S2o4EMGyJGkl"
      },
      "source": [
        "**Now, we will identify the social status of each title.**"
      ]
    },
    {
      "cell_type": "code",
      "execution_count": 235,
      "metadata": {
        "execution": {
          "iopub.execute_input": "2020-08-25T11:37:14.337575Z",
          "iopub.status.busy": "2020-08-25T11:37:14.336243Z",
          "iopub.status.idle": "2020-08-25T11:37:14.341241Z",
          "shell.execute_reply": "2020-08-25T11:37:14.340485Z"
        },
        "papermill": {
          "duration": 0.120835,
          "end_time": "2020-08-25T11:37:14.341367",
          "exception": false,
          "start_time": "2020-08-25T11:37:14.220532",
          "status": "completed"
        },
        "tags": [],
        "colab": {
          "base_uri": "https://localhost:8080/"
        },
        "id": "wAie6I4aJGkl",
        "outputId": "f359a7a0-b896-43b3-bd9f-f95c50c837cf"
      },
      "outputs": [
        {
          "output_type": "execute_result",
          "data": {
            "text/plain": [
              "array(['Mr', 'Mrs', 'Miss', 'Master', 'Royalty', 'Officer'], dtype=object)"
            ]
          },
          "metadata": {},
          "execution_count": 235
        }
      ],
      "source": [
        "Title_Dictionary = {\n",
        "        \"Capt\":       \"Officer\",\n",
        "        \"Col\":        \"Officer\",\n",
        "        \"Major\":      \"Officer\",\n",
        "        \"Dr\":         \"Officer\",\n",
        "        \"Rev\":        \"Officer\",\n",
        "        \"Jonkheer\":   \"Royalty\",\n",
        "        \"Don\":        \"Royalty\",\n",
        "        \"Sir\" :       \"Royalty\",\n",
        "        \"Countess\":   \"Royalty\",\n",
        "        \"Dona\":       \"Royalty\",\n",
        "        \"Lady\" :      \"Royalty\",\n",
        "        \"Mme\":        \"Mrs\",\n",
        "        \"Ms\":         \"Mrs\",\n",
        "        \"Mrs\" :       \"Mrs\",\n",
        "        \"Mlle\":       \"Miss\",\n",
        "        \"Miss\" :      \"Miss\",\n",
        "        \"Mr\" :        \"Mr\",\n",
        "        \"Master\" :    \"Master\"\n",
        "                   }\n",
        "\n",
        "# we map each title to correct category\n",
        "df['Title'] = df['Title'].map(Title_Dictionary)\n",
        "df['Title'].unique()"
      ]
    },
    {
      "cell_type": "code",
      "execution_count": 236,
      "metadata": {
        "execution": {
          "iopub.execute_input": "2020-08-25T11:37:14.588548Z",
          "iopub.status.busy": "2020-08-25T11:37:14.558313Z",
          "iopub.status.idle": "2020-08-25T11:37:14.777454Z",
          "shell.execute_reply": "2020-08-25T11:37:14.776767Z"
        },
        "papermill": {
          "duration": 0.333381,
          "end_time": "2020-08-25T11:37:14.777692",
          "exception": false,
          "start_time": "2020-08-25T11:37:14.444311",
          "status": "completed"
        },
        "tags": [],
        "colab": {
          "base_uri": "https://localhost:8080/",
          "height": 466
        },
        "id": "4GCoYfq1JGkl",
        "outputId": "3c9b0334-bff9-4d20-e060-4a109d8778aa"
      },
      "outputs": [
        {
          "output_type": "execute_result",
          "data": {
            "text/plain": [
              "<Axes: xlabel='Title', ylabel='count'>"
            ]
          },
          "metadata": {},
          "execution_count": 236
        },
        {
          "output_type": "display_data",
          "data": {
            "text/plain": [
              "<Figure size 640x480 with 1 Axes>"
            ],
            "image/png": "[encoded data removed]"
          },
          "metadata": {}
        }
      ],
      "source": [
        "sns.countplot(x='Title', hue='Survived', data = df)"
      ]
    },
    {
      "cell_type": "markdown",
      "metadata": {
        "papermill": {
          "duration": 0.101651,
          "end_time": "2020-08-25T11:37:14.980738",
          "exception": false,
          "start_time": "2020-08-25T11:37:14.879087",
          "status": "completed"
        },
        "tags": [],
        "id": "l17i-IvrJGkl"
      },
      "source": [
        "**Now we will fill the null values in the Age column. As we have observed, the Age column has many different values so we can fill it by the mean of all the ages but here I am just filling it with -0.5.**"
      ]
    },
    {
      "cell_type": "code",
      "execution_count": 237,
      "metadata": {
        "execution": {
          "iopub.execute_input": "2020-08-25T11:37:15.200713Z",
          "iopub.status.busy": "2020-08-25T11:37:15.199882Z",
          "iopub.status.idle": "2020-08-25T11:37:15.203174Z",
          "shell.execute_reply": "2020-08-25T11:37:15.203737Z"
        },
        "papermill": {
          "duration": 0.11987,
          "end_time": "2020-08-25T11:37:15.203930",
          "exception": false,
          "start_time": "2020-08-25T11:37:15.084060",
          "status": "completed"
        },
        "tags": [],
        "id": "ASFKCeJCJGkl"
      },
      "outputs": [],
      "source": [
        "df['Age'] = df['Age'].fillna(-0.5)"
      ]
    },
    {
      "cell_type": "markdown",
      "metadata": {
        "papermill": {
          "duration": 0.104774,
          "end_time": "2020-08-25T11:37:15.411536",
          "exception": false,
          "start_time": "2020-08-25T11:37:15.306762",
          "status": "completed"
        },
        "tags": [],
        "id": "lp4hzHdCJGkl"
      },
      "source": [
        "**As we have observed, the graph of Fare column shows that although Fare column have many different values but most of the values are around the median. So we will fill all the null values with the median of the Fare column. Since fare is also a continous feature, we need to convert it into ordinal value.**"
      ]
    },
    {
      "cell_type": "code",
      "execution_count": 238,
      "metadata": {
        "execution": {
          "iopub.execute_input": "2020-08-25T11:37:15.630502Z",
          "iopub.status.busy": "2020-08-25T11:37:15.628743Z",
          "iopub.status.idle": "2020-08-25T11:37:15.636892Z",
          "shell.execute_reply": "2020-08-25T11:37:15.635960Z"
        },
        "papermill": {
          "duration": 0.121056,
          "end_time": "2020-08-25T11:37:15.637035",
          "exception": false,
          "start_time": "2020-08-25T11:37:15.515979",
          "status": "completed"
        },
        "tags": [],
        "id": "4oqo6Zc7JGkl"
      },
      "outputs": [],
      "source": [
        "df['Fare'] = df['Fare'].fillna(df['Fare'].median())\n",
        "#intervals to categorize\n",
        "quant = (-1, 0, 8, 15, 31, 600)\n",
        "\n",
        "#Labels without input values\n",
        "label_quants = ['NoInf','quart_1', 'quart_2', 'quart_3', 'quart_4']\n",
        "\n",
        "#doing the cut in fare and puting in a new column\n",
        "df[\"Fare_cat\"] = pd.cut(df['Fare'], quant, labels=label_quants)"
      ]
    },
    {
      "cell_type": "code",
      "execution_count": 239,
      "metadata": {
        "execution": {
          "iopub.execute_input": "2020-08-25T11:37:15.866005Z",
          "iopub.status.busy": "2020-08-25T11:37:15.865114Z",
          "iopub.status.idle": "2020-08-25T11:37:16.646647Z",
          "shell.execute_reply": "2020-08-25T11:37:16.645780Z"
        },
        "papermill": {
          "duration": 0.901891,
          "end_time": "2020-08-25T11:37:16.646807",
          "exception": false,
          "start_time": "2020-08-25T11:37:15.744916",
          "status": "completed"
        },
        "tags": [],
        "colab": {
          "base_uri": "https://localhost:8080/",
          "height": 564
        },
        "id": "HGsS9h-HJGkl",
        "outputId": "0588723c-b8b0-4ef0-bb6d-b7064026dabe"
      },
      "outputs": [
        {
          "output_type": "display_data",
          "data": {
            "text/plain": [
              "<Figure size 1400x600 with 2 Axes>"
            ],
            "image/png": "[encoded data removed]"
          },
          "metadata": {}
        }
      ],
      "source": [
        "fig ,ax=plt.subplots(1,2,figsize=(14,6))\n",
        "sns.barplot(x='Fare_cat',y='Survived',data=df,ax=ax[0])\n",
        "ax[0].set_title('Fare_cat vs Survived')\n",
        "sns.pointplot(x='Fare_cat',y='Survived',data=df,ax=ax[1])\n",
        "ax[1].set_title('Fare_cat vs Survived')\n",
        "plt.close(2)\n",
        "plt.show()"
      ]
    },
    {
      "cell_type": "markdown",
      "metadata": {
        "papermill": {
          "duration": 0.263275,
          "end_time": "2020-08-25T11:37:17.013839",
          "exception": false,
          "start_time": "2020-08-25T11:37:16.750564",
          "status": "completed"
        },
        "tags": [],
        "id": "qcnHpLW4JGko"
      },
      "source": [
        "**Lastly we will fill all the null values in Embarked column with the value which has occured maximum in the data.**"
      ]
    },
    {
      "cell_type": "code",
      "execution_count": 240,
      "metadata": {
        "execution": {
          "iopub.execute_input": "2020-08-25T11:37:17.252121Z",
          "iopub.status.busy": "2020-08-25T11:37:17.251241Z",
          "iopub.status.idle": "2020-08-25T11:37:17.367027Z",
          "shell.execute_reply": "2020-08-25T11:37:17.366353Z"
        },
        "papermill": {
          "duration": 0.247288,
          "end_time": "2020-08-25T11:37:17.367172",
          "exception": false,
          "start_time": "2020-08-25T11:37:17.119884",
          "status": "completed"
        },
        "tags": [],
        "colab": {
          "base_uri": "https://localhost:8080/",
          "height": 466
        },
        "id": "lL0G6AphJGko",
        "outputId": "1b3e9523-eaaa-4842-99a6-33f687ab0024"
      },
      "outputs": [
        {
          "output_type": "execute_result",
          "data": {
            "text/plain": [
              "<Axes: xlabel='Embarked', ylabel='count'>"
            ]
          },
          "metadata": {},
          "execution_count": 240
        },
        {
          "output_type": "display_data",
          "data": {
            "text/plain": [
              "<Figure size 640x480 with 1 Axes>"
            ],
            "image/png": "[encoded data removed]"
          },
          "metadata": {}
        }
      ],
      "source": [
        "sns.countplot(x='Embarked', data=df)"
      ]
    },
    {
      "cell_type": "markdown",
      "metadata": {
        "papermill": {
          "duration": 0.103065,
          "end_time": "2020-08-25T11:37:17.573934",
          "exception": false,
          "start_time": "2020-08-25T11:37:17.470869",
          "status": "completed"
        },
        "tags": [],
        "id": "3ea8iZBWJGko"
      },
      "source": [
        "**So as 'S' as occured most of the time so we will fill it with 'S'.**"
      ]
    },
    {
      "cell_type": "code",
      "execution_count": 241,
      "metadata": {
        "execution": {
          "iopub.execute_input": "2020-08-25T11:37:17.786492Z",
          "iopub.status.busy": "2020-08-25T11:37:17.785386Z",
          "iopub.status.idle": "2020-08-25T11:37:17.789109Z",
          "shell.execute_reply": "2020-08-25T11:37:17.788417Z"
        },
        "papermill": {
          "duration": 0.11228,
          "end_time": "2020-08-25T11:37:17.789264",
          "exception": false,
          "start_time": "2020-08-25T11:37:17.676984",
          "status": "completed"
        },
        "tags": [],
        "id": "guxzzlL_JGko"
      },
      "outputs": [],
      "source": [
        "df[\"Embarked\"] = df[\"Embarked\"].fillna('S')"
      ]
    },
    {
      "cell_type": "code",
      "execution_count": 242,
      "metadata": {
        "execution": {
          "iopub.execute_input": "2020-08-25T11:37:18.024171Z",
          "iopub.status.busy": "2020-08-25T11:37:18.012478Z",
          "iopub.status.idle": "2020-08-25T11:37:18.031373Z",
          "shell.execute_reply": "2020-08-25T11:37:18.030376Z"
        },
        "papermill": {
          "duration": 0.138049,
          "end_time": "2020-08-25T11:37:18.031533",
          "exception": false,
          "start_time": "2020-08-25T11:37:17.893484",
          "status": "completed"
        },
        "tags": [],
        "colab": {
          "base_uri": "https://localhost:8080/",
          "height": 327
        },
        "id": "AHMQxJlVJGko",
        "outputId": "ffed3cd6-7b17-4601-e525-659af55f3d2f"
      },
      "outputs": [
        {
          "output_type": "execute_result",
          "data": {
            "text/plain": [
              "   PassengerId  Survived  Pclass  \\\n",
              "0            1       0.0       3   \n",
              "1            2       1.0       1   \n",
              "2            3       1.0       3   \n",
              "3            4       1.0       1   \n",
              "4            5       0.0       3   \n",
              "\n",
              "                                                Name     Sex   Age  SibSp  \\\n",
              "0                            Braund, Mr. Owen Harris    male  22.0      1   \n",
              "1  Cumings, Mrs. John Bradley (Florence Briggs Th...  female  38.0      1   \n",
              "2                             Heikkinen, Miss. Laina  female  26.0      0   \n",
              "3       Futrelle, Mrs. Jacques Heath (Lily May Peel)  female  35.0      1   \n",
              "4                           Allen, Mr. William Henry    male  35.0      0   \n",
              "\n",
              "   Parch            Ticket     Fare Cabin Embarked  Family  Alone Title  \\\n",
              "0      0         A/5 21171   7.2500   NaN        S       2      0    Mr   \n",
              "1      0          PC 17599  71.2833   C85        C       2      0   Mrs   \n",
              "2      0  STON/O2. 3101282   7.9250   NaN        S       1      1  Miss   \n",
              "3      0            113803  53.1000  C123        S       2      0   Mrs   \n",
              "4      0            373450   8.0500   NaN        S       1      1    Mr   \n",
              "\n",
              "  Fare_cat  \n",
              "0  quart_1  \n",
              "1  quart_4  \n",
              "2  quart_1  \n",
              "3  quart_4  \n",
              "4  quart_2  "
            ],
            "text/html": [
              "\n",
              "  <div id=\"df-15be846e-2d01-4563-88bd-f92cd1283f8d\" class=\"colab-df-container\">\n",
              "    <div>\n",
              "<style scoped>\n",
              "    .dataframe tbody tr th:only-of-type {\n",
              "        vertical-align: middle;\n",
              "    }\n",
              "\n",
              "    .dataframe tbody tr th {\n",
              "        vertical-align: top;\n",
              "    }\n",
              "\n",
              "    .dataframe thead th {\n",
              "        text-align: right;\n",
              "    }\n",
              "</style>\n",
              "<table border=\"1\" class=\"dataframe\">\n",
              "  <thead>\n",
              "    <tr style=\"text-align: right;\">\n",
              "      <th></th>\n",
              "      <th>PassengerId</th>\n",
              "      <th>Survived</th>\n",
              "      <th>Pclass</th>\n",
              "      <th>Name</th>\n",
              "      <th>Sex</th>\n",
              "      <th>Age</th>\n",
              "      <th>SibSp</th>\n",
              "      <th>Parch</th>\n",
              "      <th>Ticket</th>\n",
              "      <th>Fare</th>\n",
              "      <th>Cabin</th>\n",
              "      <th>Embarked</th>\n",
              "      <th>Family</th>\n",
              "      <th>Alone</th>\n",
              "      <th>Title</th>\n",
              "      <th>Fare_cat</th>\n",
              "    </tr>\n",
              "  </thead>\n",
              "  <tbody>\n",
              "    <tr>\n",
              "      <th>0</th>\n",
              "      <td>1</td>\n",
              "      <td>0.0</td>\n",
              "      <td>3</td>\n",
              "      <td>Braund, Mr. Owen Harris</td>\n",
              "      <td>male</td>\n",
              "      <td>22.0</td>\n",
              "      <td>1</td>\n",
              "      <td>0</td>\n",
              "      <td>A/5 21171</td>\n",
              "      <td>7.2500</td>\n",
              "      <td>NaN</td>\n",
              "      <td>S</td>\n",
              "      <td>2</td>\n",
              "      <td>0</td>\n",
              "      <td>Mr</td>\n",
              "      <td>quart_1</td>\n",
              "    </tr>\n",
              "    <tr>\n",
              "      <th>1</th>\n",
              "      <td>2</td>\n",
              "      <td>1.0</td>\n",
              "      <td>1</td>\n",
              "      <td>Cumings, Mrs. John Bradley (Florence Briggs Th...</td>\n",
              "      <td>female</td>\n",
              "      <td>38.0</td>\n",
              "      <td>1</td>\n",
              "      <td>0</td>\n",
              "      <td>PC 17599</td>\n",
              "      <td>71.2833</td>\n",
              "      <td>C85</td>\n",
              "      <td>C</td>\n",
              "      <td>2</td>\n",
              "      <td>0</td>\n",
              "      <td>Mrs</td>\n",
              "      <td>quart_4</td>\n",
              "    </tr>\n",
              "    <tr>\n",
              "      <th>2</th>\n",
              "      <td>3</td>\n",
              "      <td>1.0</td>\n",
              "      <td>3</td>\n",
              "      <td>Heikkinen, Miss. Laina</td>\n",
              "      <td>female</td>\n",
              "      <td>26.0</td>\n",
              "      <td>0</td>\n",
              "      <td>0</td>\n",
              "      <td>STON/O2. 3101282</td>\n",
              "      <td>7.9250</td>\n",
              "      <td>NaN</td>\n",
              "      <td>S</td>\n",
              "      <td>1</td>\n",
              "      <td>1</td>\n",
              "      <td>Miss</td>\n",
              "      <td>quart_1</td>\n",
              "    </tr>\n",
              "    <tr>\n",
              "      <th>3</th>\n",
              "      <td>4</td>\n",
              "      <td>1.0</td>\n",
              "      <td>1</td>\n",
              "      <td>Futrelle, Mrs. Jacques Heath (Lily May Peel)</td>\n",
              "      <td>female</td>\n",
              "      <td>35.0</td>\n",
              "      <td>1</td>\n",
              "      <td>0</td>\n",
              "      <td>113803</td>\n",
              "      <td>53.1000</td>\n",
              "      <td>C123</td>\n",
              "      <td>S</td>\n",
              "      <td>2</td>\n",
              "      <td>0</td>\n",
              "      <td>Mrs</td>\n",
              "      <td>quart_4</td>\n",
              "    </tr>\n",
              "    <tr>\n",
              "      <th>4</th>\n",
              "      <td>5</td>\n",
              "      <td>0.0</td>\n",
              "      <td>3</td>\n",
              "      <td>Allen, Mr. William Henry</td>\n",
              "      <td>male</td>\n",
              "      <td>35.0</td>\n",
              "      <td>0</td>\n",
              "      <td>0</td>\n",
              "      <td>373450</td>\n",
              "      <td>8.0500</td>\n",
              "      <td>NaN</td>\n",
              "      <td>S</td>\n",
              "      <td>1</td>\n",
              "      <td>1</td>\n",
              "      <td>Mr</td>\n",
              "      <td>quart_2</td>\n",
              "    </tr>\n",
              "  </tbody>\n",
              "</table>\n",
              "</div>\n",
              "    <div class=\"colab-df-buttons\">\n",
              "\n",
              "  <div class=\"colab-df-container\">\n",
              "    <button class=\"colab-df-convert\" onclick=\"convertToInteractive('df-15be846e-2d01-4563-88bd-f92cd1283f8d')\"\n",
              "            title=\"Convert this dataframe to an interactive table.\"\n",
              "            style=\"display:none;\">\n",
              "\n",
              "  <svg xmlns=\"http://www.w3.org/2000/svg\" height=\"24px\" viewBox=\"0 -960 960 960\">\n",
              "    <path d=\"M120-120v-720h720v720H120Zm60-500h600v-160H180v160Zm220 220h160v-160H400v160Zm0 220h160v-160H400v160ZM180-400h160v-160H180v160Zm440 0h160v-160H620v160ZM180-180h160v-160H180v160Zm440 0h160v-160H620v160Z\"/>\n",
              "  </svg>\n",
              "    </button>\n",
              "\n",
              "  <style>\n",
              "    .colab-df-container {\n",
              "      display:flex;\n",
              "      gap: 12px;\n",
              "    }\n",
              "\n",
              "    .colab-df-convert {\n",
              "      background-color: #E8F0FE;\n",
              "      border: none;\n",
              "      border-radius: 50%;\n",
              "      cursor: pointer;\n",
              "      display: none;\n",
              "      fill: #1967D2;\n",
              "      height: 32px;\n",
              "      padding: 0 0 0 0;\n",
              "      width: 32px;\n",
              "    }\n",
              "\n",
              "    .colab-df-convert:hover {\n",
              "      background-color: #E2EBFA;\n",
              "      box-shadow: 0px 1px 2px rgba(60, 64, 67, 0.3), 0px 1px 3px 1px rgba(60, 64, 67, 0.15);\n",
              "      fill: #174EA6;\n",
              "    }\n",
              "\n",
              "    .colab-df-buttons div {\n",
              "      margin-bottom: 4px;\n",
              "    }\n",
              "\n",
              "    [theme=dark] .colab-df-convert {\n",
              "      background-color: #3B4455;\n",
              "      fill: #D2E3FC;\n",
              "    }\n",
              "\n",
              "    [theme=dark] .colab-df-convert:hover {\n",
              "      background-color: #434B5C;\n",
              "      box-shadow: 0px 1px 3px 1px rgba(0, 0, 0, 0.15);\n",
              "      filter: drop-shadow(0px 1px 2px rgba(0, 0, 0, 0.3));\n",
              "      fill: #FFFFFF;\n",
              "    }\n",
              "  </style>\n",
              "\n",
              "    <script>\n",
              "      const buttonEl =\n",
              "        document.querySelector('#df-15be846e-2d01-4563-88bd-f92cd1283f8d button.colab-df-convert');\n",
              "      buttonEl.style.display =\n",
              "        google.colab.kernel.accessAllowed ? 'block' : 'none';\n",
              "\n",
              "      async function convertToInteractive(key) {\n",
              "        const element = document.querySelector('#df-15be846e-2d01-4563-88bd-f92cd1283f8d');\n",
              "        const dataTable =\n",
              "          await google.colab.kernel.invokeFunction('convertToInteractive',\n",
              "                                                    [key], {});\n",
              "        if (!dataTable) return;\n",
              "\n",
              "        const docLinkHtml = 'Like what you see? Visit the ' +\n",
              "          '<a target=\"_blank\" href=https://colab.research.google.com/notebooks/data_table.ipynb>data table notebook</a>'\n",
              "          + ' to learn more about interactive tables.';\n",
              "        element.innerHTML = '';\n",
              "        dataTable['output_type'] = 'display_data';\n",
              "        await google.colab.output.renderOutput(dataTable, element);\n",
              "        const docLink = document.createElement('div');\n",
              "        docLink.innerHTML = docLinkHtml;\n",
              "        element.appendChild(docLink);\n",
              "      }\n",
              "    </script>\n",
              "  </div>\n",
              "\n",
              "\n",
              "<div id=\"df-56375949-9394-4c4d-8b62-7b00e09b9e15\">\n",
              "  <button class=\"colab-df-quickchart\" onclick=\"quickchart('df-56375949-9394-4c4d-8b62-7b00e09b9e15')\"\n",
              "            title=\"Suggest charts\"\n",
              "            style=\"display:none;\">\n",
              "\n",
              "<svg xmlns=\"http://www.w3.org/2000/svg\" height=\"24px\"viewBox=\"0 0 24 24\"\n",
              "     width=\"24px\">\n",
              "    <g>\n",
              "        <path d=\"M19 3H5c-1.1 0-2 .9-2 2v14c0 1.1.9 2 2 2h14c1.1 0 2-.9 2-2V5c0-1.1-.9-2-2-2zM9 17H7v-7h2v7zm4 0h-2V7h2v10zm4 0h-2v-4h2v4z\"/>\n",
              "    </g>\n",
              "</svg>\n",
              "  </button>\n",
              "\n",
              "<style>\n",
              "  .colab-df-quickchart {\n",
              "      --bg-color: #E8F0FE;\n",
              "      --fill-color: #1967D2;\n",
              "      --hover-bg-color: #E2EBFA;\n",
              "      --hover-fill-color: #174EA6;\n",
              "      --disabled-fill-color: #AAA;\n",
              "      --disabled-bg-color: #DDD;\n",
              "  }\n",
              "\n",
              "  [theme=dark] .colab-df-quickchart {\n",
              "      --bg-color: #3B4455;\n",
              "      --fill-color: #D2E3FC;\n",
              "      --hover-bg-color: #434B5C;\n",
              "      --hover-fill-color: #FFFFFF;\n",
              "      --disabled-bg-color: #3B4455;\n",
              "      --disabled-fill-color: #666;\n",
              "  }\n",
              "\n",
              "  .colab-df-quickchart {\n",
              "    background-color: var(--bg-color);\n",
              "    border: none;\n",
              "    border-radius: 50%;\n",
              "    cursor: pointer;\n",
              "    display: none;\n",
              "    fill: var(--fill-color);\n",
              "    height: 32px;\n",
              "    padding: 0;\n",
              "    width: 32px;\n",
              "  }\n",
              "\n",
              "  .colab-df-quickchart:hover {\n",
              "    background-color: var(--hover-bg-color);\n",
              "    box-shadow: 0 1px 2px rgba(60, 64, 67, 0.3), 0 1px 3px 1px rgba(60, 64, 67, 0.15);\n",
              "    fill: var(--button-hover-fill-color);\n",
              "  }\n",
              "\n",
              "  .colab-df-quickchart-complete:disabled,\n",
              "  .colab-df-quickchart-complete:disabled:hover {\n",
              "    background-color: var(--disabled-bg-color);\n",
              "    fill: var(--disabled-fill-color);\n",
              "    box-shadow: none;\n",
              "  }\n",
              "\n",
              "  .colab-df-spinner {\n",
              "    border: 2px solid var(--fill-color);\n",
              "    border-color: transparent;\n",
              "    border-bottom-color: var(--fill-color);\n",
              "    animation:\n",
              "      spin 1s steps(1) infinite;\n",
              "  }\n",
              "\n",
              "  @keyframes spin {\n",
              "    0% {\n",
              "      border-color: transparent;\n",
              "      border-bottom-color: var(--fill-color);\n",
              "      border-left-color: var(--fill-color);\n",
              "    }\n",
              "    20% {\n",
              "      border-color: transparent;\n",
              "      border-left-color: var(--fill-color);\n",
              "      border-top-color: var(--fill-color);\n",
              "    }\n",
              "    30% {\n",
              "      border-color: transparent;\n",
              "      border-left-color: var(--fill-color);\n",
              "      border-top-color: var(--fill-color);\n",
              "      border-right-color: var(--fill-color);\n",
              "    }\n",
              "    40% {\n",
              "      border-color: transparent;\n",
              "      border-right-color: var(--fill-color);\n",
              "      border-top-color: var(--fill-color);\n",
              "    }\n",
              "    60% {\n",
              "      border-color: transparent;\n",
              "      border-right-color: var(--fill-color);\n",
              "    }\n",
              "    80% {\n",
              "      border-color: transparent;\n",
              "      border-right-color: var(--fill-color);\n",
              "      border-bottom-color: var(--fill-color);\n",
              "    }\n",
              "    90% {\n",
              "      border-color: transparent;\n",
              "      border-bottom-color: var(--fill-color);\n",
              "    }\n",
              "  }\n",
              "</style>\n",
              "\n",
              "  <script>\n",
              "    async function quickchart(key) {\n",
              "      const quickchartButtonEl =\n",
              "        document.querySelector('#' + key + ' button');\n",
              "      quickchartButtonEl.disabled = true;  // To prevent multiple clicks.\n",
              "      quickchartButtonEl.classList.add('colab-df-spinner');\n",
              "      try {\n",
              "        const charts = await google.colab.kernel.invokeFunction(\n",
              "            'suggestCharts', [key], {});\n",
              "      } catch (error) {\n",
              "        console.error('Error during call to suggestCharts:', error);\n",
              "      }\n",
              "      quickchartButtonEl.classList.remove('colab-df-spinner');\n",
              "      quickchartButtonEl.classList.add('colab-df-quickchart-complete');\n",
              "    }\n",
              "    (() => {\n",
              "      let quickchartButtonEl =\n",
              "        document.querySelector('#df-56375949-9394-4c4d-8b62-7b00e09b9e15 button');\n",
              "      quickchartButtonEl.style.display =\n",
              "        google.colab.kernel.accessAllowed ? 'block' : 'none';\n",
              "    })();\n",
              "  </script>\n",
              "</div>\n",
              "    </div>\n",
              "  </div>\n"
            ],
            "application/vnd.google.colaboratory.intrinsic+json": {
              "type": "dataframe",
              "variable_name": "df",
              "summary": "{\n  \"name\": \"df\",\n  \"rows\": 1309,\n  \"fields\": [\n    {\n      \"column\": \"PassengerId\",\n      \"properties\": {\n        \"dtype\": \"number\",\n        \"std\": 378,\n        \"min\": 1,\n        \"max\": 1309,\n        \"num_unique_values\": 1309,\n        \"samples\": [\n          1149,\n          1050,\n          983\n        ],\n        \"semantic_type\": \"\",\n        \"description\": \"\"\n      }\n    },\n    {\n      \"column\": \"Survived\",\n      \"properties\": {\n        \"dtype\": \"number\",\n        \"std\": 0.4865924542648575,\n        \"min\": 0.0,\n        \"max\": 1.0,\n        \"num_unique_values\": 2,\n        \"samples\": [\n          1.0,\n          0.0\n        ],\n        \"semantic_type\": \"\",\n        \"description\": \"\"\n      }\n    },\n    {\n      \"column\": \"Pclass\",\n      \"properties\": {\n        \"dtype\": \"number\",\n        \"std\": 0,\n        \"min\": 1,\n        \"max\": 3,\n        \"num_unique_values\": 3,\n        \"samples\": [\n          3,\n          1\n        ],\n        \"semantic_type\": \"\",\n        \"description\": \"\"\n      }\n    },\n    {\n      \"column\": \"Name\",\n      \"properties\": {\n        \"dtype\": \"string\",\n        \"num_unique_values\": 1307,\n        \"samples\": [\n          \"Bryhl, Miss. Dagmar Jenny Ingeborg \",\n          \"Borebank, Mr. John James\"\n        ],\n        \"semantic_type\": \"\",\n        \"description\": \"\"\n      }\n    },\n    {\n      \"column\": \"Sex\",\n      \"properties\": {\n        \"dtype\": \"category\",\n        \"num_unique_values\": 2,\n        \"samples\": [\n          \"female\",\n          \"male\"\n        ],\n        \"semantic_type\": \"\",\n        \"description\": \"\"\n      }\n    },\n    {\n      \"column\": \"Age\",\n      \"properties\": {\n        \"dtype\": \"number\",\n        \"std\": 17.727917072033534,\n        \"min\": -0.5,\n        \"max\": 80.0,\n        \"num_unique_values\": 99,\n        \"samples\": [\n          36.0,\n          33.0\n        ],\n        \"semantic_type\": \"\",\n        \"description\": \"\"\n      }\n    },\n    {\n      \"column\": \"SibSp\",\n      \"properties\": {\n        \"dtype\": \"number\",\n        \"std\": 1,\n        \"min\": 0,\n        \"max\": 8,\n        \"num_unique_values\": 7,\n        \"samples\": [\n          1,\n          0\n        ],\n        \"semantic_type\": \"\",\n        \"description\": \"\"\n      }\n    },\n    {\n      \"column\": \"Parch\",\n      \"properties\": {\n        \"dtype\": \"number\",\n        \"std\": 0,\n        \"min\": 0,\n        \"max\": 9,\n        \"num_unique_values\": 8,\n        \"samples\": [\n          1,\n          4\n        ],\n        \"semantic_type\": \"\",\n        \"description\": \"\"\n      }\n    },\n    {\n      \"column\": \"Ticket\",\n      \"properties\": {\n        \"dtype\": \"string\",\n        \"num_unique_values\": 929,\n        \"samples\": [\n          \"PC 17531\",\n          \"345765\"\n        ],\n        \"semantic_type\": \"\",\n        \"description\": \"\"\n      }\n    },\n    {\n      \"column\": \"Fare\",\n      \"properties\": {\n        \"dtype\": \"number\",\n        \"std\": 51.741499767526044,\n        \"min\": 0.0,\n        \"max\": 512.3292,\n        \"num_unique_values\": 281,\n        \"samples\": [\n          11.2417,\n          35.0\n        ],\n        \"semantic_type\": \"\",\n        \"description\": \"\"\n      }\n    },\n    {\n      \"column\": \"Cabin\",\n      \"properties\": {\n        \"dtype\": \"category\",\n        \"num_unique_values\": 186,\n        \"samples\": [\n          \"B71\",\n          \"C51\"\n        ],\n        \"semantic_type\": \"\",\n        \"description\": \"\"\n      }\n    },\n    {\n      \"column\": \"Embarked\",\n      \"properties\": {\n        \"dtype\": \"category\",\n        \"num_unique_values\": 3,\n        \"samples\": [\n          \"S\",\n          \"C\"\n        ],\n        \"semantic_type\": \"\",\n        \"description\": \"\"\n      }\n    },\n    {\n      \"column\": \"Family\",\n      \"properties\": {\n        \"dtype\": \"number\",\n        \"std\": 1,\n        \"min\": 1,\n        \"max\": 11,\n        \"num_unique_values\": 9,\n        \"samples\": [\n          8,\n          1\n        ],\n        \"semantic_type\": \"\",\n        \"description\": \"\"\n      }\n    },\n    {\n      \"column\": \"Alone\",\n      \"properties\": {\n        \"dtype\": \"number\",\n        \"std\": 0,\n        \"min\": 0,\n        \"max\": 1,\n        \"num_unique_values\": 2,\n        \"samples\": [\n          1,\n          0\n        ],\n        \"semantic_type\": \"\",\n        \"description\": \"\"\n      }\n    },\n    {\n      \"column\": \"Title\",\n      \"properties\": {\n        \"dtype\": \"category\",\n        \"num_unique_values\": 6,\n        \"samples\": [\n          \"Mr\",\n          \"Mrs\"\n        ],\n        \"semantic_type\": \"\",\n        \"description\": \"\"\n      }\n    },\n    {\n      \"column\": \"Fare_cat\",\n      \"properties\": {\n        \"dtype\": \"category\",\n        \"num_unique_values\": 5,\n        \"samples\": [\n          \"quart_4\",\n          \"NoInf\"\n        ],\n        \"semantic_type\": \"\",\n        \"description\": \"\"\n      }\n    }\n  ]\n}"
            }
          },
          "metadata": {},
          "execution_count": 242
        }
      ],
      "source": [
        "df.head()"
      ]
    },
    {
      "cell_type": "markdown",
      "metadata": {
        "papermill": {
          "duration": 0.104576,
          "end_time": "2020-08-25T11:37:18.241973",
          "exception": false,
          "start_time": "2020-08-25T11:37:18.137397",
          "status": "completed"
        },
        "tags": [],
        "id": "HpE1dzwGJGko"
      },
      "source": [
        "**Also, we will drop the columns which we don't require.**"
      ]
    },
    {
      "cell_type": "code",
      "execution_count": 243,
      "metadata": {
        "execution": {
          "iopub.execute_input": "2020-08-25T11:37:18.455484Z",
          "iopub.status.busy": "2020-08-25T11:37:18.454523Z",
          "iopub.status.idle": "2020-08-25T11:37:18.461215Z",
          "shell.execute_reply": "2020-08-25T11:37:18.460458Z"
        },
        "papermill": {
          "duration": 0.117062,
          "end_time": "2020-08-25T11:37:18.461419",
          "exception": false,
          "start_time": "2020-08-25T11:37:18.344357",
          "status": "completed"
        },
        "tags": [],
        "id": "V-h5x90-JGko"
      },
      "outputs": [],
      "source": [
        "df = df.drop(['Name','Ticket', 'Cabin'], axis=1)"
      ]
    },
    {
      "cell_type": "markdown",
      "metadata": {
        "papermill": {
          "duration": 0.102579,
          "end_time": "2020-08-25T11:37:18.669021",
          "exception": false,
          "start_time": "2020-08-25T11:37:18.566442",
          "status": "completed"
        },
        "tags": [],
        "id": "8Y5I8AXdJGkp"
      },
      "source": [
        "**Now as we have applied all the feature engineering steps so now its time to separate our data back.**"
      ]
    },
    {
      "cell_type": "code",
      "execution_count": 244,
      "metadata": {
        "execution": {
          "iopub.execute_input": "2020-08-25T11:37:18.886374Z",
          "iopub.status.busy": "2020-08-25T11:37:18.885441Z",
          "iopub.status.idle": "2020-08-25T11:37:18.889619Z",
          "shell.execute_reply": "2020-08-25T11:37:18.888923Z"
        },
        "papermill": {
          "duration": 0.118024,
          "end_time": "2020-08-25T11:37:18.889766",
          "exception": false,
          "start_time": "2020-08-25T11:37:18.771742",
          "status": "completed"
        },
        "tags": [],
        "id": "pXysh1HuJGkp"
      },
      "outputs": [],
      "source": [
        "dfs = np.split(df, [len(df1)], axis=0)"
      ]
    },
    {
      "cell_type": "code",
      "execution_count": 245,
      "metadata": {
        "execution": {
          "iopub.execute_input": "2020-08-25T11:37:19.111009Z",
          "iopub.status.busy": "2020-08-25T11:37:19.110102Z",
          "iopub.status.idle": "2020-08-25T11:37:19.114785Z",
          "shell.execute_reply": "2020-08-25T11:37:19.114198Z"
        },
        "papermill": {
          "duration": 0.115361,
          "end_time": "2020-08-25T11:37:19.114961",
          "exception": false,
          "start_time": "2020-08-25T11:37:18.999600",
          "status": "completed"
        },
        "tags": [],
        "colab": {
          "base_uri": "https://localhost:8080/"
        },
        "id": "4fsbtR6rJGkp",
        "outputId": "16718f68-a454-42dd-8995-2b297b7fe9cc"
      },
      "outputs": [
        {
          "output_type": "execute_result",
          "data": {
            "text/plain": [
              "(891, 13)"
            ]
          },
          "metadata": {},
          "execution_count": 245
        }
      ],
      "source": [
        "train = dfs[0]\n",
        "train.shape"
      ]
    },
    {
      "cell_type": "code",
      "execution_count": 246,
      "metadata": {
        "execution": {
          "iopub.execute_input": "2020-08-25T11:37:19.335083Z",
          "iopub.status.busy": "2020-08-25T11:37:19.333749Z",
          "iopub.status.idle": "2020-08-25T11:37:19.339037Z",
          "shell.execute_reply": "2020-08-25T11:37:19.338355Z"
        },
        "papermill": {
          "duration": 0.118709,
          "end_time": "2020-08-25T11:37:19.339176",
          "exception": false,
          "start_time": "2020-08-25T11:37:19.220467",
          "status": "completed"
        },
        "tags": [],
        "colab": {
          "base_uri": "https://localhost:8080/"
        },
        "id": "wLgdRXwZJGkp",
        "outputId": "d0d755ad-7e49-4e11-972b-ce40b14aae09"
      },
      "outputs": [
        {
          "output_type": "execute_result",
          "data": {
            "text/plain": [
              "(418, 12)"
            ]
          },
          "metadata": {},
          "execution_count": 246
        }
      ],
      "source": [
        "test = dfs[1]\n",
        "del test['Survived']\n",
        "test.shape"
      ]
    },
    {
      "cell_type": "markdown",
      "metadata": {
        "papermill": {
          "duration": 0.104134,
          "end_time": "2020-08-25T11:37:19.547153",
          "exception": false,
          "start_time": "2020-08-25T11:37:19.443019",
          "status": "completed"
        },
        "tags": [],
        "id": "3Ltv8O65JGkp"
      },
      "source": [
        "<a id='6'></a>\n",
        "# **Spark ML Models**\n",
        "So now it's time to create our models. Spark ML is a package which aims to provide a uniform set of high-level APIs that help users create and tune practical machine learning pipelines. Spark ML standardizes APIs for machine learning algorithms to make it easier to combine multiple algorithms into a single pipeline, or workflow.<br> ***Here as we are using pyspark to create our models, we first have to convert our data from pandas frame to spark frame.***"
      ]
    },
    {
      "cell_type": "code",
      "execution_count": 247,
      "metadata": {
        "execution": {
          "iopub.execute_input": "2020-08-25T11:37:19.804719Z",
          "iopub.status.busy": "2020-08-25T11:37:19.803820Z",
          "iopub.status.idle": "2020-08-25T11:37:23.432726Z",
          "shell.execute_reply": "2020-08-25T11:37:23.431981Z"
        },
        "papermill": {
          "duration": 3.783418,
          "end_time": "2020-08-25T11:37:23.432889",
          "exception": false,
          "start_time": "2020-08-25T11:37:19.649471",
          "status": "completed"
        },
        "tags": [],
        "id": "lUO-wjg8JGkp"
      },
      "outputs": [],
      "source": [
        "train = sqlContext.createDataFrame(train)"
      ]
    },
    {
      "cell_type": "markdown",
      "metadata": {
        "papermill": {
          "duration": 0.10572,
          "end_time": "2020-08-25T11:37:23.647313",
          "exception": false,
          "start_time": "2020-08-25T11:37:23.541593",
          "status": "completed"
        },
        "tags": [],
        "id": "DvwjjCK9JGkp"
      },
      "source": [
        "**As some of the column contains values in string format so first we indexed them using StringIndexer. A StringIndexer will assign unique integer number to each unique string values.**"
      ]
    },
    {
      "cell_type": "code",
      "execution_count": 248,
      "metadata": {
        "execution": {
          "iopub.execute_input": "2020-08-25T11:37:23.868171Z",
          "iopub.status.busy": "2020-08-25T11:37:23.866855Z",
          "iopub.status.idle": "2020-08-25T11:37:23.934093Z",
          "shell.execute_reply": "2020-08-25T11:37:23.933216Z"
        },
        "papermill": {
          "duration": 0.18148,
          "end_time": "2020-08-25T11:37:23.934231",
          "exception": false,
          "start_time": "2020-08-25T11:37:23.752751",
          "status": "completed"
        },
        "tags": [],
        "id": "wkgiGHhOJGkp"
      },
      "outputs": [],
      "source": [
        "indexer = StringIndexer(inputCol='Sex',outputCol='label1')\n",
        "indexer2 = StringIndexer(inputCol='Embarked',outputCol='label2')\n",
        "indexer3 = StringIndexer(inputCol='Fare_cat',outputCol='label3')\n",
        "indexer4 = StringIndexer(inputCol='Title',outputCol='label4')"
      ]
    },
    {
      "cell_type": "markdown",
      "metadata": {
        "papermill": {
          "duration": 0.10502,
          "end_time": "2020-08-25T11:37:24.143083",
          "exception": false,
          "start_time": "2020-08-25T11:37:24.038063",
          "status": "completed"
        },
        "tags": [],
        "id": "KosgBodKJGkp"
      },
      "source": [
        "**Then data is converted which are required to predict survival into vector form by using VectorAssembler as VectorAssembler is a transformer that combines a given list of columns into a single vector column. It is useful for combining raw features and features generated by different feature transformers into a single feature vector, in order to train ML models.<br>Normalizer is a Transformer which transforms a dataset of Vector rows, normalizing each Vector to have unit norm. It takes parameter p, which specifies the p-norm used for normalization. This normalization can help standardize your input data and improve the behavior of learning algorithms.  So then we normalize our data by using Normalizer.**"
      ]
    },
    {
      "cell_type": "code",
      "execution_count": 249,
      "metadata": {
        "execution": {
          "iopub.execute_input": "2020-08-25T11:37:24.367532Z",
          "iopub.status.busy": "2020-08-25T11:37:24.366645Z",
          "iopub.status.idle": "2020-08-25T11:37:24.393718Z",
          "shell.execute_reply": "2020-08-25T11:37:24.393036Z"
        },
        "papermill": {
          "duration": 0.141183,
          "end_time": "2020-08-25T11:37:24.393878",
          "exception": false,
          "start_time": "2020-08-25T11:37:24.252695",
          "status": "completed"
        },
        "tags": [],
        "id": "F_zkZlHzJGkp"
      },
      "outputs": [],
      "source": [
        "vector = VectorAssembler(inputCols=['label1','Pclass','Age','label2','Family','label3','label4', 'Alone'],outputCol='features')\n",
        "normalizer = Normalizer(inputCol='features',outputCol='features_norm', p=1.0)"
      ]
    },
    {
      "cell_type": "markdown",
      "metadata": {
        "papermill": {
          "duration": 0.102574,
          "end_time": "2020-08-25T11:37:24.603451",
          "exception": false,
          "start_time": "2020-08-25T11:37:24.500877",
          "status": "completed"
        },
        "tags": [],
        "id": "r4ZYQ9DWJGkp"
      },
      "source": [
        "**Then we call our model and give the input and the output column. Here, the input column will be our normalized data and the output column is what we have to predict i.e. Survived.**"
      ]
    },
    {
      "cell_type": "code",
      "execution_count": 250,
      "metadata": {
        "execution": {
          "iopub.execute_input": "2020-08-25T11:37:24.820692Z",
          "iopub.status.busy": "2020-08-25T11:37:24.819873Z",
          "iopub.status.idle": "2020-08-25T11:37:24.885145Z",
          "shell.execute_reply": "2020-08-25T11:37:24.884109Z"
        },
        "papermill": {
          "duration": 0.178315,
          "end_time": "2020-08-25T11:37:24.885317",
          "exception": false,
          "start_time": "2020-08-25T11:37:24.707002",
          "status": "completed"
        },
        "tags": [],
        "id": "t5EuQEQPJGkp"
      },
      "outputs": [],
      "source": [
        "lor = LogisticRegression(featuresCol='features_norm', labelCol='Survived', maxIter=10)"
      ]
    },
    {
      "cell_type": "markdown",
      "metadata": {
        "papermill": {
          "duration": 0.10503,
          "end_time": "2020-08-25T11:37:25.095057",
          "exception": false,
          "start_time": "2020-08-25T11:37:24.990027",
          "status": "completed"
        },
        "tags": [],
        "id": "51jEHRZFJGkp"
      },
      "source": [
        "**Now it's time to call  pipeline. MLlib standardizes APIs for machine learning algorithms to make it easier to combine multiple algorithms into a single pipeline, or workflow. So we add all the commands which we have called till now and add them to pipeline.**"
      ]
    },
    {
      "cell_type": "code",
      "execution_count": 251,
      "metadata": {
        "execution": {
          "iopub.execute_input": "2020-08-25T11:37:25.309961Z",
          "iopub.status.busy": "2020-08-25T11:37:25.309074Z",
          "iopub.status.idle": "2020-08-25T11:37:25.312418Z",
          "shell.execute_reply": "2020-08-25T11:37:25.311571Z"
        },
        "papermill": {
          "duration": 0.112777,
          "end_time": "2020-08-25T11:37:25.312554",
          "exception": false,
          "start_time": "2020-08-25T11:37:25.199777",
          "status": "completed"
        },
        "tags": [],
        "id": "RfP4z8D4JGkp"
      },
      "outputs": [],
      "source": [
        "pipeline1 = Pipeline(stages=[indexer,indexer2,indexer3,indexer4,vector,normalizer,lor])"
      ]
    },
    {
      "cell_type": "markdown",
      "metadata": {
        "papermill": {
          "duration": 0.103226,
          "end_time": "2020-08-25T11:37:25.518527",
          "exception": false,
          "start_time": "2020-08-25T11:37:25.415301",
          "status": "completed"
        },
        "tags": [],
        "id": "fnmUfckKJGkp"
      },
      "source": [
        "**Next, we will fit our pipeline and create a model. This method is called Estimator. An Estimator abstracts the concept of a learning algorithm or any algorithm that fits or trains on data. Technically, an Estimator implements a method fit(), which accepts a DataFrame and produces a Model, which is a Transformer. For example, a learning algorithm such as LogisticRegression is an Estimator, and calling fit() trains a LogisticRegressionModel, which is a Model and hence a Transformer.**"
      ]
    },
    {
      "cell_type": "code",
      "execution_count": 252,
      "metadata": {
        "execution": {
          "iopub.execute_input": "2020-08-25T11:37:25.731418Z",
          "iopub.status.busy": "2020-08-25T11:37:25.730369Z",
          "iopub.status.idle": "2020-08-25T11:37:37.261443Z",
          "shell.execute_reply": "2020-08-25T11:37:37.262694Z"
        },
        "papermill": {
          "duration": 11.640984,
          "end_time": "2020-08-25T11:37:37.262985",
          "exception": false,
          "start_time": "2020-08-25T11:37:25.622001",
          "status": "completed"
        },
        "tags": [],
        "id": "fkznVGSkJGkp"
      },
      "outputs": [],
      "source": [
        "model1 = pipeline1.fit(train)"
      ]
    },
    {
      "cell_type": "markdown",
      "metadata": {
        "papermill": {
          "duration": 0.102048,
          "end_time": "2020-08-25T11:37:37.479091",
          "exception": false,
          "start_time": "2020-08-25T11:37:37.377043",
          "status": "completed"
        },
        "tags": [],
        "id": "apMZ-vkHJGkp"
      },
      "source": [
        "**Finally we perform transform function which is known as transformer. A Transformer is an abstraction that includes feature transformers and learned models. Technically, a Transformer implements a method transform(), which converts one DataFrame into another, generally by appending one or more columns.**"
      ]
    },
    {
      "cell_type": "code",
      "execution_count": 253,
      "metadata": {
        "execution": {
          "iopub.execute_input": "2020-08-25T11:37:37.690427Z",
          "iopub.status.busy": "2020-08-25T11:37:37.689594Z",
          "iopub.status.idle": "2020-08-25T11:37:37.966200Z",
          "shell.execute_reply": "2020-08-25T11:37:37.964890Z"
        },
        "papermill": {
          "duration": 0.384282,
          "end_time": "2020-08-25T11:37:37.966411",
          "exception": false,
          "start_time": "2020-08-25T11:37:37.582129",
          "status": "completed"
        },
        "tags": [],
        "id": "YFDKweqeJGkq"
      },
      "outputs": [],
      "source": [
        "predictions1 = model1.transform(train)"
      ]
    },
    {
      "cell_type": "markdown",
      "metadata": {
        "papermill": {
          "duration": 0.106752,
          "end_time": "2020-08-25T11:37:38.176312",
          "exception": false,
          "start_time": "2020-08-25T11:37:38.069560",
          "status": "completed"
        },
        "tags": [],
        "id": "EVOoWXRzJGkq"
      },
      "source": [
        "**For comparsion of different models we are initializing one list which will store accuracy of all the models.**"
      ]
    },
    {
      "cell_type": "code",
      "execution_count": 254,
      "metadata": {
        "execution": {
          "iopub.execute_input": "2020-08-25T11:37:38.387204Z",
          "iopub.status.busy": "2020-08-25T11:37:38.386390Z",
          "iopub.status.idle": "2020-08-25T11:37:38.389992Z",
          "shell.execute_reply": "2020-08-25T11:37:38.389180Z"
        },
        "papermill": {
          "duration": 0.110849,
          "end_time": "2020-08-25T11:37:38.390125",
          "exception": false,
          "start_time": "2020-08-25T11:37:38.279276",
          "status": "completed"
        },
        "tags": [],
        "id": "lToSFvQNJGkq"
      },
      "outputs": [],
      "source": [
        "accuracy = []"
      ]
    },
    {
      "cell_type": "markdown",
      "metadata": {
        "papermill": {
          "duration": 0.102221,
          "end_time": "2020-08-25T11:37:38.597299",
          "exception": false,
          "start_time": "2020-08-25T11:37:38.495078",
          "status": "completed"
        },
        "tags": [],
        "id": "iVVkZFsjJGkq"
      },
      "source": [
        "**Using MulticlassClassificationEvaluator we will get the accuracy of our model.**"
      ]
    },
    {
      "cell_type": "code",
      "execution_count": 255,
      "metadata": {
        "execution": {
          "iopub.execute_input": "2020-08-25T11:37:38.810503Z",
          "iopub.status.busy": "2020-08-25T11:37:38.809679Z",
          "iopub.status.idle": "2020-08-25T11:37:39.704502Z",
          "shell.execute_reply": "2020-08-25T11:37:39.703086Z"
        },
        "papermill": {
          "duration": 1.003483,
          "end_time": "2020-08-25T11:37:39.704739",
          "exception": false,
          "start_time": "2020-08-25T11:37:38.701256",
          "status": "completed"
        },
        "tags": [],
        "colab": {
          "base_uri": "https://localhost:8080/"
        },
        "id": "ftZIWZvNJGkq",
        "outputId": "7e0b28bb-ad86-4f79-ebf9-27caddbab071"
      },
      "outputs": [
        {
          "output_type": "stream",
          "name": "stdout",
          "text": [
            "The accuracy is: 0.819304152637486\n"
          ]
        }
      ],
      "source": [
        "eval = MulticlassClassificationEvaluator().setMetricName('accuracy').setLabelCol('Survived').setPredictionCol('prediction')\n",
        "print(\"The accuracy is: \" + str(eval.evaluate(predictions1)))\n",
        "accuracy.append(eval.evaluate(predictions1))"
      ]
    },
    {
      "cell_type": "markdown",
      "metadata": {
        "papermill": {
          "duration": 0.127004,
          "end_time": "2020-08-25T11:37:39.983988",
          "exception": false,
          "start_time": "2020-08-25T11:37:39.856984",
          "status": "completed"
        },
        "tags": [],
        "id": "hN8N5sFOJGkq"
      },
      "source": [
        "**The second classification method is GBTClassifier. We have to almost repeat the same steps as we did previously and just have to change the name of model and pipeline and call the gbtclassifier and check the accuracy of the model.**"
      ]
    },
    {
      "cell_type": "code",
      "execution_count": 256,
      "metadata": {
        "execution": {
          "iopub.execute_input": "2020-08-25T11:37:40.207945Z",
          "iopub.status.busy": "2020-08-25T11:37:40.207132Z",
          "iopub.status.idle": "2020-08-25T11:38:24.438243Z",
          "shell.execute_reply": "2020-08-25T11:38:24.439057Z"
        },
        "papermill": {
          "duration": 44.34735,
          "end_time": "2020-08-25T11:38:24.439267",
          "exception": false,
          "start_time": "2020-08-25T11:37:40.091917",
          "status": "completed"
        },
        "tags": [],
        "colab": {
          "base_uri": "https://localhost:8080/"
        },
        "id": "xHF4C0WWJGkq",
        "outputId": "e6639bf1-0b96-470f-a576-165821517b25"
      },
      "outputs": [
        {
          "output_type": "stream",
          "name": "stdout",
          "text": [
            "The accuracy is: 0.9450056116722784\n"
          ]
        }
      ],
      "source": [
        "gbt = GBTClassifier(featuresCol='features_norm',labelCol='Survived',maxIter=100)\n",
        "pipeline2 = Pipeline(stages=[indexer,indexer2,indexer3,indexer4,vector,normalizer,gbt])\n",
        "model2 = pipeline2.fit(train)\n",
        "predictions2 = model2.transform(train)\n",
        "\n",
        "from pyspark.ml.evaluation import MulticlassClassificationEvaluator\n",
        "eval = MulticlassClassificationEvaluator().setMetricName('accuracy').setLabelCol('Survived').setPredictionCol('prediction')\n",
        "print(\"The accuracy is: \" + str(eval.evaluate(predictions2)))\n",
        "accuracy.append(eval.evaluate(predictions2))"
      ]
    },
    {
      "cell_type": "markdown",
      "metadata": {
        "papermill": {
          "duration": 0.103666,
          "end_time": "2020-08-25T11:38:24.650107",
          "exception": false,
          "start_time": "2020-08-25T11:38:24.546441",
          "status": "completed"
        },
        "tags": [],
        "id": "wx1tiQWgJGkq"
      },
      "source": [
        "**The third classification method is Linear Support Vector Classifier.**"
      ]
    },
    {
      "cell_type": "code",
      "execution_count": 257,
      "metadata": {
        "execution": {
          "iopub.execute_input": "2020-08-25T11:38:24.870474Z",
          "iopub.status.busy": "2020-08-25T11:38:24.869290Z",
          "iopub.status.idle": "2020-08-25T11:38:27.538251Z",
          "shell.execute_reply": "2020-08-25T11:38:27.539233Z"
        },
        "papermill": {
          "duration": 2.784126,
          "end_time": "2020-08-25T11:38:27.539482",
          "exception": false,
          "start_time": "2020-08-25T11:38:24.755356",
          "status": "completed"
        },
        "tags": [],
        "colab": {
          "base_uri": "https://localhost:8080/"
        },
        "id": "7jws3pykJGkq",
        "outputId": "878c943e-dc83-43b0-9606-a853775604ac"
      },
      "outputs": [
        {
          "output_type": "stream",
          "name": "stdout",
          "text": [
            "The accuracy is: 0.8114478114478114\n"
          ]
        }
      ],
      "source": [
        "svc = LinearSVC(featuresCol='features_norm', labelCol='Survived', maxIter=10)\n",
        "pipeline3 = Pipeline(stages=[indexer,indexer2,indexer3,indexer4,vector,normalizer,svc])\n",
        "model3 = pipeline3.fit(train)\n",
        "predictions3 = model3.transform(train)\n",
        "\n",
        "from pyspark.ml.evaluation import MulticlassClassificationEvaluator\n",
        "eval = MulticlassClassificationEvaluator().setMetricName('accuracy').setLabelCol('Survived').setPredictionCol('prediction')\n",
        "print(\"The accuracy is: \" + str(eval.evaluate(predictions3)))\n",
        "accuracy.append(eval.evaluate(predictions3))"
      ]
    },
    {
      "cell_type": "markdown",
      "metadata": {
        "papermill": {
          "duration": 0.14218,
          "end_time": "2020-08-25T11:38:27.799317",
          "exception": false,
          "start_time": "2020-08-25T11:38:27.657137",
          "status": "completed"
        },
        "tags": [],
        "id": "5iL8Gk1WJGkq"
      },
      "source": [
        "**The fourth classification method is DecisionTreeClassifier.**"
      ]
    },
    {
      "cell_type": "code",
      "execution_count": 258,
      "metadata": {
        "execution": {
          "iopub.execute_input": "2020-08-25T11:38:28.042407Z",
          "iopub.status.busy": "2020-08-25T11:38:28.041162Z",
          "iopub.status.idle": "2020-08-25T11:38:30.554574Z",
          "shell.execute_reply": "2020-08-25T11:38:30.556132Z"
        },
        "papermill": {
          "duration": 2.640944,
          "end_time": "2020-08-25T11:38:30.556366",
          "exception": false,
          "start_time": "2020-08-25T11:38:27.915422",
          "status": "completed"
        },
        "tags": [],
        "colab": {
          "base_uri": "https://localhost:8080/"
        },
        "id": "Ip8ZiMerJGkq",
        "outputId": "67ff2d1f-84c2-42a9-e694-74ffa37268a4"
      },
      "outputs": [
        {
          "output_type": "stream",
          "name": "stdout",
          "text": [
            "The accuracy is: 0.8496071829405163\n"
          ]
        }
      ],
      "source": [
        "dt = DecisionTreeClassifier(featuresCol='features_norm', labelCol='Survived')\n",
        "pipeline4 = Pipeline(stages=[indexer,indexer2,indexer3,indexer4,vector,normalizer,dt])\n",
        "model4 = pipeline4.fit(train)\n",
        "predictions4 = model4.transform(train)\n",
        "\n",
        "from pyspark.ml.evaluation import MulticlassClassificationEvaluator\n",
        "eval = MulticlassClassificationEvaluator().setMetricName('accuracy').setLabelCol('Survived').setPredictionCol('prediction')\n",
        "print(\"The accuracy is: \" + str(eval.evaluate(predictions4)))\n",
        "accuracy.append(eval.evaluate(predictions4))"
      ]
    },
    {
      "cell_type": "markdown",
      "metadata": {
        "papermill": {
          "duration": 0.1088,
          "end_time": "2020-08-25T11:38:30.786699",
          "exception": false,
          "start_time": "2020-08-25T11:38:30.677899",
          "status": "completed"
        },
        "tags": [],
        "id": "sLmzPGEWJGkq"
      },
      "source": [
        "**The fifth classification method is RandomForestClassifier.**"
      ]
    },
    {
      "cell_type": "code",
      "execution_count": 259,
      "metadata": {
        "execution": {
          "iopub.execute_input": "2020-08-25T11:38:31.015598Z",
          "iopub.status.busy": "2020-08-25T11:38:31.014305Z",
          "iopub.status.idle": "2020-08-25T11:38:33.772210Z",
          "shell.execute_reply": "2020-08-25T11:38:33.771479Z"
        },
        "papermill": {
          "duration": 2.875771,
          "end_time": "2020-08-25T11:38:33.772359",
          "exception": false,
          "start_time": "2020-08-25T11:38:30.896588",
          "status": "completed"
        },
        "tags": [],
        "colab": {
          "base_uri": "https://localhost:8080/"
        },
        "id": "g5vI6g2NJGkq",
        "outputId": "ba58571e-b584-467d-bdb1-5971575e2482"
      },
      "outputs": [
        {
          "output_type": "stream",
          "name": "stdout",
          "text": [
            "The accuracy is: 0.8484848484848485\n"
          ]
        }
      ],
      "source": [
        "rfc = RandomForestClassifier(featuresCol='features_norm', labelCol='Survived')\n",
        "pipeline5 = Pipeline(stages=[indexer,indexer2,indexer3,indexer4,vector,normalizer,rfc])\n",
        "model5 = pipeline5.fit(train)\n",
        "predictions5 = model5.transform(train)\n",
        "\n",
        "from pyspark.ml.evaluation import MulticlassClassificationEvaluator\n",
        "eval = MulticlassClassificationEvaluator().setMetricName('accuracy').setLabelCol('Survived').setPredictionCol('prediction')\n",
        "print(\"The accuracy is: \" + str(eval.evaluate(predictions5)))\n",
        "accuracy.append(eval.evaluate(predictions5))"
      ]
    },
    {
      "cell_type": "markdown",
      "metadata": {
        "papermill": {
          "duration": 0.106022,
          "end_time": "2020-08-25T11:38:33.997407",
          "exception": false,
          "start_time": "2020-08-25T11:38:33.891385",
          "status": "completed"
        },
        "tags": [],
        "id": "22EcMQWAJGkq"
      },
      "source": [
        "**The sixth classification method is  MultilayerPerceptronClassifier. This method is little different as here we have to provide it with layers also. For eg. here we give layers = [8, 5, 4, 2], where 8 demonstrate number of input features, 5 and 4 are genral middle layers and 2 is number of output classes. According to yor model you should define layers.**"
      ]
    },
    {
      "cell_type": "code",
      "execution_count": 260,
      "metadata": {
        "execution": {
          "iopub.execute_input": "2020-08-25T11:38:34.222720Z",
          "iopub.status.busy": "2020-08-25T11:38:34.220360Z",
          "iopub.status.idle": "2020-08-25T11:38:39.886376Z",
          "shell.execute_reply": "2020-08-25T11:38:39.885385Z"
        },
        "papermill": {
          "duration": 5.783097,
          "end_time": "2020-08-25T11:38:39.886720",
          "exception": false,
          "start_time": "2020-08-25T11:38:34.103623",
          "status": "completed"
        },
        "tags": [],
        "colab": {
          "base_uri": "https://localhost:8080/"
        },
        "id": "MzOiCthXJGkq",
        "outputId": "69344c17-a504-42a6-c8f7-51e1f7ee8773"
      },
      "outputs": [
        {
          "output_type": "stream",
          "name": "stdout",
          "text": [
            "The accuracy is: 0.813692480359147\n"
          ]
        }
      ],
      "source": [
        "layers = [8, 5, 4, 2]\n",
        "trainer = MultilayerPerceptronClassifier(featuresCol='features_norm', labelCol='Survived', maxIter=100, layers=layers, blockSize=128, seed=1234)\n",
        "pipeline6 = Pipeline(stages=[indexer,indexer2,indexer3,indexer4,vector,normalizer,trainer])\n",
        "model6 = pipeline6.fit(train)\n",
        "predictions6 = model6.transform(train)\n",
        "\n",
        "from pyspark.ml.evaluation import MulticlassClassificationEvaluator\n",
        "eval = MulticlassClassificationEvaluator().setMetricName('accuracy').setLabelCol('Survived').setPredictionCol('prediction')\n",
        "print(\"The accuracy is: \" + str(eval.evaluate(predictions6)))\n",
        "accuracy.append(eval.evaluate(predictions6))"
      ]
    },
    {
      "cell_type": "markdown",
      "source": [
        "\n",
        "<a id='7'></a>\n",
        "# **AutoML models**\n",
        "**Finally we use AutoML to search the best param combinations with AutoML**\n",
        "\n"
      ],
      "metadata": {
        "id": "cVJvQTaMOif5"
      }
    },
    {
      "cell_type": "code",
      "source": [
        "pipeline8 = Pipeline(stages=[indexer,indexer2,indexer3,indexer4,vector,normalizer])\n",
        "df_nuevo= pipeline8.fit(train).transform(train)\n",
        "df_nuevo.head(5)\n"
      ],
      "metadata": {
        "colab": {
          "base_uri": "https://localhost:8080/"
        },
        "id": "_IjCaXgGeauD",
        "outputId": "3f8e188a-e3d8-413f-d659-60930b2a66b0"
      },
      "execution_count": 261,
      "outputs": [
        {
          "output_type": "execute_result",
          "data": {
            "text/plain": [
              "[Row(PassengerId=1, Survived=0.0, Pclass=3, Sex='male', Age=22.0, SibSp=1, Parch=0, Fare=7.25, Embarked='S', Family=2, Alone=0, Title='Mr', Fare_cat='quart_1', label1=0.0, label2=0.0, label3=0.0, label4=0.0, features=SparseVector(8, {1: 3.0, 2: 22.0, 4: 2.0}), features_norm=SparseVector(8, {1: 0.1111, 2: 0.8148, 4: 0.0741})),\n",
              " Row(PassengerId=2, Survived=1.0, Pclass=1, Sex='female', Age=38.0, SibSp=1, Parch=0, Fare=71.2833, Embarked='C', Family=2, Alone=0, Title='Mrs', Fare_cat='quart_4', label1=1.0, label2=1.0, label3=1.0, label4=2.0, features=DenseVector([1.0, 1.0, 38.0, 1.0, 2.0, 1.0, 2.0, 0.0]), features_norm=DenseVector([0.0217, 0.0217, 0.8261, 0.0217, 0.0435, 0.0217, 0.0435, 0.0])),\n",
              " Row(PassengerId=3, Survived=1.0, Pclass=3, Sex='female', Age=26.0, SibSp=0, Parch=0, Fare=7.925, Embarked='S', Family=1, Alone=1, Title='Miss', Fare_cat='quart_1', label1=1.0, label2=0.0, label3=0.0, label4=1.0, features=DenseVector([1.0, 3.0, 26.0, 0.0, 1.0, 0.0, 1.0, 1.0]), features_norm=DenseVector([0.0303, 0.0909, 0.7879, 0.0, 0.0303, 0.0, 0.0303, 0.0303])),\n",
              " Row(PassengerId=4, Survived=1.0, Pclass=1, Sex='female', Age=35.0, SibSp=1, Parch=0, Fare=53.1, Embarked='S', Family=2, Alone=0, Title='Mrs', Fare_cat='quart_4', label1=1.0, label2=0.0, label3=1.0, label4=2.0, features=DenseVector([1.0, 1.0, 35.0, 0.0, 2.0, 1.0, 2.0, 0.0]), features_norm=DenseVector([0.0238, 0.0238, 0.8333, 0.0, 0.0476, 0.0238, 0.0476, 0.0])),\n",
              " Row(PassengerId=5, Survived=0.0, Pclass=3, Sex='male', Age=35.0, SibSp=0, Parch=0, Fare=8.05, Embarked='S', Family=1, Alone=1, Title='Mr', Fare_cat='quart_2', label1=0.0, label2=0.0, label3=2.0, label4=0.0, features=DenseVector([0.0, 3.0, 35.0, 0.0, 1.0, 2.0, 0.0, 1.0]), features_norm=DenseVector([0.0, 0.0714, 0.8333, 0.0, 0.0238, 0.0476, 0.0, 0.0238]))]"
            ]
          },
          "metadata": {},
          "execution_count": 261
        }
      ]
    },
    {
      "cell_type": "code",
      "source": [
        "#Convertimos el dataframe de spark a dataFrame pandas para usar, posteriormente\n",
        "# con h2O AutoML\n",
        "df2=df_nuevo.toPandas()\n",
        "print(df2['Survived'])\n",
        "df2['features_norm']\n"
      ],
      "metadata": {
        "colab": {
          "base_uri": "https://localhost:8080/"
        },
        "id": "yuAY08d6gvBO",
        "outputId": "2e8ce3c3-b084-40d4-86eb-da2b3c0ea13e"
      },
      "execution_count": 262,
      "outputs": [
        {
          "output_type": "stream",
          "name": "stdout",
          "text": [
            "0      0.0\n",
            "1      1.0\n",
            "2      1.0\n",
            "3      1.0\n",
            "4      0.0\n",
            "      ... \n",
            "886    0.0\n",
            "887    1.0\n",
            "888    0.0\n",
            "889    1.0\n",
            "890    0.0\n",
            "Name: Survived, Length: 891, dtype: float64\n"
          ]
        },
        {
          "output_type": "execute_result",
          "data": {
            "text/plain": [
              "0      (0.0, 0.1111111111111111, 0.8148148148148148, ...\n",
              "1      [0.021739130434782608, 0.021739130434782608, 0...\n",
              "2      [0.030303030303030304, 0.09090909090909091, 0....\n",
              "3      [0.023809523809523808, 0.023809523809523808, 0...\n",
              "4      [0.0, 0.07142857142857142, 0.8333333333333334,...\n",
              "                             ...                        \n",
              "886    [0.0, 0.05405405405405406, 0.7297297297297297,...\n",
              "887    [0.037037037037037035, 0.037037037037037035, 0...\n",
              "888      [0.08, 0.24, -0.04, 0.0, 0.32, 0.24, 0.08, 0.0]\n",
              "889    [0.0, 0.030303030303030304, 0.7878787878787878...\n",
              "890    [0.0, 0.07692307692307693, 0.8205128205128205,...\n",
              "Name: features_norm, Length: 891, dtype: object"
            ]
          },
          "metadata": {},
          "execution_count": 262
        }
      ]
    },
    {
      "cell_type": "markdown",
      "source": [
        "Obtendremos un dataframe de pandas a partir de la columna de datos normalizados: 'label1','Pclass','Age','label2','Family','label3','label4', 'Alone'\n",
        "\n",
        "* label1: Sex\n",
        "* label2: Embarked\n",
        "* label3: Fare_cat\n",
        "* label4: Title\n",
        "* Pclass: Clase (1,2,3)\n",
        "* Family: si tiene marido/mujer, hijos/padre en el barco\n",
        "* Alone:  si viaja solo"
      ],
      "metadata": {
        "id": "G_TrNZdAyAWU"
      }
    },
    {
      "cell_type": "markdown",
      "source": [
        "Creamos columnas nuevas en el dataframe con los valores normalizados del pipeline (añadimos _N al nombre para diferenciarlos)"
      ],
      "metadata": {
        "id": "Jgq35KeFzkYu"
      }
    },
    {
      "cell_type": "code",
      "source": [
        "\n",
        "df2[\"Sex_N\"] = df2[\"features_norm\"].apply(lambda x: x[0])\n",
        "df2[\"Pclass_N\"] = df2[\"features_norm\"].apply(lambda x: x[1])\n",
        "df2[\"Age_N\"] = df2[\"features_norm\"].apply(lambda x: x[2])\n",
        "df2[\"Embarked_N\"] = df2[\"features_norm\"].apply(lambda x: x[2])\n",
        "df2[\"Family_N\"] = df2[\"features_norm\"].apply(lambda x: x[2])\n",
        "df2[\"Fare_cat_N\"] = df2[\"features_norm\"].apply(lambda x: x[2])\n",
        "df2[\"Title_N\"] = df2[\"features_norm\"].apply(lambda x: x[2])\n",
        "df2[\"Alone_N\"] = df2[\"features_norm\"].apply(lambda x: x[2])\n"
      ],
      "metadata": {
        "id": "226QqJLHehO-"
      },
      "execution_count": 263,
      "outputs": []
    },
    {
      "cell_type": "code",
      "source": [
        "df2"
      ],
      "metadata": {
        "colab": {
          "base_uri": "https://localhost:8080/",
          "height": 964
        },
        "id": "B7Vp-s-40P5T",
        "outputId": "93caa2db-d843-46ea-8038-17b6c3bf3e2a"
      },
      "execution_count": 264,
      "outputs": [
        {
          "output_type": "execute_result",
          "data": {
            "text/plain": [
              "     PassengerId  Survived  Pclass     Sex   Age  SibSp  Parch     Fare  \\\n",
              "0              1       0.0       3    male  22.0      1      0   7.2500   \n",
              "1              2       1.0       1  female  38.0      1      0  71.2833   \n",
              "2              3       1.0       3  female  26.0      0      0   7.9250   \n",
              "3              4       1.0       1  female  35.0      1      0  53.1000   \n",
              "4              5       0.0       3    male  35.0      0      0   8.0500   \n",
              "..           ...       ...     ...     ...   ...    ...    ...      ...   \n",
              "886          887       0.0       2    male  27.0      0      0  13.0000   \n",
              "887          888       1.0       1  female  19.0      0      0  30.0000   \n",
              "888          889       0.0       3  female  -0.5      1      2  23.4500   \n",
              "889          890       1.0       1    male  26.0      0      0  30.0000   \n",
              "890          891       0.0       3    male  32.0      0      0   7.7500   \n",
              "\n",
              "    Embarked  Family  ...                                   features  \\\n",
              "0          S       2  ...  (0.0, 3.0, 22.0, 0.0, 2.0, 0.0, 0.0, 0.0)   \n",
              "1          C       2  ...  [1.0, 1.0, 38.0, 1.0, 2.0, 1.0, 2.0, 0.0]   \n",
              "2          S       1  ...  [1.0, 3.0, 26.0, 0.0, 1.0, 0.0, 1.0, 1.0]   \n",
              "3          S       2  ...  [1.0, 1.0, 35.0, 0.0, 2.0, 1.0, 2.0, 0.0]   \n",
              "4          S       1  ...  [0.0, 3.0, 35.0, 0.0, 1.0, 2.0, 0.0, 1.0]   \n",
              "..       ...     ...  ...                                        ...   \n",
              "886        S       1  ...  [0.0, 2.0, 27.0, 0.0, 1.0, 2.0, 4.0, 1.0]   \n",
              "887        S       1  ...  [1.0, 1.0, 19.0, 0.0, 1.0, 3.0, 1.0, 1.0]   \n",
              "888        S       4  ...  [1.0, 3.0, -0.5, 0.0, 4.0, 3.0, 1.0, 0.0]   \n",
              "889        C       1  ...  [0.0, 1.0, 26.0, 1.0, 1.0, 3.0, 0.0, 1.0]   \n",
              "890        Q       1  ...  [0.0, 3.0, 32.0, 2.0, 1.0, 0.0, 0.0, 1.0]   \n",
              "\n",
              "                                         features_norm     Sex_N  Pclass_N  \\\n",
              "0    (0.0, 0.1111111111111111, 0.8148148148148148, ...  0.000000  0.111111   \n",
              "1    [0.021739130434782608, 0.021739130434782608, 0...  0.021739  0.021739   \n",
              "2    [0.030303030303030304, 0.09090909090909091, 0....  0.030303  0.090909   \n",
              "3    [0.023809523809523808, 0.023809523809523808, 0...  0.023810  0.023810   \n",
              "4    [0.0, 0.07142857142857142, 0.8333333333333334,...  0.000000  0.071429   \n",
              "..                                                 ...       ...       ...   \n",
              "886  [0.0, 0.05405405405405406, 0.7297297297297297,...  0.000000  0.054054   \n",
              "887  [0.037037037037037035, 0.037037037037037035, 0...  0.037037  0.037037   \n",
              "888    [0.08, 0.24, -0.04, 0.0, 0.32, 0.24, 0.08, 0.0]  0.080000  0.240000   \n",
              "889  [0.0, 0.030303030303030304, 0.7878787878787878...  0.000000  0.030303   \n",
              "890  [0.0, 0.07692307692307693, 0.8205128205128205,...  0.000000  0.076923   \n",
              "\n",
              "        Age_N  Embarked_N  Family_N Fare_cat_N   Title_N   Alone_N  \n",
              "0    0.814815    0.814815  0.814815   0.814815  0.814815  0.814815  \n",
              "1    0.826087    0.826087  0.826087   0.826087  0.826087  0.826087  \n",
              "2    0.787879    0.787879  0.787879   0.787879  0.787879  0.787879  \n",
              "3    0.833333    0.833333  0.833333   0.833333  0.833333  0.833333  \n",
              "4    0.833333    0.833333  0.833333   0.833333  0.833333  0.833333  \n",
              "..        ...         ...       ...        ...       ...       ...  \n",
              "886  0.729730    0.729730  0.729730   0.729730  0.729730  0.729730  \n",
              "887  0.703704    0.703704  0.703704   0.703704  0.703704  0.703704  \n",
              "888 -0.040000   -0.040000 -0.040000  -0.040000 -0.040000 -0.040000  \n",
              "889  0.787879    0.787879  0.787879   0.787879  0.787879  0.787879  \n",
              "890  0.820513    0.820513  0.820513   0.820513  0.820513  0.820513  \n",
              "\n",
              "[891 rows x 27 columns]"
            ],
            "text/html": [
              "\n",
              "  <div id=\"df-1c3596ef-31c9-4dd5-bd5c-bc0259c3da1d\" class=\"colab-df-container\">\n",
              "    <div>\n",
              "<style scoped>\n",
              "    .dataframe tbody tr th:only-of-type {\n",
              "        vertical-align: middle;\n",
              "    }\n",
              "\n",
              "    .dataframe tbody tr th {\n",
              "        vertical-align: top;\n",
              "    }\n",
              "\n",
              "    .dataframe thead th {\n",
              "        text-align: right;\n",
              "    }\n",
              "</style>\n",
              "<table border=\"1\" class=\"dataframe\">\n",
              "  <thead>\n",
              "    <tr style=\"text-align: right;\">\n",
              "      <th></th>\n",
              "      <th>PassengerId</th>\n",
              "      <th>Survived</th>\n",
              "      <th>Pclass</th>\n",
              "      <th>Sex</th>\n",
              "      <th>Age</th>\n",
              "      <th>SibSp</th>\n",
              "      <th>Parch</th>\n",
              "      <th>Fare</th>\n",
              "      <th>Embarked</th>\n",
              "      <th>Family</th>\n",
              "      <th>...</th>\n",
              "      <th>features</th>\n",
              "      <th>features_norm</th>\n",
              "      <th>Sex_N</th>\n",
              "      <th>Pclass_N</th>\n",
              "      <th>Age_N</th>\n",
              "      <th>Embarked_N</th>\n",
              "      <th>Family_N</th>\n",
              "      <th>Fare_cat_N</th>\n",
              "      <th>Title_N</th>\n",
              "      <th>Alone_N</th>\n",
              "    </tr>\n",
              "  </thead>\n",
              "  <tbody>\n",
              "    <tr>\n",
              "      <th>0</th>\n",
              "      <td>1</td>\n",
              "      <td>0.0</td>\n",
              "      <td>3</td>\n",
              "      <td>male</td>\n",
              "      <td>22.0</td>\n",
              "      <td>1</td>\n",
              "      <td>0</td>\n",
              "      <td>7.2500</td>\n",
              "      <td>S</td>\n",
              "      <td>2</td>\n",
              "      <td>...</td>\n",
              "      <td>(0.0, 3.0, 22.0, 0.0, 2.0, 0.0, 0.0, 0.0)</td>\n",
              "      <td>(0.0, 0.1111111111111111, 0.8148148148148148, ...</td>\n",
              "      <td>0.000000</td>\n",
              "      <td>0.111111</td>\n",
              "      <td>0.814815</td>\n",
              "      <td>0.814815</td>\n",
              "      <td>0.814815</td>\n",
              "      <td>0.814815</td>\n",
              "      <td>0.814815</td>\n",
              "      <td>0.814815</td>\n",
              "    </tr>\n",
              "    <tr>\n",
              "      <th>1</th>\n",
              "      <td>2</td>\n",
              "      <td>1.0</td>\n",
              "      <td>1</td>\n",
              "      <td>female</td>\n",
              "      <td>38.0</td>\n",
              "      <td>1</td>\n",
              "      <td>0</td>\n",
              "      <td>71.2833</td>\n",
              "      <td>C</td>\n",
              "      <td>2</td>\n",
              "      <td>...</td>\n",
              "      <td>[1.0, 1.0, 38.0, 1.0, 2.0, 1.0, 2.0, 0.0]</td>\n",
              "      <td>[0.021739130434782608, 0.021739130434782608, 0...</td>\n",
              "      <td>0.021739</td>\n",
              "      <td>0.021739</td>\n",
              "      <td>0.826087</td>\n",
              "      <td>0.826087</td>\n",
              "      <td>0.826087</td>\n",
              "      <td>0.826087</td>\n",
              "      <td>0.826087</td>\n",
              "      <td>0.826087</td>\n",
              "    </tr>\n",
              "    <tr>\n",
              "      <th>2</th>\n",
              "      <td>3</td>\n",
              "      <td>1.0</td>\n",
              "      <td>3</td>\n",
              "      <td>female</td>\n",
              "      <td>26.0</td>\n",
              "      <td>0</td>\n",
              "      <td>0</td>\n",
              "      <td>7.9250</td>\n",
              "      <td>S</td>\n",
              "      <td>1</td>\n",
              "      <td>...</td>\n",
              "      <td>[1.0, 3.0, 26.0, 0.0, 1.0, 0.0, 1.0, 1.0]</td>\n",
              "      <td>[0.030303030303030304, 0.09090909090909091, 0....</td>\n",
              "      <td>0.030303</td>\n",
              "      <td>0.090909</td>\n",
              "      <td>0.787879</td>\n",
              "      <td>0.787879</td>\n",
              "      <td>0.787879</td>\n",
              "      <td>0.787879</td>\n",
              "      <td>0.787879</td>\n",
              "      <td>0.787879</td>\n",
              "    </tr>\n",
              "    <tr>\n",
              "      <th>3</th>\n",
              "      <td>4</td>\n",
              "      <td>1.0</td>\n",
              "      <td>1</td>\n",
              "      <td>female</td>\n",
              "      <td>35.0</td>\n",
              "      <td>1</td>\n",
              "      <td>0</td>\n",
              "      <td>53.1000</td>\n",
              "      <td>S</td>\n",
              "      <td>2</td>\n",
              "      <td>...</td>\n",
              "      <td>[1.0, 1.0, 35.0, 0.0, 2.0, 1.0, 2.0, 0.0]</td>\n",
              "      <td>[0.023809523809523808, 0.023809523809523808, 0...</td>\n",
              "      <td>0.023810</td>\n",
              "      <td>0.023810</td>\n",
              "      <td>0.833333</td>\n",
              "      <td>0.833333</td>\n",
              "      <td>0.833333</td>\n",
              "      <td>0.833333</td>\n",
              "      <td>0.833333</td>\n",
              "      <td>0.833333</td>\n",
              "    </tr>\n",
              "    <tr>\n",
              "      <th>4</th>\n",
              "      <td>5</td>\n",
              "      <td>0.0</td>\n",
              "      <td>3</td>\n",
              "      <td>male</td>\n",
              "      <td>35.0</td>\n",
              "      <td>0</td>\n",
              "      <td>0</td>\n",
              "      <td>8.0500</td>\n",
              "      <td>S</td>\n",
              "      <td>1</td>\n",
              "      <td>...</td>\n",
              "      <td>[0.0, 3.0, 35.0, 0.0, 1.0, 2.0, 0.0, 1.0]</td>\n",
              "      <td>[0.0, 0.07142857142857142, 0.8333333333333334,...</td>\n",
              "      <td>0.000000</td>\n",
              "      <td>0.071429</td>\n",
              "      <td>0.833333</td>\n",
              "      <td>0.833333</td>\n",
              "      <td>0.833333</td>\n",
              "      <td>0.833333</td>\n",
              "      <td>0.833333</td>\n",
              "      <td>0.833333</td>\n",
              "    </tr>\n",
              "    <tr>\n",
              "      <th>...</th>\n",
              "      <td>...</td>\n",
              "      <td>...</td>\n",
              "      <td>...</td>\n",
              "      <td>...</td>\n",
              "      <td>...</td>\n",
              "      <td>...</td>\n",
              "      <td>...</td>\n",
              "      <td>...</td>\n",
              "      <td>...</td>\n",
              "      <td>...</td>\n",
              "      <td>...</td>\n",
              "      <td>...</td>\n",
              "      <td>...</td>\n",
              "      <td>...</td>\n",
              "      <td>...</td>\n",
              "      <td>...</td>\n",
              "      <td>...</td>\n",
              "      <td>...</td>\n",
              "      <td>...</td>\n",
              "      <td>...</td>\n",
              "      <td>...</td>\n",
              "    </tr>\n",
              "    <tr>\n",
              "      <th>886</th>\n",
              "      <td>887</td>\n",
              "      <td>0.0</td>\n",
              "      <td>2</td>\n",
              "      <td>male</td>\n",
              "      <td>27.0</td>\n",
              "      <td>0</td>\n",
              "      <td>0</td>\n",
              "      <td>13.0000</td>\n",
              "      <td>S</td>\n",
              "      <td>1</td>\n",
              "      <td>...</td>\n",
              "      <td>[0.0, 2.0, 27.0, 0.0, 1.0, 2.0, 4.0, 1.0]</td>\n",
              "      <td>[0.0, 0.05405405405405406, 0.7297297297297297,...</td>\n",
              "      <td>0.000000</td>\n",
              "      <td>0.054054</td>\n",
              "      <td>0.729730</td>\n",
              "      <td>0.729730</td>\n",
              "      <td>0.729730</td>\n",
              "      <td>0.729730</td>\n",
              "      <td>0.729730</td>\n",
              "      <td>0.729730</td>\n",
              "    </tr>\n",
              "    <tr>\n",
              "      <th>887</th>\n",
              "      <td>888</td>\n",
              "      <td>1.0</td>\n",
              "      <td>1</td>\n",
              "      <td>female</td>\n",
              "      <td>19.0</td>\n",
              "      <td>0</td>\n",
              "      <td>0</td>\n",
              "      <td>30.0000</td>\n",
              "      <td>S</td>\n",
              "      <td>1</td>\n",
              "      <td>...</td>\n",
              "      <td>[1.0, 1.0, 19.0, 0.0, 1.0, 3.0, 1.0, 1.0]</td>\n",
              "      <td>[0.037037037037037035, 0.037037037037037035, 0...</td>\n",
              "      <td>0.037037</td>\n",
              "      <td>0.037037</td>\n",
              "      <td>0.703704</td>\n",
              "      <td>0.703704</td>\n",
              "      <td>0.703704</td>\n",
              "      <td>0.703704</td>\n",
              "      <td>0.703704</td>\n",
              "      <td>0.703704</td>\n",
              "    </tr>\n",
              "    <tr>\n",
              "      <th>888</th>\n",
              "      <td>889</td>\n",
              "      <td>0.0</td>\n",
              "      <td>3</td>\n",
              "      <td>female</td>\n",
              "      <td>-0.5</td>\n",
              "      <td>1</td>\n",
              "      <td>2</td>\n",
              "      <td>23.4500</td>\n",
              "      <td>S</td>\n",
              "      <td>4</td>\n",
              "      <td>...</td>\n",
              "      <td>[1.0, 3.0, -0.5, 0.0, 4.0, 3.0, 1.0, 0.0]</td>\n",
              "      <td>[0.08, 0.24, -0.04, 0.0, 0.32, 0.24, 0.08, 0.0]</td>\n",
              "      <td>0.080000</td>\n",
              "      <td>0.240000</td>\n",
              "      <td>-0.040000</td>\n",
              "      <td>-0.040000</td>\n",
              "      <td>-0.040000</td>\n",
              "      <td>-0.040000</td>\n",
              "      <td>-0.040000</td>\n",
              "      <td>-0.040000</td>\n",
              "    </tr>\n",
              "    <tr>\n",
              "      <th>889</th>\n",
              "      <td>890</td>\n",
              "      <td>1.0</td>\n",
              "      <td>1</td>\n",
              "      <td>male</td>\n",
              "      <td>26.0</td>\n",
              "      <td>0</td>\n",
              "      <td>0</td>\n",
              "      <td>30.0000</td>\n",
              "      <td>C</td>\n",
              "      <td>1</td>\n",
              "      <td>...</td>\n",
              "      <td>[0.0, 1.0, 26.0, 1.0, 1.0, 3.0, 0.0, 1.0]</td>\n",
              "      <td>[0.0, 0.030303030303030304, 0.7878787878787878...</td>\n",
              "      <td>0.000000</td>\n",
              "      <td>0.030303</td>\n",
              "      <td>0.787879</td>\n",
              "      <td>0.787879</td>\n",
              "      <td>0.787879</td>\n",
              "      <td>0.787879</td>\n",
              "      <td>0.787879</td>\n",
              "      <td>0.787879</td>\n",
              "    </tr>\n",
              "    <tr>\n",
              "      <th>890</th>\n",
              "      <td>891</td>\n",
              "      <td>0.0</td>\n",
              "      <td>3</td>\n",
              "      <td>male</td>\n",
              "      <td>32.0</td>\n",
              "      <td>0</td>\n",
              "      <td>0</td>\n",
              "      <td>7.7500</td>\n",
              "      <td>Q</td>\n",
              "      <td>1</td>\n",
              "      <td>...</td>\n",
              "      <td>[0.0, 3.0, 32.0, 2.0, 1.0, 0.0, 0.0, 1.0]</td>\n",
              "      <td>[0.0, 0.07692307692307693, 0.8205128205128205,...</td>\n",
              "      <td>0.000000</td>\n",
              "      <td>0.076923</td>\n",
              "      <td>0.820513</td>\n",
              "      <td>0.820513</td>\n",
              "      <td>0.820513</td>\n",
              "      <td>0.820513</td>\n",
              "      <td>0.820513</td>\n",
              "      <td>0.820513</td>\n",
              "    </tr>\n",
              "  </tbody>\n",
              "</table>\n",
              "<p>891 rows × 27 columns</p>\n",
              "</div>\n",
              "    <div class=\"colab-df-buttons\">\n",
              "\n",
              "  <div class=\"colab-df-container\">\n",
              "    <button class=\"colab-df-convert\" onclick=\"convertToInteractive('df-1c3596ef-31c9-4dd5-bd5c-bc0259c3da1d')\"\n",
              "            title=\"Convert this dataframe to an interactive table.\"\n",
              "            style=\"display:none;\">\n",
              "\n",
              "  <svg xmlns=\"http://www.w3.org/2000/svg\" height=\"24px\" viewBox=\"0 -960 960 960\">\n",
              "    <path d=\"M120-120v-720h720v720H120Zm60-500h600v-160H180v160Zm220 220h160v-160H400v160Zm0 220h160v-160H400v160ZM180-400h160v-160H180v160Zm440 0h160v-160H620v160ZM180-180h160v-160H180v160Zm440 0h160v-160H620v160Z\"/>\n",
              "  </svg>\n",
              "    </button>\n",
              "\n",
              "  <style>\n",
              "    .colab-df-container {\n",
              "      display:flex;\n",
              "      gap: 12px;\n",
              "    }\n",
              "\n",
              "    .colab-df-convert {\n",
              "      background-color: #E8F0FE;\n",
              "      border: none;\n",
              "      border-radius: 50%;\n",
              "      cursor: pointer;\n",
              "      display: none;\n",
              "      fill: #1967D2;\n",
              "      height: 32px;\n",
              "      padding: 0 0 0 0;\n",
              "      width: 32px;\n",
              "    }\n",
              "\n",
              "    .colab-df-convert:hover {\n",
              "      background-color: #E2EBFA;\n",
              "      box-shadow: 0px 1px 2px rgba(60, 64, 67, 0.3), 0px 1px 3px 1px rgba(60, 64, 67, 0.15);\n",
              "      fill: #174EA6;\n",
              "    }\n",
              "\n",
              "    .colab-df-buttons div {\n",
              "      margin-bottom: 4px;\n",
              "    }\n",
              "\n",
              "    [theme=dark] .colab-df-convert {\n",
              "      background-color: #3B4455;\n",
              "      fill: #D2E3FC;\n",
              "    }\n",
              "\n",
              "    [theme=dark] .colab-df-convert:hover {\n",
              "      background-color: #434B5C;\n",
              "      box-shadow: 0px 1px 3px 1px rgba(0, 0, 0, 0.15);\n",
              "      filter: drop-shadow(0px 1px 2px rgba(0, 0, 0, 0.3));\n",
              "      fill: #FFFFFF;\n",
              "    }\n",
              "  </style>\n",
              "\n",
              "    <script>\n",
              "      const buttonEl =\n",
              "        document.querySelector('#df-1c3596ef-31c9-4dd5-bd5c-bc0259c3da1d button.colab-df-convert');\n",
              "      buttonEl.style.display =\n",
              "        google.colab.kernel.accessAllowed ? 'block' : 'none';\n",
              "\n",
              "      async function convertToInteractive(key) {\n",
              "        const element = document.querySelector('#df-1c3596ef-31c9-4dd5-bd5c-bc0259c3da1d');\n",
              "        const dataTable =\n",
              "          await google.colab.kernel.invokeFunction('convertToInteractive',\n",
              "                                                    [key], {});\n",
              "        if (!dataTable) return;\n",
              "\n",
              "        const docLinkHtml = 'Like what you see? Visit the ' +\n",
              "          '<a target=\"_blank\" href=https://colab.research.google.com/notebooks/data_table.ipynb>data table notebook</a>'\n",
              "          + ' to learn more about interactive tables.';\n",
              "        element.innerHTML = '';\n",
              "        dataTable['output_type'] = 'display_data';\n",
              "        await google.colab.output.renderOutput(dataTable, element);\n",
              "        const docLink = document.createElement('div');\n",
              "        docLink.innerHTML = docLinkHtml;\n",
              "        element.appendChild(docLink);\n",
              "      }\n",
              "    </script>\n",
              "  </div>\n",
              "\n",
              "\n",
              "<div id=\"df-a72790c4-dc14-47ee-9640-2d56f34e0913\">\n",
              "  <button class=\"colab-df-quickchart\" onclick=\"quickchart('df-a72790c4-dc14-47ee-9640-2d56f34e0913')\"\n",
              "            title=\"Suggest charts\"\n",
              "            style=\"display:none;\">\n",
              "\n",
              "<svg xmlns=\"http://www.w3.org/2000/svg\" height=\"24px\"viewBox=\"0 0 24 24\"\n",
              "     width=\"24px\">\n",
              "    <g>\n",
              "        <path d=\"M19 3H5c-1.1 0-2 .9-2 2v14c0 1.1.9 2 2 2h14c1.1 0 2-.9 2-2V5c0-1.1-.9-2-2-2zM9 17H7v-7h2v7zm4 0h-2V7h2v10zm4 0h-2v-4h2v4z\"/>\n",
              "    </g>\n",
              "</svg>\n",
              "  </button>\n",
              "\n",
              "<style>\n",
              "  .colab-df-quickchart {\n",
              "      --bg-color: #E8F0FE;\n",
              "      --fill-color: #1967D2;\n",
              "      --hover-bg-color: #E2EBFA;\n",
              "      --hover-fill-color: #174EA6;\n",
              "      --disabled-fill-color: #AAA;\n",
              "      --disabled-bg-color: #DDD;\n",
              "  }\n",
              "\n",
              "  [theme=dark] .colab-df-quickchart {\n",
              "      --bg-color: #3B4455;\n",
              "      --fill-color: #D2E3FC;\n",
              "      --hover-bg-color: #434B5C;\n",
              "      --hover-fill-color: #FFFFFF;\n",
              "      --disabled-bg-color: #3B4455;\n",
              "      --disabled-fill-color: #666;\n",
              "  }\n",
              "\n",
              "  .colab-df-quickchart {\n",
              "    background-color: var(--bg-color);\n",
              "    border: none;\n",
              "    border-radius: 50%;\n",
              "    cursor: pointer;\n",
              "    display: none;\n",
              "    fill: var(--fill-color);\n",
              "    height: 32px;\n",
              "    padding: 0;\n",
              "    width: 32px;\n",
              "  }\n",
              "\n",
              "  .colab-df-quickchart:hover {\n",
              "    background-color: var(--hover-bg-color);\n",
              "    box-shadow: 0 1px 2px rgba(60, 64, 67, 0.3), 0 1px 3px 1px rgba(60, 64, 67, 0.15);\n",
              "    fill: var(--button-hover-fill-color);\n",
              "  }\n",
              "\n",
              "  .colab-df-quickchart-complete:disabled,\n",
              "  .colab-df-quickchart-complete:disabled:hover {\n",
              "    background-color: var(--disabled-bg-color);\n",
              "    fill: var(--disabled-fill-color);\n",
              "    box-shadow: none;\n",
              "  }\n",
              "\n",
              "  .colab-df-spinner {\n",
              "    border: 2px solid var(--fill-color);\n",
              "    border-color: transparent;\n",
              "    border-bottom-color: var(--fill-color);\n",
              "    animation:\n",
              "      spin 1s steps(1) infinite;\n",
              "  }\n",
              "\n",
              "  @keyframes spin {\n",
              "    0% {\n",
              "      border-color: transparent;\n",
              "      border-bottom-color: var(--fill-color);\n",
              "      border-left-color: var(--fill-color);\n",
              "    }\n",
              "    20% {\n",
              "      border-color: transparent;\n",
              "      border-left-color: var(--fill-color);\n",
              "      border-top-color: var(--fill-color);\n",
              "    }\n",
              "    30% {\n",
              "      border-color: transparent;\n",
              "      border-left-color: var(--fill-color);\n",
              "      border-top-color: var(--fill-color);\n",
              "      border-right-color: var(--fill-color);\n",
              "    }\n",
              "    40% {\n",
              "      border-color: transparent;\n",
              "      border-right-color: var(--fill-color);\n",
              "      border-top-color: var(--fill-color);\n",
              "    }\n",
              "    60% {\n",
              "      border-color: transparent;\n",
              "      border-right-color: var(--fill-color);\n",
              "    }\n",
              "    80% {\n",
              "      border-color: transparent;\n",
              "      border-right-color: var(--fill-color);\n",
              "      border-bottom-color: var(--fill-color);\n",
              "    }\n",
              "    90% {\n",
              "      border-color: transparent;\n",
              "      border-bottom-color: var(--fill-color);\n",
              "    }\n",
              "  }\n",
              "</style>\n",
              "\n",
              "  <script>\n",
              "    async function quickchart(key) {\n",
              "      const quickchartButtonEl =\n",
              "        document.querySelector('#' + key + ' button');\n",
              "      quickchartButtonEl.disabled = true;  // To prevent multiple clicks.\n",
              "      quickchartButtonEl.classList.add('colab-df-spinner');\n",
              "      try {\n",
              "        const charts = await google.colab.kernel.invokeFunction(\n",
              "            'suggestCharts', [key], {});\n",
              "      } catch (error) {\n",
              "        console.error('Error during call to suggestCharts:', error);\n",
              "      }\n",
              "      quickchartButtonEl.classList.remove('colab-df-spinner');\n",
              "      quickchartButtonEl.classList.add('colab-df-quickchart-complete');\n",
              "    }\n",
              "    (() => {\n",
              "      let quickchartButtonEl =\n",
              "        document.querySelector('#df-a72790c4-dc14-47ee-9640-2d56f34e0913 button');\n",
              "      quickchartButtonEl.style.display =\n",
              "        google.colab.kernel.accessAllowed ? 'block' : 'none';\n",
              "    })();\n",
              "  </script>\n",
              "</div>\n",
              "    </div>\n",
              "  </div>\n"
            ],
            "application/vnd.google.colaboratory.intrinsic+json": {
              "type": "dataframe",
              "variable_name": "df2"
            }
          },
          "metadata": {},
          "execution_count": 264
        }
      ]
    },
    {
      "cell_type": "code",
      "source": [
        "df_autoML = df2[['Survived','Sex_N','Pclass_N','Age_N','Embarked_N','Family_N','Fare_cat_N','Title_N','Alone_N']]\n",
        "df_autoML"
      ],
      "metadata": {
        "colab": {
          "base_uri": "https://localhost:8080/",
          "height": 423
        },
        "id": "CW3U8gQ_0rr7",
        "outputId": "e38e167b-293a-4085-ec4d-f7617095ae97"
      },
      "execution_count": 265,
      "outputs": [
        {
          "output_type": "execute_result",
          "data": {
            "text/plain": [
              "     Survived     Sex_N  Pclass_N     Age_N  Embarked_N  Family_N  Fare_cat_N  \\\n",
              "0         0.0  0.000000  0.111111  0.814815    0.814815  0.814815    0.814815   \n",
              "1         1.0  0.021739  0.021739  0.826087    0.826087  0.826087    0.826087   \n",
              "2         1.0  0.030303  0.090909  0.787879    0.787879  0.787879    0.787879   \n",
              "3         1.0  0.023810  0.023810  0.833333    0.833333  0.833333    0.833333   \n",
              "4         0.0  0.000000  0.071429  0.833333    0.833333  0.833333    0.833333   \n",
              "..        ...       ...       ...       ...         ...       ...         ...   \n",
              "886       0.0  0.000000  0.054054  0.729730    0.729730  0.729730    0.729730   \n",
              "887       1.0  0.037037  0.037037  0.703704    0.703704  0.703704    0.703704   \n",
              "888       0.0  0.080000  0.240000 -0.040000   -0.040000 -0.040000   -0.040000   \n",
              "889       1.0  0.000000  0.030303  0.787879    0.787879  0.787879    0.787879   \n",
              "890       0.0  0.000000  0.076923  0.820513    0.820513  0.820513    0.820513   \n",
              "\n",
              "      Title_N   Alone_N  \n",
              "0    0.814815  0.814815  \n",
              "1    0.826087  0.826087  \n",
              "2    0.787879  0.787879  \n",
              "3    0.833333  0.833333  \n",
              "4    0.833333  0.833333  \n",
              "..        ...       ...  \n",
              "886  0.729730  0.729730  \n",
              "887  0.703704  0.703704  \n",
              "888 -0.040000 -0.040000  \n",
              "889  0.787879  0.787879  \n",
              "890  0.820513  0.820513  \n",
              "\n",
              "[891 rows x 9 columns]"
            ],
            "text/html": [
              "\n",
              "  <div id=\"df-abd9608e-e324-434f-90fe-346815d0139c\" class=\"colab-df-container\">\n",
              "    <div>\n",
              "<style scoped>\n",
              "    .dataframe tbody tr th:only-of-type {\n",
              "        vertical-align: middle;\n",
              "    }\n",
              "\n",
              "    .dataframe tbody tr th {\n",
              "        vertical-align: top;\n",
              "    }\n",
              "\n",
              "    .dataframe thead th {\n",
              "        text-align: right;\n",
              "    }\n",
              "</style>\n",
              "<table border=\"1\" class=\"dataframe\">\n",
              "  <thead>\n",
              "    <tr style=\"text-align: right;\">\n",
              "      <th></th>\n",
              "      <th>Survived</th>\n",
              "      <th>Sex_N</th>\n",
              "      <th>Pclass_N</th>\n",
              "      <th>Age_N</th>\n",
              "      <th>Embarked_N</th>\n",
              "      <th>Family_N</th>\n",
              "      <th>Fare_cat_N</th>\n",
              "      <th>Title_N</th>\n",
              "      <th>Alone_N</th>\n",
              "    </tr>\n",
              "  </thead>\n",
              "  <tbody>\n",
              "    <tr>\n",
              "      <th>0</th>\n",
              "      <td>0.0</td>\n",
              "      <td>0.000000</td>\n",
              "      <td>0.111111</td>\n",
              "      <td>0.814815</td>\n",
              "      <td>0.814815</td>\n",
              "      <td>0.814815</td>\n",
              "      <td>0.814815</td>\n",
              "      <td>0.814815</td>\n",
              "      <td>0.814815</td>\n",
              "    </tr>\n",
              "    <tr>\n",
              "      <th>1</th>\n",
              "      <td>1.0</td>\n",
              "      <td>0.021739</td>\n",
              "      <td>0.021739</td>\n",
              "      <td>0.826087</td>\n",
              "      <td>0.826087</td>\n",
              "      <td>0.826087</td>\n",
              "      <td>0.826087</td>\n",
              "      <td>0.826087</td>\n",
              "      <td>0.826087</td>\n",
              "    </tr>\n",
              "    <tr>\n",
              "      <th>2</th>\n",
              "      <td>1.0</td>\n",
              "      <td>0.030303</td>\n",
              "      <td>0.090909</td>\n",
              "      <td>0.787879</td>\n",
              "      <td>0.787879</td>\n",
              "      <td>0.787879</td>\n",
              "      <td>0.787879</td>\n",
              "      <td>0.787879</td>\n",
              "      <td>0.787879</td>\n",
              "    </tr>\n",
              "    <tr>\n",
              "      <th>3</th>\n",
              "      <td>1.0</td>\n",
              "      <td>0.023810</td>\n",
              "      <td>0.023810</td>\n",
              "      <td>0.833333</td>\n",
              "      <td>0.833333</td>\n",
              "      <td>0.833333</td>\n",
              "      <td>0.833333</td>\n",
              "      <td>0.833333</td>\n",
              "      <td>0.833333</td>\n",
              "    </tr>\n",
              "    <tr>\n",
              "      <th>4</th>\n",
              "      <td>0.0</td>\n",
              "      <td>0.000000</td>\n",
              "      <td>0.071429</td>\n",
              "      <td>0.833333</td>\n",
              "      <td>0.833333</td>\n",
              "      <td>0.833333</td>\n",
              "      <td>0.833333</td>\n",
              "      <td>0.833333</td>\n",
              "      <td>0.833333</td>\n",
              "    </tr>\n",
              "    <tr>\n",
              "      <th>...</th>\n",
              "      <td>...</td>\n",
              "      <td>...</td>\n",
              "      <td>...</td>\n",
              "      <td>...</td>\n",
              "      <td>...</td>\n",
              "      <td>...</td>\n",
              "      <td>...</td>\n",
              "      <td>...</td>\n",
              "      <td>...</td>\n",
              "    </tr>\n",
              "    <tr>\n",
              "      <th>886</th>\n",
              "      <td>0.0</td>\n",
              "      <td>0.000000</td>\n",
              "      <td>0.054054</td>\n",
              "      <td>0.729730</td>\n",
              "      <td>0.729730</td>\n",
              "      <td>0.729730</td>\n",
              "      <td>0.729730</td>\n",
              "      <td>0.729730</td>\n",
              "      <td>0.729730</td>\n",
              "    </tr>\n",
              "    <tr>\n",
              "      <th>887</th>\n",
              "      <td>1.0</td>\n",
              "      <td>0.037037</td>\n",
              "      <td>0.037037</td>\n",
              "      <td>0.703704</td>\n",
              "      <td>0.703704</td>\n",
              "      <td>0.703704</td>\n",
              "      <td>0.703704</td>\n",
              "      <td>0.703704</td>\n",
              "      <td>0.703704</td>\n",
              "    </tr>\n",
              "    <tr>\n",
              "      <th>888</th>\n",
              "      <td>0.0</td>\n",
              "      <td>0.080000</td>\n",
              "      <td>0.240000</td>\n",
              "      <td>-0.040000</td>\n",
              "      <td>-0.040000</td>\n",
              "      <td>-0.040000</td>\n",
              "      <td>-0.040000</td>\n",
              "      <td>-0.040000</td>\n",
              "      <td>-0.040000</td>\n",
              "    </tr>\n",
              "    <tr>\n",
              "      <th>889</th>\n",
              "      <td>1.0</td>\n",
              "      <td>0.000000</td>\n",
              "      <td>0.030303</td>\n",
              "      <td>0.787879</td>\n",
              "      <td>0.787879</td>\n",
              "      <td>0.787879</td>\n",
              "      <td>0.787879</td>\n",
              "      <td>0.787879</td>\n",
              "      <td>0.787879</td>\n",
              "    </tr>\n",
              "    <tr>\n",
              "      <th>890</th>\n",
              "      <td>0.0</td>\n",
              "      <td>0.000000</td>\n",
              "      <td>0.076923</td>\n",
              "      <td>0.820513</td>\n",
              "      <td>0.820513</td>\n",
              "      <td>0.820513</td>\n",
              "      <td>0.820513</td>\n",
              "      <td>0.820513</td>\n",
              "      <td>0.820513</td>\n",
              "    </tr>\n",
              "  </tbody>\n",
              "</table>\n",
              "<p>891 rows × 9 columns</p>\n",
              "</div>\n",
              "    <div class=\"colab-df-buttons\">\n",
              "\n",
              "  <div class=\"colab-df-container\">\n",
              "    <button class=\"colab-df-convert\" onclick=\"convertToInteractive('df-abd9608e-e324-434f-90fe-346815d0139c')\"\n",
              "            title=\"Convert this dataframe to an interactive table.\"\n",
              "            style=\"display:none;\">\n",
              "\n",
              "  <svg xmlns=\"http://www.w3.org/2000/svg\" height=\"24px\" viewBox=\"0 -960 960 960\">\n",
              "    <path d=\"M120-120v-720h720v720H120Zm60-500h600v-160H180v160Zm220 220h160v-160H400v160Zm0 220h160v-160H400v160ZM180-400h160v-160H180v160Zm440 0h160v-160H620v160ZM180-180h160v-160H180v160Zm440 0h160v-160H620v160Z\"/>\n",
              "  </svg>\n",
              "    </button>\n",
              "\n",
              "  <style>\n",
              "    .colab-df-container {\n",
              "      display:flex;\n",
              "      gap: 12px;\n",
              "    }\n",
              "\n",
              "    .colab-df-convert {\n",
              "      background-color: #E8F0FE;\n",
              "      border: none;\n",
              "      border-radius: 50%;\n",
              "      cursor: pointer;\n",
              "      display: none;\n",
              "      fill: #1967D2;\n",
              "      height: 32px;\n",
              "      padding: 0 0 0 0;\n",
              "      width: 32px;\n",
              "    }\n",
              "\n",
              "    .colab-df-convert:hover {\n",
              "      background-color: #E2EBFA;\n",
              "      box-shadow: 0px 1px 2px rgba(60, 64, 67, 0.3), 0px 1px 3px 1px rgba(60, 64, 67, 0.15);\n",
              "      fill: #174EA6;\n",
              "    }\n",
              "\n",
              "    .colab-df-buttons div {\n",
              "      margin-bottom: 4px;\n",
              "    }\n",
              "\n",
              "    [theme=dark] .colab-df-convert {\n",
              "      background-color: #3B4455;\n",
              "      fill: #D2E3FC;\n",
              "    }\n",
              "\n",
              "    [theme=dark] .colab-df-convert:hover {\n",
              "      background-color: #434B5C;\n",
              "      box-shadow: 0px 1px 3px 1px rgba(0, 0, 0, 0.15);\n",
              "      filter: drop-shadow(0px 1px 2px rgba(0, 0, 0, 0.3));\n",
              "      fill: #FFFFFF;\n",
              "    }\n",
              "  </style>\n",
              "\n",
              "    <script>\n",
              "      const buttonEl =\n",
              "        document.querySelector('#df-abd9608e-e324-434f-90fe-346815d0139c button.colab-df-convert');\n",
              "      buttonEl.style.display =\n",
              "        google.colab.kernel.accessAllowed ? 'block' : 'none';\n",
              "\n",
              "      async function convertToInteractive(key) {\n",
              "        const element = document.querySelector('#df-abd9608e-e324-434f-90fe-346815d0139c');\n",
              "        const dataTable =\n",
              "          await google.colab.kernel.invokeFunction('convertToInteractive',\n",
              "                                                    [key], {});\n",
              "        if (!dataTable) return;\n",
              "\n",
              "        const docLinkHtml = 'Like what you see? Visit the ' +\n",
              "          '<a target=\"_blank\" href=https://colab.research.google.com/notebooks/data_table.ipynb>data table notebook</a>'\n",
              "          + ' to learn more about interactive tables.';\n",
              "        element.innerHTML = '';\n",
              "        dataTable['output_type'] = 'display_data';\n",
              "        await google.colab.output.renderOutput(dataTable, element);\n",
              "        const docLink = document.createElement('div');\n",
              "        docLink.innerHTML = docLinkHtml;\n",
              "        element.appendChild(docLink);\n",
              "      }\n",
              "    </script>\n",
              "  </div>\n",
              "\n",
              "\n",
              "<div id=\"df-60831c84-6787-4a38-8be6-bba25a7881ba\">\n",
              "  <button class=\"colab-df-quickchart\" onclick=\"quickchart('df-60831c84-6787-4a38-8be6-bba25a7881ba')\"\n",
              "            title=\"Suggest charts\"\n",
              "            style=\"display:none;\">\n",
              "\n",
              "<svg xmlns=\"http://www.w3.org/2000/svg\" height=\"24px\"viewBox=\"0 0 24 24\"\n",
              "     width=\"24px\">\n",
              "    <g>\n",
              "        <path d=\"M19 3H5c-1.1 0-2 .9-2 2v14c0 1.1.9 2 2 2h14c1.1 0 2-.9 2-2V5c0-1.1-.9-2-2-2zM9 17H7v-7h2v7zm4 0h-2V7h2v10zm4 0h-2v-4h2v4z\"/>\n",
              "    </g>\n",
              "</svg>\n",
              "  </button>\n",
              "\n",
              "<style>\n",
              "  .colab-df-quickchart {\n",
              "      --bg-color: #E8F0FE;\n",
              "      --fill-color: #1967D2;\n",
              "      --hover-bg-color: #E2EBFA;\n",
              "      --hover-fill-color: #174EA6;\n",
              "      --disabled-fill-color: #AAA;\n",
              "      --disabled-bg-color: #DDD;\n",
              "  }\n",
              "\n",
              "  [theme=dark] .colab-df-quickchart {\n",
              "      --bg-color: #3B4455;\n",
              "      --fill-color: #D2E3FC;\n",
              "      --hover-bg-color: #434B5C;\n",
              "      --hover-fill-color: #FFFFFF;\n",
              "      --disabled-bg-color: #3B4455;\n",
              "      --disabled-fill-color: #666;\n",
              "  }\n",
              "\n",
              "  .colab-df-quickchart {\n",
              "    background-color: var(--bg-color);\n",
              "    border: none;\n",
              "    border-radius: 50%;\n",
              "    cursor: pointer;\n",
              "    display: none;\n",
              "    fill: var(--fill-color);\n",
              "    height: 32px;\n",
              "    padding: 0;\n",
              "    width: 32px;\n",
              "  }\n",
              "\n",
              "  .colab-df-quickchart:hover {\n",
              "    background-color: var(--hover-bg-color);\n",
              "    box-shadow: 0 1px 2px rgba(60, 64, 67, 0.3), 0 1px 3px 1px rgba(60, 64, 67, 0.15);\n",
              "    fill: var(--button-hover-fill-color);\n",
              "  }\n",
              "\n",
              "  .colab-df-quickchart-complete:disabled,\n",
              "  .colab-df-quickchart-complete:disabled:hover {\n",
              "    background-color: var(--disabled-bg-color);\n",
              "    fill: var(--disabled-fill-color);\n",
              "    box-shadow: none;\n",
              "  }\n",
              "\n",
              "  .colab-df-spinner {\n",
              "    border: 2px solid var(--fill-color);\n",
              "    border-color: transparent;\n",
              "    border-bottom-color: var(--fill-color);\n",
              "    animation:\n",
              "      spin 1s steps(1) infinite;\n",
              "  }\n",
              "\n",
              "  @keyframes spin {\n",
              "    0% {\n",
              "      border-color: transparent;\n",
              "      border-bottom-color: var(--fill-color);\n",
              "      border-left-color: var(--fill-color);\n",
              "    }\n",
              "    20% {\n",
              "      border-color: transparent;\n",
              "      border-left-color: var(--fill-color);\n",
              "      border-top-color: var(--fill-color);\n",
              "    }\n",
              "    30% {\n",
              "      border-color: transparent;\n",
              "      border-left-color: var(--fill-color);\n",
              "      border-top-color: var(--fill-color);\n",
              "      border-right-color: var(--fill-color);\n",
              "    }\n",
              "    40% {\n",
              "      border-color: transparent;\n",
              "      border-right-color: var(--fill-color);\n",
              "      border-top-color: var(--fill-color);\n",
              "    }\n",
              "    60% {\n",
              "      border-color: transparent;\n",
              "      border-right-color: var(--fill-color);\n",
              "    }\n",
              "    80% {\n",
              "      border-color: transparent;\n",
              "      border-right-color: var(--fill-color);\n",
              "      border-bottom-color: var(--fill-color);\n",
              "    }\n",
              "    90% {\n",
              "      border-color: transparent;\n",
              "      border-bottom-color: var(--fill-color);\n",
              "    }\n",
              "  }\n",
              "</style>\n",
              "\n",
              "  <script>\n",
              "    async function quickchart(key) {\n",
              "      const quickchartButtonEl =\n",
              "        document.querySelector('#' + key + ' button');\n",
              "      quickchartButtonEl.disabled = true;  // To prevent multiple clicks.\n",
              "      quickchartButtonEl.classList.add('colab-df-spinner');\n",
              "      try {\n",
              "        const charts = await google.colab.kernel.invokeFunction(\n",
              "            'suggestCharts', [key], {});\n",
              "      } catch (error) {\n",
              "        console.error('Error during call to suggestCharts:', error);\n",
              "      }\n",
              "      quickchartButtonEl.classList.remove('colab-df-spinner');\n",
              "      quickchartButtonEl.classList.add('colab-df-quickchart-complete');\n",
              "    }\n",
              "    (() => {\n",
              "      let quickchartButtonEl =\n",
              "        document.querySelector('#df-60831c84-6787-4a38-8be6-bba25a7881ba button');\n",
              "      quickchartButtonEl.style.display =\n",
              "        google.colab.kernel.accessAllowed ? 'block' : 'none';\n",
              "    })();\n",
              "  </script>\n",
              "</div>\n",
              "    </div>\n",
              "  </div>\n"
            ],
            "application/vnd.google.colaboratory.intrinsic+json": {
              "type": "dataframe",
              "variable_name": "df_autoML",
              "summary": "{\n  \"name\": \"df_autoML\",\n  \"rows\": 891,\n  \"fields\": [\n    {\n      \"column\": \"Survived\",\n      \"properties\": {\n        \"dtype\": \"number\",\n        \"std\": 0.4865924542648575,\n        \"min\": 0.0,\n        \"max\": 1.0,\n        \"num_unique_values\": 2,\n        \"samples\": [\n          1.0,\n          0.0\n        ],\n        \"semantic_type\": \"\",\n        \"description\": \"\"\n      }\n    },\n    {\n      \"column\": \"Sex_N\",\n      \"properties\": {\n        \"dtype\": \"number\",\n        \"std\": 0.027259314654517273,\n        \"min\": 0.0,\n        \"max\": 0.13333333333333333,\n        \"num_unique_values\": 73,\n        \"samples\": [\n          0.02631578947368421,\n          0.01639344262295082\n        ],\n        \"semantic_type\": \"\",\n        \"description\": \"\"\n      }\n    },\n    {\n      \"column\": \"Pclass_N\",\n      \"properties\": {\n        \"dtype\": \"number\",\n        \"std\": 0.12319545935224056,\n        \"min\": 0.011627906976744186,\n        \"max\": 0.5454545454545454,\n        \"num_unique_values\": 163,\n        \"samples\": [\n          0.03773584905660377,\n          0.17647058823529413\n        ],\n        \"semantic_type\": \"\",\n        \"description\": \"\"\n      }\n    },\n    {\n      \"column\": \"Age_N\",\n      \"properties\": {\n        \"dtype\": \"number\",\n        \"std\": 0.3627351514036476,\n        \"min\": -0.1111111111111111,\n        \"max\": 0.9384615384615385,\n        \"num_unique_values\": 306,\n        \"samples\": [\n          0.15384615384615385,\n          0.6904761904761905\n        ],\n        \"semantic_type\": \"\",\n        \"description\": \"\"\n      }\n    },\n    {\n      \"column\": \"Embarked_N\",\n      \"properties\": {\n        \"dtype\": \"number\",\n        \"std\": 0.3627351514036476,\n        \"min\": -0.1111111111111111,\n        \"max\": 0.9384615384615385,\n        \"num_unique_values\": 306,\n        \"samples\": [\n          0.15384615384615385,\n          0.6904761904761905\n        ],\n        \"semantic_type\": \"\",\n        \"description\": \"\"\n      }\n    },\n    {\n      \"column\": \"Family_N\",\n      \"properties\": {\n        \"dtype\": \"number\",\n        \"std\": 0.3627351514036476,\n        \"min\": -0.1111111111111111,\n        \"max\": 0.9384615384615385,\n        \"num_unique_values\": 306,\n        \"samples\": [\n          0.15384615384615385,\n          0.6904761904761905\n        ],\n        \"semantic_type\": \"\",\n        \"description\": \"\"\n      }\n    },\n    {\n      \"column\": \"Fare_cat_N\",\n      \"properties\": {\n        \"dtype\": \"number\",\n        \"std\": 0.3627351514036476,\n        \"min\": -0.1111111111111111,\n        \"max\": 0.9384615384615385,\n        \"num_unique_values\": 306,\n        \"samples\": [\n          0.15384615384615385,\n          0.6904761904761905\n        ],\n        \"semantic_type\": \"\",\n        \"description\": \"\"\n      }\n    },\n    {\n      \"column\": \"Title_N\",\n      \"properties\": {\n        \"dtype\": \"number\",\n        \"std\": 0.3627351514036476,\n        \"min\": -0.1111111111111111,\n        \"max\": 0.9384615384615385,\n        \"num_unique_values\": 306,\n        \"samples\": [\n          0.15384615384615385,\n          0.6904761904761905\n        ],\n        \"semantic_type\": \"\",\n        \"description\": \"\"\n      }\n    },\n    {\n      \"column\": \"Alone_N\",\n      \"properties\": {\n        \"dtype\": \"number\",\n        \"std\": 0.3627351514036476,\n        \"min\": -0.1111111111111111,\n        \"max\": 0.9384615384615385,\n        \"num_unique_values\": 306,\n        \"samples\": [\n          0.15384615384615385,\n          0.6904761904761905\n        ],\n        \"semantic_type\": \"\",\n        \"description\": \"\"\n      }\n    }\n  ]\n}"
            }
          },
          "metadata": {},
          "execution_count": 265
        }
      ]
    },
    {
      "cell_type": "code",
      "source": [
        "!pip install h2o"
      ],
      "metadata": {
        "colab": {
          "base_uri": "https://localhost:8080/"
        },
        "id": "3mob56XGbMpd",
        "outputId": "2895b781-f092-431e-bd7a-c407cb15e82a"
      },
      "execution_count": 266,
      "outputs": [
        {
          "output_type": "stream",
          "name": "stdout",
          "text": [
            "Requirement already satisfied: h2o in /usr/local/lib/python3.10/dist-packages (3.46.0.1)\n",
            "Requirement already satisfied: requests in /usr/local/lib/python3.10/dist-packages (from h2o) (2.31.0)\n",
            "Requirement already satisfied: tabulate in /usr/local/lib/python3.10/dist-packages (from h2o) (0.9.0)\n",
            "Requirement already satisfied: charset-normalizer<4,>=2 in /usr/local/lib/python3.10/dist-packages (from requests->h2o) (3.3.2)\n",
            "Requirement already satisfied: idna<4,>=2.5 in /usr/local/lib/python3.10/dist-packages (from requests->h2o) (3.6)\n",
            "Requirement already satisfied: urllib3<3,>=1.21.1 in /usr/local/lib/python3.10/dist-packages (from requests->h2o) (2.0.7)\n",
            "Requirement already satisfied: certifi>=2017.4.17 in /usr/local/lib/python3.10/dist-packages (from requests->h2o) (2024.2.2)\n"
          ]
        }
      ]
    },
    {
      "cell_type": "code",
      "source": [
        "df_autoML.info()"
      ],
      "metadata": {
        "colab": {
          "base_uri": "https://localhost:8080/"
        },
        "id": "kiGtFiaa-Hfs",
        "outputId": "643e1a53-f4fd-4946-e400-3a3d94bfc05d"
      },
      "execution_count": 267,
      "outputs": [
        {
          "output_type": "stream",
          "name": "stdout",
          "text": [
            "<class 'pandas.core.frame.DataFrame'>\n",
            "RangeIndex: 891 entries, 0 to 890\n",
            "Data columns (total 9 columns):\n",
            " #   Column      Non-Null Count  Dtype  \n",
            "---  ------      --------------  -----  \n",
            " 0   Survived    891 non-null    float64\n",
            " 1   Sex_N       891 non-null    float64\n",
            " 2   Pclass_N    891 non-null    float64\n",
            " 3   Age_N       891 non-null    float64\n",
            " 4   Embarked_N  891 non-null    float64\n",
            " 5   Family_N    891 non-null    float64\n",
            " 6   Fare_cat_N  891 non-null    float64\n",
            " 7   Title_N     891 non-null    float64\n",
            " 8   Alone_N     891 non-null    float64\n",
            "dtypes: float64(9)\n",
            "memory usage: 62.8 KB\n"
          ]
        }
      ]
    },
    {
      "cell_type": "code",
      "source": [
        "#Convertimos la columna survived a tipo int para que autoML la reconozca como target correctamente\n",
        "df_autoML['Survived'] = df_autoML['Survived'].astype('int')\n",
        "df_autoML.info()"
      ],
      "metadata": {
        "colab": {
          "base_uri": "https://localhost:8080/"
        },
        "id": "0MoMNjYL-aXz",
        "outputId": "840f2900-713f-4351-8e7e-7437fe9dc3ec"
      },
      "execution_count": 268,
      "outputs": [
        {
          "output_type": "stream",
          "name": "stdout",
          "text": [
            "<class 'pandas.core.frame.DataFrame'>\n",
            "RangeIndex: 891 entries, 0 to 890\n",
            "Data columns (total 9 columns):\n",
            " #   Column      Non-Null Count  Dtype  \n",
            "---  ------      --------------  -----  \n",
            " 0   Survived    891 non-null    int64  \n",
            " 1   Sex_N       891 non-null    float64\n",
            " 2   Pclass_N    891 non-null    float64\n",
            " 3   Age_N       891 non-null    float64\n",
            " 4   Embarked_N  891 non-null    float64\n",
            " 5   Family_N    891 non-null    float64\n",
            " 6   Fare_cat_N  891 non-null    float64\n",
            " 7   Title_N     891 non-null    float64\n",
            " 8   Alone_N     891 non-null    float64\n",
            "dtypes: float64(8), int64(1)\n",
            "memory usage: 62.8 KB\n"
          ]
        },
        {
          "output_type": "stream",
          "name": "stderr",
          "text": [
            "<ipython-input-268-7f74216b02a2>:2: SettingWithCopyWarning: \n",
            "A value is trying to be set on a copy of a slice from a DataFrame.\n",
            "Try using .loc[row_indexer,col_indexer] = value instead\n",
            "\n",
            "See the caveats in the documentation: https://pandas.pydata.org/pandas-docs/stable/user_guide/indexing.html#returning-a-view-versus-a-copy\n",
            "  df_autoML['Survived'] = df_autoML['Survived'].astype('int')\n"
          ]
        }
      ]
    },
    {
      "cell_type": "code",
      "source": [
        "# Convert Spark DataFrame to H2OFrame\n",
        "\n",
        "\n",
        "import h2o\n",
        "from h2o.automl import H2OAutoML\n",
        "\n",
        "# Iniciar H2O\n",
        "h2o.init()\n",
        "# Clear H2OFrame cache\n",
        "h2o.remove_all()\n",
        "\n",
        "# Convertir el DataFrame de Pandas a H2OFrame\n",
        "h2o_df = h2o.H2OFrame(df_autoML)\n",
        "# Convertimos la columna 'Survived' a categórica para realizar clasificación binaria (no obligatorio)\n",
        "#target_categories = pd.Categorical(df_autoML['Survived'])  # Convert target column in pandas DataFrame\n",
        "#target_array = target_categories.codes  # Get the integer codes for categories\n",
        "#h2o_df['Survived_N'] = h2o.H2OFrame(target_array)\n",
        "#h2o_df=h2o_df.drop('Survived')\n",
        "\n",
        "\n",
        "#    'max_models': 5,  # Number of models to build during AutoML search\n",
        "#    'seed': 1234,     # Random seed for reproducibility (optional)\n",
        "#    'stopping_metric': 'AUC',  # Early stopping metric (adjust as needed)\n",
        "\n",
        "\n",
        "\n",
        "# Entrenar AutoML #[\"StackedEnsemble\",\n",
        "aml = H2OAutoML(max_models=20, seed=42, stopping_metric='auto',max_runtime_secs=3600,\n",
        "                verbosity='info',exclude_algos=['StackedEnsemble','DeepLearning'])\n",
        "# Create and train AutoML using H2OFrame\n",
        "\n",
        "caracteristicas = h2o_df.drop('Survived')\n",
        "target = h2o_df['Survived']\n",
        "print(caracteristicas)\n",
        "\n",
        "aml.train(x=['Sex_N','Pclass_N','Age_N','Embarked_N','Family_N','Fare_cat_N','Title_N','Alone_N'],\n",
        "          y='Survived',\n",
        "          training_frame=h2o_df)\n",
        "\n",
        "\n",
        "# Evaluar el rendimiento del modelo\n",
        "leaderboard = aml.leaderboard\n",
        "print('leaderboard',leaderboard)\n",
        "\n",
        "# Evaluar el mejor modelo en el conjunto de prueba\n",
        "performance = aml.leader.model_performance(h2o_df)\n",
        "print('rendimiento',performance)\n",
        "\n",
        "\n",
        "\n",
        "# Obtener las predicciones del mejor modelo\n",
        "predictions7 = aml.leader.predict(caracteristicas)\n",
        "print('Predicciones /n',predictions7)\n",
        "\n",
        "best_autoML_name = leaderboard['model_id'][0][0]\n"
      ],
      "metadata": {
        "colab": {
          "base_uri": "https://localhost:8080/",
          "height": 1000
        },
        "id": "jW7uD-knN7sz",
        "outputId": "5a87074b-497c-4c4d-d2a6-796796a93568"
      },
      "execution_count": 269,
      "outputs": [
        {
          "output_type": "stream",
          "name": "stdout",
          "text": [
            "Checking whether there is an H2O instance running at http://localhost:54321. connected.\n"
          ]
        },
        {
          "output_type": "display_data",
          "data": {
            "text/plain": [
              "--------------------------  -----------------------------------------------------------------------------------------\n",
              "H2O_cluster_uptime:         2 hours 53 mins\n",
              "H2O_cluster_timezone:       Etc/UTC\n",
              "H2O_data_parsing_timezone:  UTC\n",
              "H2O_cluster_version:        3.46.0.1\n",
              "H2O_cluster_version_age:    21 days, 4 hours and 21 minutes\n",
              "H2O_cluster_name:           H2O_from_python_unknownUser_tt9kt0\n",
              "H2O_cluster_total_nodes:    1\n",
              "H2O_cluster_free_memory:    3.104 Gb\n",
              "H2O_cluster_total_cores:    2\n",
              "H2O_cluster_allowed_cores:  2\n",
              "H2O_cluster_status:         locked, healthy\n",
              "H2O_connection_url:         http://localhost:54321\n",
              "H2O_connection_proxy:       {\"http\": null, \"https\": null, \"colab_language_server\": \"/usr/colab/bin/language_service\"}\n",
              "H2O_internal_security:      False\n",
              "Python_version:             3.10.12 final\n",
              "--------------------------  -----------------------------------------------------------------------------------------"
            ],
            "text/html": [
              "\n",
              "<style>\n",
              "\n",
              "#h2o-table-42.h2o-container {\n",
              "  overflow-x: auto;\n",
              "}\n",
              "#h2o-table-42 .h2o-table {\n",
              "  /* width: 100%; */\n",
              "  margin-top: 1em;\n",
              "  margin-bottom: 1em;\n",
              "}\n",
              "#h2o-table-42 .h2o-table caption {\n",
              "  white-space: nowrap;\n",
              "  caption-side: top;\n",
              "  text-align: left;\n",
              "  /* margin-left: 1em; */\n",
              "  margin: 0;\n",
              "  font-size: larger;\n",
              "}\n",
              "#h2o-table-42 .h2o-table thead {\n",
              "  white-space: nowrap; \n",
              "  position: sticky;\n",
              "  top: 0;\n",
              "  box-shadow: 0 -1px inset;\n",
              "}\n",
              "#h2o-table-42 .h2o-table tbody {\n",
              "  overflow: auto;\n",
              "}\n",
              "#h2o-table-42 .h2o-table th,\n",
              "#h2o-table-42 .h2o-table td {\n",
              "  text-align: right;\n",
              "  /* border: 1px solid; */\n",
              "}\n",
              "#h2o-table-42 .h2o-table tr:nth-child(even) {\n",
              "  /* background: #F5F5F5 */\n",
              "}\n",
              "\n",
              "</style>      \n",
              "<div id=\"h2o-table-42\" class=\"h2o-container\">\n",
              "  <table class=\"h2o-table\">\n",
              "    <caption></caption>\n",
              "    <thead></thead>\n",
              "    <tbody><tr><td>H2O_cluster_uptime:</td>\n",
              "<td>2 hours 53 mins</td></tr>\n",
              "<tr><td>H2O_cluster_timezone:</td>\n",
              "<td>Etc/UTC</td></tr>\n",
              "<tr><td>H2O_data_parsing_timezone:</td>\n",
              "<td>UTC</td></tr>\n",
              "<tr><td>H2O_cluster_version:</td>\n",
              "<td>3.46.0.1</td></tr>\n",
              "<tr><td>H2O_cluster_version_age:</td>\n",
              "<td>21 days, 4 hours and 21 minutes</td></tr>\n",
              "<tr><td>H2O_cluster_name:</td>\n",
              "<td>H2O_from_python_unknownUser_tt9kt0</td></tr>\n",
              "<tr><td>H2O_cluster_total_nodes:</td>\n",
              "<td>1</td></tr>\n",
              "<tr><td>H2O_cluster_free_memory:</td>\n",
              "<td>3.104 Gb</td></tr>\n",
              "<tr><td>H2O_cluster_total_cores:</td>\n",
              "<td>2</td></tr>\n",
              "<tr><td>H2O_cluster_allowed_cores:</td>\n",
              "<td>2</td></tr>\n",
              "<tr><td>H2O_cluster_status:</td>\n",
              "<td>locked, healthy</td></tr>\n",
              "<tr><td>H2O_connection_url:</td>\n",
              "<td>http://localhost:54321</td></tr>\n",
              "<tr><td>H2O_connection_proxy:</td>\n",
              "<td>{\"http\": null, \"https\": null, \"colab_language_server\": \"/usr/colab/bin/language_service\"}</td></tr>\n",
              "<tr><td>H2O_internal_security:</td>\n",
              "<td>False</td></tr>\n",
              "<tr><td>Python_version:</td>\n",
              "<td>3.10.12 final</td></tr></tbody>\n",
              "  </table>\n",
              "</div>\n"
            ]
          },
          "metadata": {}
        },
        {
          "output_type": "stream",
          "name": "stdout",
          "text": [
            "Parse progress: |████████████████████████████████████████████████████████████████| (done) 100%\n",
            "    Sex_N    Pclass_N       Age_N    Embarked_N    Family_N    Fare_cat_N     Title_N     Alone_N\n",
            "0           0.111111    0.814815      0.814815    0.814815      0.814815    0.814815    0.814815\n",
            "0.0217391   0.0217391   0.826087      0.826087    0.826087      0.826087    0.826087    0.826087\n",
            "0.030303    0.0909091   0.787879      0.787879    0.787879      0.787879    0.787879    0.787879\n",
            "0.0238095   0.0238095   0.833333      0.833333    0.833333      0.833333    0.833333    0.833333\n",
            "0           0.0714286   0.833333      0.833333    0.833333      0.833333    0.833333    0.833333\n",
            "0           0.315789   -0.0526316    -0.0526316  -0.0526316    -0.0526316  -0.0526316  -0.0526316\n",
            "0           0.0172414   0.931034      0.931034    0.931034      0.931034    0.931034    0.931034\n",
            "0           0.1875      0.125         0.125       0.125         0.125       0.125       0.125\n",
            "0.0263158   0.0789474   0.710526      0.710526    0.710526      0.710526    0.710526    0.710526\n",
            "0.04        0.08        0.56          0.56        0.56          0.56        0.56        0.56\n",
            "[891 rows x 8 columns]\n",
            "\n",
            "AutoML progress: |\n",
            "19:43:31.128: Project: AutoML_19_20240403_194331\n",
            "19:43:31.128: 5-fold cross-validation will be used.\n",
            "19:43:31.128: Setting stopping tolerance adaptively based on the training frame: 0.0335012605086404\n",
            "19:43:31.128: Build control seed: 42\n",
            "19:43:31.128: training frame: Frame key: AutoML_19_20240403_194331_training_Key_Frame__upload_911adf71ca9ef40e423e95bbfe5b4374.hex    cols: 9    rows: 891  chunks: 1    size: 48962  checksum: 189869307084515382\n",
            "19:43:31.128: validation frame: NULL\n",
            "19:43:31.128: leaderboard frame: NULL\n",
            "19:43:31.128: blending frame: NULL\n",
            "19:43:31.129: response column: Survived\n",
            "19:43:31.129: fold column: null\n",
            "19:43:31.129: weights column: null\n",
            "19:43:31.129: Loading execution steps: [{XGBoost : [def_2 (1g, 10w), def_1 (2g, 10w), def_3 (3g, 10w), grid_1 (4g, 90w), lr_search (7g, 30w)]}, {GLM : [def_1 (1g, 10w)]}, {DRF : [def_1 (2g, 10w), XRT (3g, 10w)]}, {GBM : [def_5 (1g, 10w), def_2 (2g, 10w), def_3 (2g, 10w), def_4 (2g, 10w), def_1 (3g, 10w), grid_1 (4g, 60w), lr_annealing (7g, 10w)]}, {DeepLearning : [def_1 (3g, 10w), grid_1 (4g, 30w), grid_2 (5g, 30w), grid_3 (5g, 30w)]}, {completion : [resume_best_grids (6g, 60w)]}, {StackedEnsemble : [monotonic (9g, 10w), best_of_family_xglm (10g, 10w), all_xglm (10g, 10w)]}]\n",
            "19:43:31.130: Disabling Algo: DeepLearning as requested by the user.\n",
            "19:43:31.130: Disabling Algo: StackedEnsemble as requested by the user.\n",
            "19:43:31.131: AutoML job created: 2024.04.03 19:43:31.126\n",
            "19:43:31.131: AutoML build started: 2024.04.03 19:43:31.131\n",
            "19:43:31.132: AutoML: starting XGBoost_1_AutoML_19_20240403_194331 model training\n",
            "19:43:31.133: _response param, We have detected that your response column has only 2 unique values (0/1). If you wish to train a binary model instead of a regression model, convert your target column to categorical before training.\n",
            "\n",
            "\n",
            "19:43:32.572: New leader: XGBoost_1_AutoML_19_20240403_194331, rmse: 0.40390170966945005\n",
            "19:43:32.573: AutoML: starting GLM_1_AutoML_19_20240403_194331 model training\n",
            "19:43:32.573: _response param, We have detected that your response column has only 2 unique values (0/1). If you wish to train a binary model instead of a regression model, convert your target column to categorical before training.\n",
            "\n",
            "\n",
            "19:43:32.831: AutoML: starting GBM_1_AutoML_19_20240403_194331 model training\n",
            "19:43:32.832: _response param, We have detected that your response column has only 2 unique values (0/1). If you wish to train a binary model instead of a regression model, convert your target column to categorical before training.\n",
            "\n",
            "█\n",
            "19:43:33.581: New leader: GBM_1_AutoML_19_20240403_194331, rmse: 0.39782276069508804\n",
            "19:43:33.582: AutoML: starting XGBoost_2_AutoML_19_20240403_194331 model training\n",
            "19:43:33.582: _response param, We have detected that your response column has only 2 unique values (0/1). If you wish to train a binary model instead of a regression model, convert your target column to categorical before training.\n",
            "\n",
            "███\n",
            "19:43:35.50: AutoML: starting DRF_1_AutoML_19_20240403_194331 model training\n",
            "19:43:35.50: _response param, We have detected that your response column has only 2 unique values (0/1). If you wish to train a binary model instead of a regression model, convert your target column to categorical before training.\n",
            "\n",
            "█\n",
            "19:43:36.303: New leader: DRF_1_AutoML_19_20240403_194331, rmse: 0.3933273891559844\n",
            "19:43:36.304: AutoML: starting GBM_2_AutoML_19_20240403_194331 model training\n",
            "19:43:36.304: _response param, We have detected that your response column has only 2 unique values (0/1). If you wish to train a binary model instead of a regression model, convert your target column to categorical before training.\n",
            "\n",
            "██\n",
            "19:43:37.80: New leader: GBM_2_AutoML_19_20240403_194331, rmse: 0.3855839220842648\n",
            "19:43:37.81: AutoML: starting GBM_3_AutoML_19_20240403_194331 model training\n",
            "19:43:37.81: _response param, We have detected that your response column has only 2 unique values (0/1). If you wish to train a binary model instead of a regression model, convert your target column to categorical before training.\n",
            "\n",
            "██\n",
            "19:43:38.444: New leader: GBM_3_AutoML_19_20240403_194331, rmse: 0.3849177926748604\n",
            "19:43:38.445: AutoML: starting GBM_4_AutoML_19_20240403_194331 model training\n",
            "19:43:38.445: _response param, We have detected that your response column has only 2 unique values (0/1). If you wish to train a binary model instead of a regression model, convert your target column to categorical before training.\n",
            "\n",
            "███\n",
            "19:43:39.321: AutoML: starting XGBoost_3_AutoML_19_20240403_194331 model training\n",
            "19:43:39.322: _response param, We have detected that your response column has only 2 unique values (0/1). If you wish to train a binary model instead of a regression model, convert your target column to categorical before training.\n",
            "\n",
            "████\n",
            "19:43:42.489: AutoML: starting XRT_1_AutoML_19_20240403_194331 model training\n",
            "19:43:42.490: _response param, We have detected that your response column has only 2 unique values (0/1). If you wish to train a binary model instead of a regression model, convert your target column to categorical before training.\n",
            "\n",
            "██\n",
            "19:43:44.85: AutoML: starting GBM_5_AutoML_19_20240403_194331 model training\n",
            "19:43:44.86: _response param, We have detected that your response column has only 2 unique values (0/1). If you wish to train a binary model instead of a regression model, convert your target column to categorical before training.\n",
            "\n",
            "██\n",
            "19:43:44.835: New leader: GBM_5_AutoML_19_20240403_194331, rmse: 0.3831630681680136\n",
            "19:43:44.836: AutoML: starting XGBoost_grid_1_AutoML_19_20240403_194331 hyperparameter search\n",
            "\n",
            "██████\n",
            "19:43:55.386: AutoML: starting GBM_grid_1_AutoML_19_20240403_194331 hyperparameter search\n",
            "19:43:56.392: New leader: GBM_grid_1_AutoML_19_20240403_194331_model_1, rmse: 0.3823144600016019\n",
            "\n",
            "█████████████████████████████████████| (done) 100%\n",
            "\n",
            "19:43:58.114: Skipping StackedEnsemble 'monotonic' due to the exclude_algos option or it is already trained.\n",
            "19:43:58.114: Skipping StackedEnsemble 'best_of_family_xglm' due to the exclude_algos option or it is already trained.\n",
            "19:43:58.114: Skipping StackedEnsemble 'all_xglm' due to the exclude_algos option or it is already trained.\n",
            "19:43:58.116: Actual modeling steps: [{XGBoost : [def_2 (1g, 10w)]}, {GLM : [def_1 (1g, 10w)]}, {GBM : [def_5 (1g, 10w)]}, {XGBoost : [def_1 (2g, 10w)]}, {DRF : [def_1 (2g, 10w)]}, {GBM : [def_2 (2g, 10w), def_3 (2g, 10w), def_4 (2g, 10w)]}, {XGBoost : [def_3 (3g, 10w)]}, {DRF : [XRT (3g, 10w)]}, {GBM : [def_1 (3g, 10w)]}, {XGBoost : [grid_1 (4g, 90w)]}, {GBM : [grid_1 (4g, 60w)]}]\n",
            "19:43:58.116: AutoML build stopped: 2024.04.03 19:43:58.116\n",
            "19:43:58.116: AutoML build done: built 20 models\n",
            "19:43:58.116: AutoML duration: 26.985 sec\n",
            "\n",
            "leaderboard model_id                                              rmse       mse       mae     rmsle    mean_residual_deviance\n",
            "GBM_grid_1_AutoML_19_20240403_194331_model_1      0.382314  0.146164  0.282823  0.268307                  0.146164\n",
            "GBM_5_AutoML_19_20240403_194331                   0.383163  0.146814  0.287178  0.268823                  0.146814\n",
            "XGBoost_grid_1_AutoML_19_20240403_194331_model_4  0.383217  0.146855  0.293265  0.269002                  0.146855\n",
            "GBM_grid_1_AutoML_19_20240403_194331_model_2      0.383604  0.147152  0.281276  0.270185                  0.147152\n",
            "GBM_3_AutoML_19_20240403_194331                   0.384918  0.148162  0.292008  0.270814                  0.148162\n",
            "GBM_4_AutoML_19_20240403_194331                   0.385264  0.148428  0.289205  0.271314                  0.148428\n",
            "GBM_2_AutoML_19_20240403_194331                   0.385584  0.148675  0.293325  0.271462                  0.148675\n",
            "XGBoost_grid_1_AutoML_19_20240403_194331_model_6  0.386861  0.149662  0.293902  0.272096                  0.149662\n",
            "DRF_1_AutoML_19_20240403_194331                   0.393327  0.154706  0.27587   0.27697                   0.154706\n",
            "XRT_1_AutoML_19_20240403_194331                   0.395124  0.156123  0.277087  0.278217                  0.156123\n",
            "[20 rows x 6 columns]\n",
            "\n",
            "rendimiento ModelMetricsRegression: gbm\n",
            "** Reported on test data. **\n",
            "\n",
            "MSE: 0.0844562130700083\n",
            "RMSE: 0.2906135115062758\n",
            "MAE: 0.21156971405213065\n",
            "RMSLE: 0.20460475839804423\n",
            "Mean Residual Deviance: 0.0844562130700083\n",
            "gbm prediction progress: |███████████████████████████████████████████████████████| (done) 100%\n",
            "Predicciones /n   predict\n",
            "0.0857327\n",
            "0.904447\n",
            "0.692445\n",
            "0.992339\n",
            "0.0659594\n",
            "0.0476874\n",
            "0.0412105\n",
            "0.343258\n",
            "0.624717\n",
            "1.00439\n",
            "[891 rows x 1 column]\n",
            "\n"
          ]
        }
      ]
    },
    {
      "cell_type": "code",
      "source": [
        "titanic_pred_pd = predictions7.as_data_frame(use_pandas=True)\n",
        "titanic_pred_pd"
      ],
      "metadata": {
        "colab": {
          "base_uri": "https://localhost:8080/",
          "height": 547
        },
        "id": "bRJc9RnfOg8t",
        "outputId": "1b0f5856-ccdd-499a-a05f-4a00d029faa1"
      },
      "execution_count": 270,
      "outputs": [
        {
          "output_type": "stream",
          "name": "stderr",
          "text": [
            "/usr/local/lib/python3.10/dist-packages/h2o/frame.py:1983: H2ODependencyWarning: Converting H2O frame to pandas dataframe using single-thread.  For faster conversion using multi-thread, install datatable (for Python 3.9 or lower), or polars and pyarrow (for Python 3.10 or above) and activate it using:\n",
            "\n",
            "with h2o.utils.threading.local_context(polars_enabled=True, datatable_enabled=True):\n",
            "    pandas_df = h2o_df.as_data_frame()\n",
            "\n",
            "  warnings.warn(\"Converting H2O frame to pandas dataframe using single-thread.  For faster conversion using\"\n"
          ]
        },
        {
          "output_type": "execute_result",
          "data": {
            "text/plain": [
              "      predict\n",
              "0    0.085733\n",
              "1    0.904447\n",
              "2    0.692445\n",
              "3    0.992339\n",
              "4    0.065959\n",
              "..        ...\n",
              "886  0.159483\n",
              "887  0.935264\n",
              "888  0.769700\n",
              "889  0.435635\n",
              "890  0.123939\n",
              "\n",
              "[891 rows x 1 columns]"
            ],
            "text/html": [
              "\n",
              "  <div id=\"df-f5b7e004-ecbe-4bd1-824f-2663d42ffd46\" class=\"colab-df-container\">\n",
              "    <div>\n",
              "<style scoped>\n",
              "    .dataframe tbody tr th:only-of-type {\n",
              "        vertical-align: middle;\n",
              "    }\n",
              "\n",
              "    .dataframe tbody tr th {\n",
              "        vertical-align: top;\n",
              "    }\n",
              "\n",
              "    .dataframe thead th {\n",
              "        text-align: right;\n",
              "    }\n",
              "</style>\n",
              "<table border=\"1\" class=\"dataframe\">\n",
              "  <thead>\n",
              "    <tr style=\"text-align: right;\">\n",
              "      <th></th>\n",
              "      <th>predict</th>\n",
              "    </tr>\n",
              "  </thead>\n",
              "  <tbody>\n",
              "    <tr>\n",
              "      <th>0</th>\n",
              "      <td>0.085733</td>\n",
              "    </tr>\n",
              "    <tr>\n",
              "      <th>1</th>\n",
              "      <td>0.904447</td>\n",
              "    </tr>\n",
              "    <tr>\n",
              "      <th>2</th>\n",
              "      <td>0.692445</td>\n",
              "    </tr>\n",
              "    <tr>\n",
              "      <th>3</th>\n",
              "      <td>0.992339</td>\n",
              "    </tr>\n",
              "    <tr>\n",
              "      <th>4</th>\n",
              "      <td>0.065959</td>\n",
              "    </tr>\n",
              "    <tr>\n",
              "      <th>...</th>\n",
              "      <td>...</td>\n",
              "    </tr>\n",
              "    <tr>\n",
              "      <th>886</th>\n",
              "      <td>0.159483</td>\n",
              "    </tr>\n",
              "    <tr>\n",
              "      <th>887</th>\n",
              "      <td>0.935264</td>\n",
              "    </tr>\n",
              "    <tr>\n",
              "      <th>888</th>\n",
              "      <td>0.769700</td>\n",
              "    </tr>\n",
              "    <tr>\n",
              "      <th>889</th>\n",
              "      <td>0.435635</td>\n",
              "    </tr>\n",
              "    <tr>\n",
              "      <th>890</th>\n",
              "      <td>0.123939</td>\n",
              "    </tr>\n",
              "  </tbody>\n",
              "</table>\n",
              "<p>891 rows × 1 columns</p>\n",
              "</div>\n",
              "    <div class=\"colab-df-buttons\">\n",
              "\n",
              "  <div class=\"colab-df-container\">\n",
              "    <button class=\"colab-df-convert\" onclick=\"convertToInteractive('df-f5b7e004-ecbe-4bd1-824f-2663d42ffd46')\"\n",
              "            title=\"Convert this dataframe to an interactive table.\"\n",
              "            style=\"display:none;\">\n",
              "\n",
              "  <svg xmlns=\"http://www.w3.org/2000/svg\" height=\"24px\" viewBox=\"0 -960 960 960\">\n",
              "    <path d=\"M120-120v-720h720v720H120Zm60-500h600v-160H180v160Zm220 220h160v-160H400v160Zm0 220h160v-160H400v160ZM180-400h160v-160H180v160Zm440 0h160v-160H620v160ZM180-180h160v-160H180v160Zm440 0h160v-160H620v160Z\"/>\n",
              "  </svg>\n",
              "    </button>\n",
              "\n",
              "  <style>\n",
              "    .colab-df-container {\n",
              "      display:flex;\n",
              "      gap: 12px;\n",
              "    }\n",
              "\n",
              "    .colab-df-convert {\n",
              "      background-color: #E8F0FE;\n",
              "      border: none;\n",
              "      border-radius: 50%;\n",
              "      cursor: pointer;\n",
              "      display: none;\n",
              "      fill: #1967D2;\n",
              "      height: 32px;\n",
              "      padding: 0 0 0 0;\n",
              "      width: 32px;\n",
              "    }\n",
              "\n",
              "    .colab-df-convert:hover {\n",
              "      background-color: #E2EBFA;\n",
              "      box-shadow: 0px 1px 2px rgba(60, 64, 67, 0.3), 0px 1px 3px 1px rgba(60, 64, 67, 0.15);\n",
              "      fill: #174EA6;\n",
              "    }\n",
              "\n",
              "    .colab-df-buttons div {\n",
              "      margin-bottom: 4px;\n",
              "    }\n",
              "\n",
              "    [theme=dark] .colab-df-convert {\n",
              "      background-color: #3B4455;\n",
              "      fill: #D2E3FC;\n",
              "    }\n",
              "\n",
              "    [theme=dark] .colab-df-convert:hover {\n",
              "      background-color: #434B5C;\n",
              "      box-shadow: 0px 1px 3px 1px rgba(0, 0, 0, 0.15);\n",
              "      filter: drop-shadow(0px 1px 2px rgba(0, 0, 0, 0.3));\n",
              "      fill: #FFFFFF;\n",
              "    }\n",
              "  </style>\n",
              "\n",
              "    <script>\n",
              "      const buttonEl =\n",
              "        document.querySelector('#df-f5b7e004-ecbe-4bd1-824f-2663d42ffd46 button.colab-df-convert');\n",
              "      buttonEl.style.display =\n",
              "        google.colab.kernel.accessAllowed ? 'block' : 'none';\n",
              "\n",
              "      async function convertToInteractive(key) {\n",
              "        const element = document.querySelector('#df-f5b7e004-ecbe-4bd1-824f-2663d42ffd46');\n",
              "        const dataTable =\n",
              "          await google.colab.kernel.invokeFunction('convertToInteractive',\n",
              "                                                    [key], {});\n",
              "        if (!dataTable) return;\n",
              "\n",
              "        const docLinkHtml = 'Like what you see? Visit the ' +\n",
              "          '<a target=\"_blank\" href=https://colab.research.google.com/notebooks/data_table.ipynb>data table notebook</a>'\n",
              "          + ' to learn more about interactive tables.';\n",
              "        element.innerHTML = '';\n",
              "        dataTable['output_type'] = 'display_data';\n",
              "        await google.colab.output.renderOutput(dataTable, element);\n",
              "        const docLink = document.createElement('div');\n",
              "        docLink.innerHTML = docLinkHtml;\n",
              "        element.appendChild(docLink);\n",
              "      }\n",
              "    </script>\n",
              "  </div>\n",
              "\n",
              "\n",
              "<div id=\"df-e31b955e-b936-43bf-b84e-48fa727602e5\">\n",
              "  <button class=\"colab-df-quickchart\" onclick=\"quickchart('df-e31b955e-b936-43bf-b84e-48fa727602e5')\"\n",
              "            title=\"Suggest charts\"\n",
              "            style=\"display:none;\">\n",
              "\n",
              "<svg xmlns=\"http://www.w3.org/2000/svg\" height=\"24px\"viewBox=\"0 0 24 24\"\n",
              "     width=\"24px\">\n",
              "    <g>\n",
              "        <path d=\"M19 3H5c-1.1 0-2 .9-2 2v14c0 1.1.9 2 2 2h14c1.1 0 2-.9 2-2V5c0-1.1-.9-2-2-2zM9 17H7v-7h2v7zm4 0h-2V7h2v10zm4 0h-2v-4h2v4z\"/>\n",
              "    </g>\n",
              "</svg>\n",
              "  </button>\n",
              "\n",
              "<style>\n",
              "  .colab-df-quickchart {\n",
              "      --bg-color: #E8F0FE;\n",
              "      --fill-color: #1967D2;\n",
              "      --hover-bg-color: #E2EBFA;\n",
              "      --hover-fill-color: #174EA6;\n",
              "      --disabled-fill-color: #AAA;\n",
              "      --disabled-bg-color: #DDD;\n",
              "  }\n",
              "\n",
              "  [theme=dark] .colab-df-quickchart {\n",
              "      --bg-color: #3B4455;\n",
              "      --fill-color: #D2E3FC;\n",
              "      --hover-bg-color: #434B5C;\n",
              "      --hover-fill-color: #FFFFFF;\n",
              "      --disabled-bg-color: #3B4455;\n",
              "      --disabled-fill-color: #666;\n",
              "  }\n",
              "\n",
              "  .colab-df-quickchart {\n",
              "    background-color: var(--bg-color);\n",
              "    border: none;\n",
              "    border-radius: 50%;\n",
              "    cursor: pointer;\n",
              "    display: none;\n",
              "    fill: var(--fill-color);\n",
              "    height: 32px;\n",
              "    padding: 0;\n",
              "    width: 32px;\n",
              "  }\n",
              "\n",
              "  .colab-df-quickchart:hover {\n",
              "    background-color: var(--hover-bg-color);\n",
              "    box-shadow: 0 1px 2px rgba(60, 64, 67, 0.3), 0 1px 3px 1px rgba(60, 64, 67, 0.15);\n",
              "    fill: var(--button-hover-fill-color);\n",
              "  }\n",
              "\n",
              "  .colab-df-quickchart-complete:disabled,\n",
              "  .colab-df-quickchart-complete:disabled:hover {\n",
              "    background-color: var(--disabled-bg-color);\n",
              "    fill: var(--disabled-fill-color);\n",
              "    box-shadow: none;\n",
              "  }\n",
              "\n",
              "  .colab-df-spinner {\n",
              "    border: 2px solid var(--fill-color);\n",
              "    border-color: transparent;\n",
              "    border-bottom-color: var(--fill-color);\n",
              "    animation:\n",
              "      spin 1s steps(1) infinite;\n",
              "  }\n",
              "\n",
              "  @keyframes spin {\n",
              "    0% {\n",
              "      border-color: transparent;\n",
              "      border-bottom-color: var(--fill-color);\n",
              "      border-left-color: var(--fill-color);\n",
              "    }\n",
              "    20% {\n",
              "      border-color: transparent;\n",
              "      border-left-color: var(--fill-color);\n",
              "      border-top-color: var(--fill-color);\n",
              "    }\n",
              "    30% {\n",
              "      border-color: transparent;\n",
              "      border-left-color: var(--fill-color);\n",
              "      border-top-color: var(--fill-color);\n",
              "      border-right-color: var(--fill-color);\n",
              "    }\n",
              "    40% {\n",
              "      border-color: transparent;\n",
              "      border-right-color: var(--fill-color);\n",
              "      border-top-color: var(--fill-color);\n",
              "    }\n",
              "    60% {\n",
              "      border-color: transparent;\n",
              "      border-right-color: var(--fill-color);\n",
              "    }\n",
              "    80% {\n",
              "      border-color: transparent;\n",
              "      border-right-color: var(--fill-color);\n",
              "      border-bottom-color: var(--fill-color);\n",
              "    }\n",
              "    90% {\n",
              "      border-color: transparent;\n",
              "      border-bottom-color: var(--fill-color);\n",
              "    }\n",
              "  }\n",
              "</style>\n",
              "\n",
              "  <script>\n",
              "    async function quickchart(key) {\n",
              "      const quickchartButtonEl =\n",
              "        document.querySelector('#' + key + ' button');\n",
              "      quickchartButtonEl.disabled = true;  // To prevent multiple clicks.\n",
              "      quickchartButtonEl.classList.add('colab-df-spinner');\n",
              "      try {\n",
              "        const charts = await google.colab.kernel.invokeFunction(\n",
              "            'suggestCharts', [key], {});\n",
              "      } catch (error) {\n",
              "        console.error('Error during call to suggestCharts:', error);\n",
              "      }\n",
              "      quickchartButtonEl.classList.remove('colab-df-spinner');\n",
              "      quickchartButtonEl.classList.add('colab-df-quickchart-complete');\n",
              "    }\n",
              "    (() => {\n",
              "      let quickchartButtonEl =\n",
              "        document.querySelector('#df-e31b955e-b936-43bf-b84e-48fa727602e5 button');\n",
              "      quickchartButtonEl.style.display =\n",
              "        google.colab.kernel.accessAllowed ? 'block' : 'none';\n",
              "    })();\n",
              "  </script>\n",
              "</div>\n",
              "    </div>\n",
              "  </div>\n"
            ],
            "application/vnd.google.colaboratory.intrinsic+json": {
              "type": "dataframe",
              "variable_name": "titanic_pred_pd",
              "summary": "{\n  \"name\": \"titanic_pred_pd\",\n  \"rows\": 891,\n  \"fields\": [\n    {\n      \"column\": \"predict\",\n      \"properties\": {\n        \"dtype\": \"number\",\n        \"std\": 0.33160099967707507,\n        \"min\": -0.0312702818691373,\n        \"max\": 1.0178631346289426,\n        \"num_unique_values\": 519,\n        \"samples\": [\n          0.4127386347254746,\n          0.533381350084756,\n          0.0412105190417155\n        ],\n        \"semantic_type\": \"\",\n        \"description\": \"\"\n      }\n    }\n  ]\n}"
            }
          },
          "metadata": {},
          "execution_count": 270
        }
      ]
    },
    {
      "cell_type": "code",
      "source": [
        "titanic_pred_pd['Survived'] = [1 if x > 0.5 else 0 for x in titanic_pred_pd['predict']]\n",
        "titanic_pred_pd"
      ],
      "metadata": {
        "colab": {
          "base_uri": "https://localhost:8080/",
          "height": 423
        },
        "id": "s61EZWlSOpnr",
        "outputId": "36d78ca5-dfa2-49a4-a49d-8e368dff40be"
      },
      "execution_count": 271,
      "outputs": [
        {
          "output_type": "execute_result",
          "data": {
            "text/plain": [
              "      predict  Survived\n",
              "0    0.085733         0\n",
              "1    0.904447         1\n",
              "2    0.692445         1\n",
              "3    0.992339         1\n",
              "4    0.065959         0\n",
              "..        ...       ...\n",
              "886  0.159483         0\n",
              "887  0.935264         1\n",
              "888  0.769700         1\n",
              "889  0.435635         0\n",
              "890  0.123939         0\n",
              "\n",
              "[891 rows x 2 columns]"
            ],
            "text/html": [
              "\n",
              "  <div id=\"df-d338d9a9-f619-4a7d-9816-7020f27f8753\" class=\"colab-df-container\">\n",
              "    <div>\n",
              "<style scoped>\n",
              "    .dataframe tbody tr th:only-of-type {\n",
              "        vertical-align: middle;\n",
              "    }\n",
              "\n",
              "    .dataframe tbody tr th {\n",
              "        vertical-align: top;\n",
              "    }\n",
              "\n",
              "    .dataframe thead th {\n",
              "        text-align: right;\n",
              "    }\n",
              "</style>\n",
              "<table border=\"1\" class=\"dataframe\">\n",
              "  <thead>\n",
              "    <tr style=\"text-align: right;\">\n",
              "      <th></th>\n",
              "      <th>predict</th>\n",
              "      <th>Survived</th>\n",
              "    </tr>\n",
              "  </thead>\n",
              "  <tbody>\n",
              "    <tr>\n",
              "      <th>0</th>\n",
              "      <td>0.085733</td>\n",
              "      <td>0</td>\n",
              "    </tr>\n",
              "    <tr>\n",
              "      <th>1</th>\n",
              "      <td>0.904447</td>\n",
              "      <td>1</td>\n",
              "    </tr>\n",
              "    <tr>\n",
              "      <th>2</th>\n",
              "      <td>0.692445</td>\n",
              "      <td>1</td>\n",
              "    </tr>\n",
              "    <tr>\n",
              "      <th>3</th>\n",
              "      <td>0.992339</td>\n",
              "      <td>1</td>\n",
              "    </tr>\n",
              "    <tr>\n",
              "      <th>4</th>\n",
              "      <td>0.065959</td>\n",
              "      <td>0</td>\n",
              "    </tr>\n",
              "    <tr>\n",
              "      <th>...</th>\n",
              "      <td>...</td>\n",
              "      <td>...</td>\n",
              "    </tr>\n",
              "    <tr>\n",
              "      <th>886</th>\n",
              "      <td>0.159483</td>\n",
              "      <td>0</td>\n",
              "    </tr>\n",
              "    <tr>\n",
              "      <th>887</th>\n",
              "      <td>0.935264</td>\n",
              "      <td>1</td>\n",
              "    </tr>\n",
              "    <tr>\n",
              "      <th>888</th>\n",
              "      <td>0.769700</td>\n",
              "      <td>1</td>\n",
              "    </tr>\n",
              "    <tr>\n",
              "      <th>889</th>\n",
              "      <td>0.435635</td>\n",
              "      <td>0</td>\n",
              "    </tr>\n",
              "    <tr>\n",
              "      <th>890</th>\n",
              "      <td>0.123939</td>\n",
              "      <td>0</td>\n",
              "    </tr>\n",
              "  </tbody>\n",
              "</table>\n",
              "<p>891 rows × 2 columns</p>\n",
              "</div>\n",
              "    <div class=\"colab-df-buttons\">\n",
              "\n",
              "  <div class=\"colab-df-container\">\n",
              "    <button class=\"colab-df-convert\" onclick=\"convertToInteractive('df-d338d9a9-f619-4a7d-9816-7020f27f8753')\"\n",
              "            title=\"Convert this dataframe to an interactive table.\"\n",
              "            style=\"display:none;\">\n",
              "\n",
              "  <svg xmlns=\"http://www.w3.org/2000/svg\" height=\"24px\" viewBox=\"0 -960 960 960\">\n",
              "    <path d=\"M120-120v-720h720v720H120Zm60-500h600v-160H180v160Zm220 220h160v-160H400v160Zm0 220h160v-160H400v160ZM180-400h160v-160H180v160Zm440 0h160v-160H620v160ZM180-180h160v-160H180v160Zm440 0h160v-160H620v160Z\"/>\n",
              "  </svg>\n",
              "    </button>\n",
              "\n",
              "  <style>\n",
              "    .colab-df-container {\n",
              "      display:flex;\n",
              "      gap: 12px;\n",
              "    }\n",
              "\n",
              "    .colab-df-convert {\n",
              "      background-color: #E8F0FE;\n",
              "      border: none;\n",
              "      border-radius: 50%;\n",
              "      cursor: pointer;\n",
              "      display: none;\n",
              "      fill: #1967D2;\n",
              "      height: 32px;\n",
              "      padding: 0 0 0 0;\n",
              "      width: 32px;\n",
              "    }\n",
              "\n",
              "    .colab-df-convert:hover {\n",
              "      background-color: #E2EBFA;\n",
              "      box-shadow: 0px 1px 2px rgba(60, 64, 67, 0.3), 0px 1px 3px 1px rgba(60, 64, 67, 0.15);\n",
              "      fill: #174EA6;\n",
              "    }\n",
              "\n",
              "    .colab-df-buttons div {\n",
              "      margin-bottom: 4px;\n",
              "    }\n",
              "\n",
              "    [theme=dark] .colab-df-convert {\n",
              "      background-color: #3B4455;\n",
              "      fill: #D2E3FC;\n",
              "    }\n",
              "\n",
              "    [theme=dark] .colab-df-convert:hover {\n",
              "      background-color: #434B5C;\n",
              "      box-shadow: 0px 1px 3px 1px rgba(0, 0, 0, 0.15);\n",
              "      filter: drop-shadow(0px 1px 2px rgba(0, 0, 0, 0.3));\n",
              "      fill: #FFFFFF;\n",
              "    }\n",
              "  </style>\n",
              "\n",
              "    <script>\n",
              "      const buttonEl =\n",
              "        document.querySelector('#df-d338d9a9-f619-4a7d-9816-7020f27f8753 button.colab-df-convert');\n",
              "      buttonEl.style.display =\n",
              "        google.colab.kernel.accessAllowed ? 'block' : 'none';\n",
              "\n",
              "      async function convertToInteractive(key) {\n",
              "        const element = document.querySelector('#df-d338d9a9-f619-4a7d-9816-7020f27f8753');\n",
              "        const dataTable =\n",
              "          await google.colab.kernel.invokeFunction('convertToInteractive',\n",
              "                                                    [key], {});\n",
              "        if (!dataTable) return;\n",
              "\n",
              "        const docLinkHtml = 'Like what you see? Visit the ' +\n",
              "          '<a target=\"_blank\" href=https://colab.research.google.com/notebooks/data_table.ipynb>data table notebook</a>'\n",
              "          + ' to learn more about interactive tables.';\n",
              "        element.innerHTML = '';\n",
              "        dataTable['output_type'] = 'display_data';\n",
              "        await google.colab.output.renderOutput(dataTable, element);\n",
              "        const docLink = document.createElement('div');\n",
              "        docLink.innerHTML = docLinkHtml;\n",
              "        element.appendChild(docLink);\n",
              "      }\n",
              "    </script>\n",
              "  </div>\n",
              "\n",
              "\n",
              "<div id=\"df-77e21317-24d0-4030-9c8b-b7f51238e857\">\n",
              "  <button class=\"colab-df-quickchart\" onclick=\"quickchart('df-77e21317-24d0-4030-9c8b-b7f51238e857')\"\n",
              "            title=\"Suggest charts\"\n",
              "            style=\"display:none;\">\n",
              "\n",
              "<svg xmlns=\"http://www.w3.org/2000/svg\" height=\"24px\"viewBox=\"0 0 24 24\"\n",
              "     width=\"24px\">\n",
              "    <g>\n",
              "        <path d=\"M19 3H5c-1.1 0-2 .9-2 2v14c0 1.1.9 2 2 2h14c1.1 0 2-.9 2-2V5c0-1.1-.9-2-2-2zM9 17H7v-7h2v7zm4 0h-2V7h2v10zm4 0h-2v-4h2v4z\"/>\n",
              "    </g>\n",
              "</svg>\n",
              "  </button>\n",
              "\n",
              "<style>\n",
              "  .colab-df-quickchart {\n",
              "      --bg-color: #E8F0FE;\n",
              "      --fill-color: #1967D2;\n",
              "      --hover-bg-color: #E2EBFA;\n",
              "      --hover-fill-color: #174EA6;\n",
              "      --disabled-fill-color: #AAA;\n",
              "      --disabled-bg-color: #DDD;\n",
              "  }\n",
              "\n",
              "  [theme=dark] .colab-df-quickchart {\n",
              "      --bg-color: #3B4455;\n",
              "      --fill-color: #D2E3FC;\n",
              "      --hover-bg-color: #434B5C;\n",
              "      --hover-fill-color: #FFFFFF;\n",
              "      --disabled-bg-color: #3B4455;\n",
              "      --disabled-fill-color: #666;\n",
              "  }\n",
              "\n",
              "  .colab-df-quickchart {\n",
              "    background-color: var(--bg-color);\n",
              "    border: none;\n",
              "    border-radius: 50%;\n",
              "    cursor: pointer;\n",
              "    display: none;\n",
              "    fill: var(--fill-color);\n",
              "    height: 32px;\n",
              "    padding: 0;\n",
              "    width: 32px;\n",
              "  }\n",
              "\n",
              "  .colab-df-quickchart:hover {\n",
              "    background-color: var(--hover-bg-color);\n",
              "    box-shadow: 0 1px 2px rgba(60, 64, 67, 0.3), 0 1px 3px 1px rgba(60, 64, 67, 0.15);\n",
              "    fill: var(--button-hover-fill-color);\n",
              "  }\n",
              "\n",
              "  .colab-df-quickchart-complete:disabled,\n",
              "  .colab-df-quickchart-complete:disabled:hover {\n",
              "    background-color: var(--disabled-bg-color);\n",
              "    fill: var(--disabled-fill-color);\n",
              "    box-shadow: none;\n",
              "  }\n",
              "\n",
              "  .colab-df-spinner {\n",
              "    border: 2px solid var(--fill-color);\n",
              "    border-color: transparent;\n",
              "    border-bottom-color: var(--fill-color);\n",
              "    animation:\n",
              "      spin 1s steps(1) infinite;\n",
              "  }\n",
              "\n",
              "  @keyframes spin {\n",
              "    0% {\n",
              "      border-color: transparent;\n",
              "      border-bottom-color: var(--fill-color);\n",
              "      border-left-color: var(--fill-color);\n",
              "    }\n",
              "    20% {\n",
              "      border-color: transparent;\n",
              "      border-left-color: var(--fill-color);\n",
              "      border-top-color: var(--fill-color);\n",
              "    }\n",
              "    30% {\n",
              "      border-color: transparent;\n",
              "      border-left-color: var(--fill-color);\n",
              "      border-top-color: var(--fill-color);\n",
              "      border-right-color: var(--fill-color);\n",
              "    }\n",
              "    40% {\n",
              "      border-color: transparent;\n",
              "      border-right-color: var(--fill-color);\n",
              "      border-top-color: var(--fill-color);\n",
              "    }\n",
              "    60% {\n",
              "      border-color: transparent;\n",
              "      border-right-color: var(--fill-color);\n",
              "    }\n",
              "    80% {\n",
              "      border-color: transparent;\n",
              "      border-right-color: var(--fill-color);\n",
              "      border-bottom-color: var(--fill-color);\n",
              "    }\n",
              "    90% {\n",
              "      border-color: transparent;\n",
              "      border-bottom-color: var(--fill-color);\n",
              "    }\n",
              "  }\n",
              "</style>\n",
              "\n",
              "  <script>\n",
              "    async function quickchart(key) {\n",
              "      const quickchartButtonEl =\n",
              "        document.querySelector('#' + key + ' button');\n",
              "      quickchartButtonEl.disabled = true;  // To prevent multiple clicks.\n",
              "      quickchartButtonEl.classList.add('colab-df-spinner');\n",
              "      try {\n",
              "        const charts = await google.colab.kernel.invokeFunction(\n",
              "            'suggestCharts', [key], {});\n",
              "      } catch (error) {\n",
              "        console.error('Error during call to suggestCharts:', error);\n",
              "      }\n",
              "      quickchartButtonEl.classList.remove('colab-df-spinner');\n",
              "      quickchartButtonEl.classList.add('colab-df-quickchart-complete');\n",
              "    }\n",
              "    (() => {\n",
              "      let quickchartButtonEl =\n",
              "        document.querySelector('#df-77e21317-24d0-4030-9c8b-b7f51238e857 button');\n",
              "      quickchartButtonEl.style.display =\n",
              "        google.colab.kernel.accessAllowed ? 'block' : 'none';\n",
              "    })();\n",
              "  </script>\n",
              "</div>\n",
              "    </div>\n",
              "  </div>\n"
            ],
            "application/vnd.google.colaboratory.intrinsic+json": {
              "type": "dataframe",
              "variable_name": "titanic_pred_pd",
              "summary": "{\n  \"name\": \"titanic_pred_pd\",\n  \"rows\": 891,\n  \"fields\": [\n    {\n      \"column\": \"predict\",\n      \"properties\": {\n        \"dtype\": \"number\",\n        \"std\": 0.33160099967707507,\n        \"min\": -0.0312702818691373,\n        \"max\": 1.0178631346289426,\n        \"num_unique_values\": 519,\n        \"samples\": [\n          0.4127386347254746,\n          0.533381350084756,\n          0.0412105190417155\n        ],\n        \"semantic_type\": \"\",\n        \"description\": \"\"\n      }\n    },\n    {\n      \"column\": \"Survived\",\n      \"properties\": {\n        \"dtype\": \"number\",\n        \"std\": 0,\n        \"min\": 0,\n        \"max\": 1,\n        \"num_unique_values\": 2,\n        \"samples\": [\n          1,\n          0\n        ],\n        \"semantic_type\": \"\",\n        \"description\": \"\"\n      }\n    }\n  ]\n}"
            }
          },
          "metadata": {},
          "execution_count": 271
        }
      ]
    },
    {
      "cell_type": "code",
      "source": [
        "from sklearn.metrics import accuracy_score\n",
        "\n",
        "y_true = df_autoML['Survived']\n",
        "y_pred = titanic_pred_pd['Survived']\n",
        "\n",
        "accuracy8 = accuracy_score(y_true, y_pred)\n",
        "\n",
        "print(f\"Precisión: {accuracy8:.2%}\")\n"
      ],
      "metadata": {
        "colab": {
          "base_uri": "https://localhost:8080/"
        },
        "id": "HZeQYjsHO23V",
        "outputId": "7208ac9b-c018-45fa-b6d3-df42674eb645"
      },
      "execution_count": 272,
      "outputs": [
        {
          "output_type": "stream",
          "name": "stdout",
          "text": [
            "Precisión: 89.45%\n"
          ]
        }
      ]
    },
    {
      "cell_type": "code",
      "source": [
        "accuracy.append(accuracy8)"
      ],
      "metadata": {
        "id": "ArF9Gi01RAdT"
      },
      "execution_count": 273,
      "outputs": []
    },
    {
      "cell_type": "code",
      "source": [
        "best_nombre=best_autoML_name.as_data_frame()\n"
      ],
      "metadata": {
        "colab": {
          "base_uri": "https://localhost:8080/"
        },
        "id": "W5FqRFh1SbuK",
        "outputId": "67051b10-532e-45a4-b667-0aff99cea9d5"
      },
      "execution_count": 274,
      "outputs": [
        {
          "output_type": "stream",
          "name": "stderr",
          "text": [
            "/usr/local/lib/python3.10/dist-packages/h2o/frame.py:1983: H2ODependencyWarning: Converting H2O frame to pandas dataframe using single-thread.  For faster conversion using multi-thread, install datatable (for Python 3.9 or lower), or polars and pyarrow (for Python 3.10 or above) and activate it using:\n",
            "\n",
            "with h2o.utils.threading.local_context(polars_enabled=True, datatable_enabled=True):\n",
            "    pandas_df = h2o_df.as_data_frame()\n",
            "\n",
            "  warnings.warn(\"Converting H2O frame to pandas dataframe using single-thread.  For faster conversion using\"\n"
          ]
        }
      ]
    },
    {
      "cell_type": "markdown",
      "metadata": {
        "papermill": {
          "duration": 0.105067,
          "end_time": "2020-08-25T11:38:40.111537",
          "exception": false,
          "start_time": "2020-08-25T11:38:40.006470",
          "status": "completed"
        },
        "tags": [],
        "id": "mV0us98jJGkq"
      },
      "source": [
        "**Now let us compare our models through visualization.**"
      ]
    },
    {
      "cell_type": "code",
      "execution_count": 275,
      "metadata": {
        "execution": {
          "iopub.execute_input": "2020-08-25T11:38:40.327844Z",
          "iopub.status.busy": "2020-08-25T11:38:40.327002Z",
          "iopub.status.idle": "2020-08-25T11:38:40.330544Z",
          "shell.execute_reply": "2020-08-25T11:38:40.329774Z"
        },
        "papermill": {
          "duration": 0.114044,
          "end_time": "2020-08-25T11:38:40.330673",
          "exception": false,
          "start_time": "2020-08-25T11:38:40.216629",
          "status": "completed"
        },
        "tags": [],
        "id": "RKN66W2AJGkr"
      },
      "outputs": [],
      "source": [
        "#names = ['Logistic Regression', 'GBTClassifier', 'LinearSVC', 'DecisionTreeClassifier', 'RandomForestClassifier', 'MultilayerPerceptronClassifier']\n",
        "\n",
        "names = ['Logistic Regression', 'GBTClassifier', 'LinearSVC', 'DecisionTreeClassifier', 'RandomForestClassifier', 'MPC']\n",
        "\n",
        "\n",
        "#añado el nombre del mejor modelo que ha calculado autoML a la lista de nombres\n",
        "name=best_nombre.loc[0][0]\n",
        "\n",
        "names.append(name[:30])"
      ]
    },
    {
      "cell_type": "code",
      "source": [
        "print(accuracy)\n",
        "print(names)"
      ],
      "metadata": {
        "colab": {
          "base_uri": "https://localhost:8080/"
        },
        "id": "sJGpyv27WCK5",
        "outputId": "7545efcb-7db5-4b28-fc63-1b3a0338f53a"
      },
      "execution_count": 276,
      "outputs": [
        {
          "output_type": "stream",
          "name": "stdout",
          "text": [
            "[0.819304152637486, 0.9450056116722784, 0.8114478114478114, 0.8496071829405163, 0.8484848484848485, 0.813692480359147, 0.8945005611672279]\n",
            "['Logistic Regression', 'GBTClassifier', 'LinearSVC', 'DecisionTreeClassifier', 'RandomForestClassifier', 'MPC', 'GBM_grid_1_AutoML_19_20240403_']\n"
          ]
        }
      ]
    },
    {
      "cell_type": "code",
      "execution_count": 277,
      "metadata": {
        "execution": {
          "iopub.execute_input": "2020-08-25T11:38:40.554373Z",
          "iopub.status.busy": "2020-08-25T11:38:40.553451Z",
          "iopub.status.idle": "2020-08-25T11:38:40.893175Z",
          "shell.execute_reply": "2020-08-25T11:38:40.892304Z"
        },
        "papermill": {
          "duration": 0.458394,
          "end_time": "2020-08-25T11:38:40.893314",
          "exception": false,
          "start_time": "2020-08-25T11:38:40.434920",
          "status": "completed"
        },
        "tags": [],
        "id": "y5x74dbXJGkr",
        "outputId": "7f82fb4f-ad22-4fb2-9306-d9dc749b7216",
        "colab": {
          "base_uri": "https://localhost:8080/",
          "height": 770
        }
      },
      "outputs": [
        {
          "output_type": "display_data",
          "data": {
            "text/plain": [
              "<Figure size 1500x1000 with 2 Axes>"
            ],
            "image/png": "[encoded data removed]"
          },
          "metadata": {}
        }
      ],
      "source": [
        "fig, ax = plt.subplots(2,1, figsize=(15,10))\n",
        "sns.barplot(x=names, y=accuracy, ax=ax[0])\n",
        "sns.pointplot(x=names, y=accuracy, ax=ax[1])\n",
        "plt.show()"
      ]
    },
    {
      "cell_type": "markdown",
      "metadata": {
        "papermill": {
          "duration": 0.104059,
          "end_time": "2020-08-25T11:38:41.105060",
          "exception": false,
          "start_time": "2020-08-25T11:38:41.001001",
          "status": "completed"
        },
        "tags": [],
        "id": "i-FdH1JpJGkr"
      },
      "source": [
        "**As we have observed that GBTClasifer method has the highest accuracy so now let us see some of the predictions through by GBTClassifer method.**"
      ]
    },
    {
      "cell_type": "code",
      "execution_count": 278,
      "metadata": {
        "execution": {
          "iopub.execute_input": "2020-08-25T11:38:41.365863Z",
          "iopub.status.busy": "2020-08-25T11:38:41.364983Z",
          "iopub.status.idle": "2020-08-25T11:38:41.618432Z",
          "shell.execute_reply": "2020-08-25T11:38:41.617387Z"
        },
        "papermill": {
          "duration": 0.407255,
          "end_time": "2020-08-25T11:38:41.618653",
          "exception": false,
          "start_time": "2020-08-25T11:38:41.211398",
          "status": "completed"
        },
        "tags": [],
        "id": "MzsA7pnZJGkr",
        "outputId": "fc5a745c-ff39-42e0-a32b-ed5b1dad5bc7",
        "colab": {
          "base_uri": "https://localhost:8080/"
        }
      },
      "outputs": [
        {
          "output_type": "stream",
          "name": "stdout",
          "text": [
            "+--------+----------+\n",
            "|Survived|prediction|\n",
            "+--------+----------+\n",
            "|     0.0|       0.0|\n",
            "|     1.0|       1.0|\n",
            "|     1.0|       1.0|\n",
            "|     1.0|       1.0|\n",
            "|     0.0|       0.0|\n",
            "|     0.0|       0.0|\n",
            "|     0.0|       0.0|\n",
            "|     0.0|       0.0|\n",
            "|     1.0|       1.0|\n",
            "|     1.0|       1.0|\n",
            "|     1.0|       1.0|\n",
            "|     1.0|       1.0|\n",
            "|     0.0|       0.0|\n",
            "|     0.0|       0.0|\n",
            "|     0.0|       0.0|\n",
            "|     1.0|       1.0|\n",
            "|     0.0|       0.0|\n",
            "|     1.0|       1.0|\n",
            "|     0.0|       0.0|\n",
            "|     1.0|       1.0|\n",
            "+--------+----------+\n",
            "only showing top 20 rows\n",
            "\n"
          ]
        }
      ],
      "source": [
        "predictions2.select(\"Survived\", \"prediction\").show()"
      ]
    },
    {
      "cell_type": "markdown",
      "metadata": {
        "papermill": {
          "duration": 0.105208,
          "end_time": "2020-08-25T11:38:41.837914",
          "exception": false,
          "start_time": "2020-08-25T11:38:41.732706",
          "status": "completed"
        },
        "tags": [],
        "id": "UZbZsf8-JGkr"
      },
      "source": [
        "**Now its time to apply our trained model to our test data. We will do this by appling transform method and we will use GBTClassifier model because it has the highest accuracy.**"
      ]
    },
    {
      "cell_type": "code",
      "execution_count": 279,
      "metadata": {
        "collapsed": true,
        "execution": {
          "iopub.execute_input": "2020-08-25T11:38:42.055496Z",
          "iopub.status.busy": "2020-08-25T11:38:42.054438Z",
          "iopub.status.idle": "2020-08-25T11:38:42.768210Z",
          "shell.execute_reply": "2020-08-25T11:38:42.768833Z"
        },
        "papermill": {
          "duration": 0.826394,
          "end_time": "2020-08-25T11:38:42.769015",
          "exception": false,
          "start_time": "2020-08-25T11:38:41.942621",
          "status": "completed"
        },
        "tags": [],
        "id": "cEbJj7H9JGkr"
      },
      "outputs": [],
      "source": [
        "test = sqlContext.createDataFrame(test)\n",
        "predictions = model2.transform(test)\n",
        "predictions = predictions.toPandas()"
      ]
    },
    {
      "cell_type": "markdown",
      "metadata": {
        "papermill": {
          "duration": 0.108299,
          "end_time": "2020-08-25T11:38:43.625139",
          "exception": false,
          "start_time": "2020-08-25T11:38:43.516840",
          "status": "completed"
        },
        "tags": [],
        "id": "hSmwSqDWJGkr"
      },
      "source": [
        "<a id='7'></a>\n",
        "# **Predictions**"
      ]
    },
    {
      "cell_type": "code",
      "execution_count": 280,
      "metadata": {
        "execution": {
          "iopub.execute_input": "2020-08-25T11:38:43.855163Z",
          "iopub.status.busy": "2020-08-25T11:38:43.854164Z",
          "iopub.status.idle": "2020-08-25T11:38:43.859856Z",
          "shell.execute_reply": "2020-08-25T11:38:43.859200Z"
        },
        "papermill": {
          "duration": 0.127257,
          "end_time": "2020-08-25T11:38:43.859998",
          "exception": false,
          "start_time": "2020-08-25T11:38:43.732741",
          "status": "completed"
        },
        "tags": [],
        "id": "1HQW3gY9JGkr",
        "outputId": "d9369673-89c6-4d1c-ba38-132d8d675a06",
        "colab": {
          "base_uri": "https://localhost:8080/",
          "height": 206
        }
      },
      "outputs": [
        {
          "output_type": "execute_result",
          "data": {
            "text/plain": [
              "   PassengerId  Survived\n",
              "0          892       0.0\n",
              "1          893       0.0\n",
              "2          894       0.0\n",
              "3          895       0.0\n",
              "4          896       1.0"
            ],
            "text/html": [
              "\n",
              "  <div id=\"df-f4206296-ab48-480b-a934-cb124a7379b0\" class=\"colab-df-container\">\n",
              "    <div>\n",
              "<style scoped>\n",
              "    .dataframe tbody tr th:only-of-type {\n",
              "        vertical-align: middle;\n",
              "    }\n",
              "\n",
              "    .dataframe tbody tr th {\n",
              "        vertical-align: top;\n",
              "    }\n",
              "\n",
              "    .dataframe thead th {\n",
              "        text-align: right;\n",
              "    }\n",
              "</style>\n",
              "<table border=\"1\" class=\"dataframe\">\n",
              "  <thead>\n",
              "    <tr style=\"text-align: right;\">\n",
              "      <th></th>\n",
              "      <th>PassengerId</th>\n",
              "      <th>Survived</th>\n",
              "    </tr>\n",
              "  </thead>\n",
              "  <tbody>\n",
              "    <tr>\n",
              "      <th>0</th>\n",
              "      <td>892</td>\n",
              "      <td>0.0</td>\n",
              "    </tr>\n",
              "    <tr>\n",
              "      <th>1</th>\n",
              "      <td>893</td>\n",
              "      <td>0.0</td>\n",
              "    </tr>\n",
              "    <tr>\n",
              "      <th>2</th>\n",
              "      <td>894</td>\n",
              "      <td>0.0</td>\n",
              "    </tr>\n",
              "    <tr>\n",
              "      <th>3</th>\n",
              "      <td>895</td>\n",
              "      <td>0.0</td>\n",
              "    </tr>\n",
              "    <tr>\n",
              "      <th>4</th>\n",
              "      <td>896</td>\n",
              "      <td>1.0</td>\n",
              "    </tr>\n",
              "  </tbody>\n",
              "</table>\n",
              "</div>\n",
              "    <div class=\"colab-df-buttons\">\n",
              "\n",
              "  <div class=\"colab-df-container\">\n",
              "    <button class=\"colab-df-convert\" onclick=\"convertToInteractive('df-f4206296-ab48-480b-a934-cb124a7379b0')\"\n",
              "            title=\"Convert this dataframe to an interactive table.\"\n",
              "            style=\"display:none;\">\n",
              "\n",
              "  <svg xmlns=\"http://www.w3.org/2000/svg\" height=\"24px\" viewBox=\"0 -960 960 960\">\n",
              "    <path d=\"M120-120v-720h720v720H120Zm60-500h600v-160H180v160Zm220 220h160v-160H400v160Zm0 220h160v-160H400v160ZM180-400h160v-160H180v160Zm440 0h160v-160H620v160ZM180-180h160v-160H180v160Zm440 0h160v-160H620v160Z\"/>\n",
              "  </svg>\n",
              "    </button>\n",
              "\n",
              "  <style>\n",
              "    .colab-df-container {\n",
              "      display:flex;\n",
              "      gap: 12px;\n",
              "    }\n",
              "\n",
              "    .colab-df-convert {\n",
              "      background-color: #E8F0FE;\n",
              "      border: none;\n",
              "      border-radius: 50%;\n",
              "      cursor: pointer;\n",
              "      display: none;\n",
              "      fill: #1967D2;\n",
              "      height: 32px;\n",
              "      padding: 0 0 0 0;\n",
              "      width: 32px;\n",
              "    }\n",
              "\n",
              "    .colab-df-convert:hover {\n",
              "      background-color: #E2EBFA;\n",
              "      box-shadow: 0px 1px 2px rgba(60, 64, 67, 0.3), 0px 1px 3px 1px rgba(60, 64, 67, 0.15);\n",
              "      fill: #174EA6;\n",
              "    }\n",
              "\n",
              "    .colab-df-buttons div {\n",
              "      margin-bottom: 4px;\n",
              "    }\n",
              "\n",
              "    [theme=dark] .colab-df-convert {\n",
              "      background-color: #3B4455;\n",
              "      fill: #D2E3FC;\n",
              "    }\n",
              "\n",
              "    [theme=dark] .colab-df-convert:hover {\n",
              "      background-color: #434B5C;\n",
              "      box-shadow: 0px 1px 3px 1px rgba(0, 0, 0, 0.15);\n",
              "      filter: drop-shadow(0px 1px 2px rgba(0, 0, 0, 0.3));\n",
              "      fill: #FFFFFF;\n",
              "    }\n",
              "  </style>\n",
              "\n",
              "    <script>\n",
              "      const buttonEl =\n",
              "        document.querySelector('#df-f4206296-ab48-480b-a934-cb124a7379b0 button.colab-df-convert');\n",
              "      buttonEl.style.display =\n",
              "        google.colab.kernel.accessAllowed ? 'block' : 'none';\n",
              "\n",
              "      async function convertToInteractive(key) {\n",
              "        const element = document.querySelector('#df-f4206296-ab48-480b-a934-cb124a7379b0');\n",
              "        const dataTable =\n",
              "          await google.colab.kernel.invokeFunction('convertToInteractive',\n",
              "                                                    [key], {});\n",
              "        if (!dataTable) return;\n",
              "\n",
              "        const docLinkHtml = 'Like what you see? Visit the ' +\n",
              "          '<a target=\"_blank\" href=https://colab.research.google.com/notebooks/data_table.ipynb>data table notebook</a>'\n",
              "          + ' to learn more about interactive tables.';\n",
              "        element.innerHTML = '';\n",
              "        dataTable['output_type'] = 'display_data';\n",
              "        await google.colab.output.renderOutput(dataTable, element);\n",
              "        const docLink = document.createElement('div');\n",
              "        docLink.innerHTML = docLinkHtml;\n",
              "        element.appendChild(docLink);\n",
              "      }\n",
              "    </script>\n",
              "  </div>\n",
              "\n",
              "\n",
              "<div id=\"df-711b8ae1-51a0-4f7e-b5dd-8fc61e8bf985\">\n",
              "  <button class=\"colab-df-quickchart\" onclick=\"quickchart('df-711b8ae1-51a0-4f7e-b5dd-8fc61e8bf985')\"\n",
              "            title=\"Suggest charts\"\n",
              "            style=\"display:none;\">\n",
              "\n",
              "<svg xmlns=\"http://www.w3.org/2000/svg\" height=\"24px\"viewBox=\"0 0 24 24\"\n",
              "     width=\"24px\">\n",
              "    <g>\n",
              "        <path d=\"M19 3H5c-1.1 0-2 .9-2 2v14c0 1.1.9 2 2 2h14c1.1 0 2-.9 2-2V5c0-1.1-.9-2-2-2zM9 17H7v-7h2v7zm4 0h-2V7h2v10zm4 0h-2v-4h2v4z\"/>\n",
              "    </g>\n",
              "</svg>\n",
              "  </button>\n",
              "\n",
              "<style>\n",
              "  .colab-df-quickchart {\n",
              "      --bg-color: #E8F0FE;\n",
              "      --fill-color: #1967D2;\n",
              "      --hover-bg-color: #E2EBFA;\n",
              "      --hover-fill-color: #174EA6;\n",
              "      --disabled-fill-color: #AAA;\n",
              "      --disabled-bg-color: #DDD;\n",
              "  }\n",
              "\n",
              "  [theme=dark] .colab-df-quickchart {\n",
              "      --bg-color: #3B4455;\n",
              "      --fill-color: #D2E3FC;\n",
              "      --hover-bg-color: #434B5C;\n",
              "      --hover-fill-color: #FFFFFF;\n",
              "      --disabled-bg-color: #3B4455;\n",
              "      --disabled-fill-color: #666;\n",
              "  }\n",
              "\n",
              "  .colab-df-quickchart {\n",
              "    background-color: var(--bg-color);\n",
              "    border: none;\n",
              "    border-radius: 50%;\n",
              "    cursor: pointer;\n",
              "    display: none;\n",
              "    fill: var(--fill-color);\n",
              "    height: 32px;\n",
              "    padding: 0;\n",
              "    width: 32px;\n",
              "  }\n",
              "\n",
              "  .colab-df-quickchart:hover {\n",
              "    background-color: var(--hover-bg-color);\n",
              "    box-shadow: 0 1px 2px rgba(60, 64, 67, 0.3), 0 1px 3px 1px rgba(60, 64, 67, 0.15);\n",
              "    fill: var(--button-hover-fill-color);\n",
              "  }\n",
              "\n",
              "  .colab-df-quickchart-complete:disabled,\n",
              "  .colab-df-quickchart-complete:disabled:hover {\n",
              "    background-color: var(--disabled-bg-color);\n",
              "    fill: var(--disabled-fill-color);\n",
              "    box-shadow: none;\n",
              "  }\n",
              "\n",
              "  .colab-df-spinner {\n",
              "    border: 2px solid var(--fill-color);\n",
              "    border-color: transparent;\n",
              "    border-bottom-color: var(--fill-color);\n",
              "    animation:\n",
              "      spin 1s steps(1) infinite;\n",
              "  }\n",
              "\n",
              "  @keyframes spin {\n",
              "    0% {\n",
              "      border-color: transparent;\n",
              "      border-bottom-color: var(--fill-color);\n",
              "      border-left-color: var(--fill-color);\n",
              "    }\n",
              "    20% {\n",
              "      border-color: transparent;\n",
              "      border-left-color: var(--fill-color);\n",
              "      border-top-color: var(--fill-color);\n",
              "    }\n",
              "    30% {\n",
              "      border-color: transparent;\n",
              "      border-left-color: var(--fill-color);\n",
              "      border-top-color: var(--fill-color);\n",
              "      border-right-color: var(--fill-color);\n",
              "    }\n",
              "    40% {\n",
              "      border-color: transparent;\n",
              "      border-right-color: var(--fill-color);\n",
              "      border-top-color: var(--fill-color);\n",
              "    }\n",
              "    60% {\n",
              "      border-color: transparent;\n",
              "      border-right-color: var(--fill-color);\n",
              "    }\n",
              "    80% {\n",
              "      border-color: transparent;\n",
              "      border-right-color: var(--fill-color);\n",
              "      border-bottom-color: var(--fill-color);\n",
              "    }\n",
              "    90% {\n",
              "      border-color: transparent;\n",
              "      border-bottom-color: var(--fill-color);\n",
              "    }\n",
              "  }\n",
              "</style>\n",
              "\n",
              "  <script>\n",
              "    async function quickchart(key) {\n",
              "      const quickchartButtonEl =\n",
              "        document.querySelector('#' + key + ' button');\n",
              "      quickchartButtonEl.disabled = true;  // To prevent multiple clicks.\n",
              "      quickchartButtonEl.classList.add('colab-df-spinner');\n",
              "      try {\n",
              "        const charts = await google.colab.kernel.invokeFunction(\n",
              "            'suggestCharts', [key], {});\n",
              "      } catch (error) {\n",
              "        console.error('Error during call to suggestCharts:', error);\n",
              "      }\n",
              "      quickchartButtonEl.classList.remove('colab-df-spinner');\n",
              "      quickchartButtonEl.classList.add('colab-df-quickchart-complete');\n",
              "    }\n",
              "    (() => {\n",
              "      let quickchartButtonEl =\n",
              "        document.querySelector('#df-711b8ae1-51a0-4f7e-b5dd-8fc61e8bf985 button');\n",
              "      quickchartButtonEl.style.display =\n",
              "        google.colab.kernel.accessAllowed ? 'block' : 'none';\n",
              "    })();\n",
              "  </script>\n",
              "</div>\n",
              "    </div>\n",
              "  </div>\n"
            ],
            "application/vnd.google.colaboratory.intrinsic+json": {
              "type": "dataframe",
              "variable_name": "sub_df",
              "summary": "{\n  \"name\": \"sub_df\",\n  \"rows\": 418,\n  \"fields\": [\n    {\n      \"column\": \"PassengerId\",\n      \"properties\": {\n        \"dtype\": \"number\",\n        \"std\": 120,\n        \"min\": 892,\n        \"max\": 1309,\n        \"num_unique_values\": 418,\n        \"samples\": [\n          1213,\n          1216,\n          1280\n        ],\n        \"semantic_type\": \"\",\n        \"description\": \"\"\n      }\n    },\n    {\n      \"column\": \"Survived\",\n      \"properties\": {\n        \"dtype\": \"number\",\n        \"std\": 0.4795270446923685,\n        \"min\": 0.0,\n        \"max\": 1.0,\n        \"num_unique_values\": 2,\n        \"samples\": [\n          1.0,\n          0.0\n        ],\n        \"semantic_type\": \"\",\n        \"description\": \"\"\n      }\n    }\n  ]\n}"
            }
          },
          "metadata": {},
          "execution_count": 280
        }
      ],
      "source": [
        "sub_df['Survived'] = predictions['prediction']\n",
        "sub_df.head()"
      ]
    },
    {
      "cell_type": "code",
      "source": [],
      "metadata": {
        "id": "gkeB3MuFcxK9"
      },
      "execution_count": null,
      "outputs": []
    }
  ],
  "metadata": {
    "kernelspec": {
      "display_name": "Python [conda env:spark]",
      "language": "python",
      "name": "conda-env-spark-py"
    },
    "language_info": {
      "codemirror_mode": {
        "name": "ipython",
        "version": 3
      },
      "file_extension": ".py",
      "mimetype": "text/x-python",
      "name": "python",
      "nbconvert_exporter": "python",
      "pygments_lexer": "ipython3",
      "version": "3.11.8"
    },
    "papermill": {
      "duration": 203.316951,
      "end_time": "2020-08-25T11:38:45.543241",
      "environment_variables": {},
      "exception": null,
      "input_path": "__notebook__.ipynb",
      "output_path": "__notebook__.ipynb",
      "parameters": {},
      "start_time": "2020-08-25T11:35:22.226290",
      "version": "2.1.0"
    },
    "colab": {
      "provenance": []
    }
  },
  "nbformat": 4,
  "nbformat_minor": 0
}